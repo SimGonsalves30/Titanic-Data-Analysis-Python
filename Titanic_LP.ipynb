{
  "cells": [
    {
      "cell_type": "markdown",
      "metadata": {
        "id": "ZbQHBdHNPVzn"
      },
      "source": [
        "# Importing required libraries"
      ]
    },
    {
      "cell_type": "code",
      "execution_count": null,
      "metadata": {
        "id": "8yQvfrUVPVz1"
      },
      "outputs": [],
      "source": [
        "import numpy as np\n",
        "import pandas as pd\n",
        "import matplotlib.pyplot as plt\n",
        "import seaborn as sns"
      ]
    },
    {
      "cell_type": "markdown",
      "metadata": {
        "id": "DbwHI7rEPVz7"
      },
      "source": [
        "# Reading the file"
      ]
    },
    {
      "cell_type": "code",
      "execution_count": null,
      "metadata": {
        "id": "JYOaC4_UPVz8"
      },
      "outputs": [],
      "source": [
        "df=pd.read_csv(\"C:\\\\Users\\\\91963\\\\Desktop\\\\levina BDA\\\\SEMESTER 2\\\\Machine Learning\\\\train.csv\",header=0) # header present at beginning in dataset. header=None if no header"
      ]
    },
    {
      "cell_type": "markdown",
      "metadata": {
        "id": "sMFV4OQZPVz-"
      },
      "source": [
        "# Looking at the data"
      ]
    },
    {
      "cell_type": "code",
      "execution_count": null,
      "metadata": {
        "id": "QBo0zp3yPVz_",
        "outputId": "9402c067-1fb6-4c2f-9c3f-f7d066fa23a7"
      },
      "outputs": [
        {
          "data": {
            "text/plain": [
              "array(['PassengerId', 'Survived', 'Pclass', 'Name', 'Sex', 'Age', 'SibSp',\n",
              "       'Parch', 'Ticket', 'Fare', 'Cabin', 'Embarked'], dtype=object)"
            ]
          },
          "execution_count": 3,
          "metadata": {},
          "output_type": "execute_result"
        }
      ],
      "source": [
        "df.columns.values #to see all the titles"
      ]
    },
    {
      "cell_type": "code",
      "execution_count": null,
      "metadata": {
        "id": "erv1bItGPV0F",
        "outputId": "162bcaa6-4d1b-4fa4-d43c-98257d76089f"
      },
      "outputs": [
        {
          "data": {
            "text/html": [
              "<div>\n",
              "<style scoped>\n",
              "    .dataframe tbody tr th:only-of-type {\n",
              "        vertical-align: middle;\n",
              "    }\n",
              "\n",
              "    .dataframe tbody tr th {\n",
              "        vertical-align: top;\n",
              "    }\n",
              "\n",
              "    .dataframe thead th {\n",
              "        text-align: right;\n",
              "    }\n",
              "</style>\n",
              "<table border=\"1\" class=\"dataframe\">\n",
              "  <thead>\n",
              "    <tr style=\"text-align: right;\">\n",
              "      <th></th>\n",
              "      <th>PassengerId</th>\n",
              "      <th>Survived</th>\n",
              "      <th>Pclass</th>\n",
              "      <th>Name</th>\n",
              "      <th>Sex</th>\n",
              "      <th>Age</th>\n",
              "      <th>SibSp</th>\n",
              "      <th>Parch</th>\n",
              "      <th>Ticket</th>\n",
              "      <th>Fare</th>\n",
              "      <th>Cabin</th>\n",
              "      <th>Embarked</th>\n",
              "    </tr>\n",
              "  </thead>\n",
              "  <tbody>\n",
              "    <tr>\n",
              "      <th>0</th>\n",
              "      <td>1</td>\n",
              "      <td>0</td>\n",
              "      <td>3</td>\n",
              "      <td>Braund, Mr. Owen Harris</td>\n",
              "      <td>male</td>\n",
              "      <td>22.0</td>\n",
              "      <td>1</td>\n",
              "      <td>0</td>\n",
              "      <td>A/5 21171</td>\n",
              "      <td>7.2500</td>\n",
              "      <td>NaN</td>\n",
              "      <td>S</td>\n",
              "    </tr>\n",
              "    <tr>\n",
              "      <th>1</th>\n",
              "      <td>2</td>\n",
              "      <td>1</td>\n",
              "      <td>1</td>\n",
              "      <td>Cumings, Mrs. John Bradley (Florence Briggs Th...</td>\n",
              "      <td>female</td>\n",
              "      <td>38.0</td>\n",
              "      <td>1</td>\n",
              "      <td>0</td>\n",
              "      <td>PC 17599</td>\n",
              "      <td>71.2833</td>\n",
              "      <td>C85</td>\n",
              "      <td>C</td>\n",
              "    </tr>\n",
              "    <tr>\n",
              "      <th>2</th>\n",
              "      <td>3</td>\n",
              "      <td>1</td>\n",
              "      <td>3</td>\n",
              "      <td>Heikkinen, Miss. Laina</td>\n",
              "      <td>female</td>\n",
              "      <td>26.0</td>\n",
              "      <td>0</td>\n",
              "      <td>0</td>\n",
              "      <td>STON/O2. 3101282</td>\n",
              "      <td>7.9250</td>\n",
              "      <td>NaN</td>\n",
              "      <td>S</td>\n",
              "    </tr>\n",
              "    <tr>\n",
              "      <th>3</th>\n",
              "      <td>4</td>\n",
              "      <td>1</td>\n",
              "      <td>1</td>\n",
              "      <td>Futrelle, Mrs. Jacques Heath (Lily May Peel)</td>\n",
              "      <td>female</td>\n",
              "      <td>35.0</td>\n",
              "      <td>1</td>\n",
              "      <td>0</td>\n",
              "      <td>113803</td>\n",
              "      <td>53.1000</td>\n",
              "      <td>C123</td>\n",
              "      <td>S</td>\n",
              "    </tr>\n",
              "    <tr>\n",
              "      <th>4</th>\n",
              "      <td>5</td>\n",
              "      <td>0</td>\n",
              "      <td>3</td>\n",
              "      <td>Allen, Mr. William Henry</td>\n",
              "      <td>male</td>\n",
              "      <td>35.0</td>\n",
              "      <td>0</td>\n",
              "      <td>0</td>\n",
              "      <td>373450</td>\n",
              "      <td>8.0500</td>\n",
              "      <td>NaN</td>\n",
              "      <td>S</td>\n",
              "    </tr>\n",
              "  </tbody>\n",
              "</table>\n",
              "</div>"
            ],
            "text/plain": [
              "   PassengerId  Survived  Pclass  \\\n",
              "0            1         0       3   \n",
              "1            2         1       1   \n",
              "2            3         1       3   \n",
              "3            4         1       1   \n",
              "4            5         0       3   \n",
              "\n",
              "                                                Name     Sex   Age  SibSp  \\\n",
              "0                            Braund, Mr. Owen Harris    male  22.0      1   \n",
              "1  Cumings, Mrs. John Bradley (Florence Briggs Th...  female  38.0      1   \n",
              "2                             Heikkinen, Miss. Laina  female  26.0      0   \n",
              "3       Futrelle, Mrs. Jacques Heath (Lily May Peel)  female  35.0      1   \n",
              "4                           Allen, Mr. William Henry    male  35.0      0   \n",
              "\n",
              "   Parch            Ticket     Fare Cabin Embarked  \n",
              "0      0         A/5 21171   7.2500   NaN        S  \n",
              "1      0          PC 17599  71.2833   C85        C  \n",
              "2      0  STON/O2. 3101282   7.9250   NaN        S  \n",
              "3      0            113803  53.1000  C123        S  \n",
              "4      0            373450   8.0500   NaN        S  "
            ]
          },
          "execution_count": 4,
          "metadata": {},
          "output_type": "execute_result"
        }
      ],
      "source": [
        "df.head()   #see first few rows"
      ]
    },
    {
      "cell_type": "code",
      "execution_count": null,
      "metadata": {
        "id": "gNbMgMr5PV0I",
        "outputId": "eba0e1de-3972-4e2b-fa44-6d4ed8ca1ea2"
      },
      "outputs": [
        {
          "data": {
            "text/html": [
              "<div>\n",
              "<style scoped>\n",
              "    .dataframe tbody tr th:only-of-type {\n",
              "        vertical-align: middle;\n",
              "    }\n",
              "\n",
              "    .dataframe tbody tr th {\n",
              "        vertical-align: top;\n",
              "    }\n",
              "\n",
              "    .dataframe thead th {\n",
              "        text-align: right;\n",
              "    }\n",
              "</style>\n",
              "<table border=\"1\" class=\"dataframe\">\n",
              "  <thead>\n",
              "    <tr style=\"text-align: right;\">\n",
              "      <th></th>\n",
              "      <th>PassengerId</th>\n",
              "      <th>Survived</th>\n",
              "      <th>Pclass</th>\n",
              "      <th>Name</th>\n",
              "      <th>Sex</th>\n",
              "      <th>Age</th>\n",
              "      <th>SibSp</th>\n",
              "      <th>Parch</th>\n",
              "      <th>Ticket</th>\n",
              "      <th>Fare</th>\n",
              "      <th>Cabin</th>\n",
              "      <th>Embarked</th>\n",
              "    </tr>\n",
              "  </thead>\n",
              "  <tbody>\n",
              "    <tr>\n",
              "      <th>886</th>\n",
              "      <td>887</td>\n",
              "      <td>0</td>\n",
              "      <td>2</td>\n",
              "      <td>Montvila, Rev. Juozas</td>\n",
              "      <td>male</td>\n",
              "      <td>27.0</td>\n",
              "      <td>0</td>\n",
              "      <td>0</td>\n",
              "      <td>211536</td>\n",
              "      <td>13.00</td>\n",
              "      <td>NaN</td>\n",
              "      <td>S</td>\n",
              "    </tr>\n",
              "    <tr>\n",
              "      <th>887</th>\n",
              "      <td>888</td>\n",
              "      <td>1</td>\n",
              "      <td>1</td>\n",
              "      <td>Graham, Miss. Margaret Edith</td>\n",
              "      <td>female</td>\n",
              "      <td>19.0</td>\n",
              "      <td>0</td>\n",
              "      <td>0</td>\n",
              "      <td>112053</td>\n",
              "      <td>30.00</td>\n",
              "      <td>B42</td>\n",
              "      <td>S</td>\n",
              "    </tr>\n",
              "    <tr>\n",
              "      <th>888</th>\n",
              "      <td>889</td>\n",
              "      <td>0</td>\n",
              "      <td>3</td>\n",
              "      <td>Johnston, Miss. Catherine Helen \"Carrie\"</td>\n",
              "      <td>female</td>\n",
              "      <td>NaN</td>\n",
              "      <td>1</td>\n",
              "      <td>2</td>\n",
              "      <td>W./C. 6607</td>\n",
              "      <td>23.45</td>\n",
              "      <td>NaN</td>\n",
              "      <td>S</td>\n",
              "    </tr>\n",
              "    <tr>\n",
              "      <th>889</th>\n",
              "      <td>890</td>\n",
              "      <td>1</td>\n",
              "      <td>1</td>\n",
              "      <td>Behr, Mr. Karl Howell</td>\n",
              "      <td>male</td>\n",
              "      <td>26.0</td>\n",
              "      <td>0</td>\n",
              "      <td>0</td>\n",
              "      <td>111369</td>\n",
              "      <td>30.00</td>\n",
              "      <td>C148</td>\n",
              "      <td>C</td>\n",
              "    </tr>\n",
              "    <tr>\n",
              "      <th>890</th>\n",
              "      <td>891</td>\n",
              "      <td>0</td>\n",
              "      <td>3</td>\n",
              "      <td>Dooley, Mr. Patrick</td>\n",
              "      <td>male</td>\n",
              "      <td>32.0</td>\n",
              "      <td>0</td>\n",
              "      <td>0</td>\n",
              "      <td>370376</td>\n",
              "      <td>7.75</td>\n",
              "      <td>NaN</td>\n",
              "      <td>Q</td>\n",
              "    </tr>\n",
              "  </tbody>\n",
              "</table>\n",
              "</div>"
            ],
            "text/plain": [
              "     PassengerId  Survived  Pclass                                      Name  \\\n",
              "886          887         0       2                     Montvila, Rev. Juozas   \n",
              "887          888         1       1              Graham, Miss. Margaret Edith   \n",
              "888          889         0       3  Johnston, Miss. Catherine Helen \"Carrie\"   \n",
              "889          890         1       1                     Behr, Mr. Karl Howell   \n",
              "890          891         0       3                       Dooley, Mr. Patrick   \n",
              "\n",
              "        Sex   Age  SibSp  Parch      Ticket   Fare Cabin Embarked  \n",
              "886    male  27.0      0      0      211536  13.00   NaN        S  \n",
              "887  female  19.0      0      0      112053  30.00   B42        S  \n",
              "888  female   NaN      1      2  W./C. 6607  23.45   NaN        S  \n",
              "889    male  26.0      0      0      111369  30.00  C148        C  \n",
              "890    male  32.0      0      0      370376   7.75   NaN        Q  "
            ]
          },
          "execution_count": 5,
          "metadata": {},
          "output_type": "execute_result"
        }
      ],
      "source": [
        "df.tail() #see last few rows"
      ]
    },
    {
      "cell_type": "code",
      "execution_count": null,
      "metadata": {
        "id": "aQsgcFP9PV0L",
        "outputId": "59d587df-4f35-4851-c7b8-fd255125da3b"
      },
      "outputs": [
        {
          "name": "stdout",
          "output_type": "stream",
          "text": [
            "<class 'pandas.core.frame.DataFrame'>\n",
            "RangeIndex: 891 entries, 0 to 890\n",
            "Data columns (total 12 columns):\n",
            " #   Column       Non-Null Count  Dtype  \n",
            "---  ------       --------------  -----  \n",
            " 0   PassengerId  891 non-null    int64  \n",
            " 1   Survived     891 non-null    int64  \n",
            " 2   Pclass       891 non-null    int64  \n",
            " 3   Name         891 non-null    object \n",
            " 4   Sex          891 non-null    object \n",
            " 5   Age          714 non-null    float64\n",
            " 6   SibSp        891 non-null    int64  \n",
            " 7   Parch        891 non-null    int64  \n",
            " 8   Ticket       891 non-null    object \n",
            " 9   Fare         891 non-null    float64\n",
            " 10  Cabin        204 non-null    object \n",
            " 11  Embarked     889 non-null    object \n",
            "dtypes: float64(2), int64(5), object(5)\n",
            "memory usage: 83.7+ KB\n"
          ]
        }
      ],
      "source": [
        "df.info() # see information of dataset"
      ]
    },
    {
      "cell_type": "markdown",
      "metadata": {
        "id": "PV0mc0KLPV0N"
      },
      "source": [
        "# Data Analysis On Text Data"
      ]
    },
    {
      "cell_type": "code",
      "execution_count": null,
      "metadata": {
        "id": "MAx4pFLOPV0O",
        "outputId": "d8e5cdf9-f6a1-44a3-edcc-5b0b7a35b2f7"
      },
      "outputs": [
        {
          "data": {
            "text/html": [
              "<div>\n",
              "<style scoped>\n",
              "    .dataframe tbody tr th:only-of-type {\n",
              "        vertical-align: middle;\n",
              "    }\n",
              "\n",
              "    .dataframe tbody tr th {\n",
              "        vertical-align: top;\n",
              "    }\n",
              "\n",
              "    .dataframe thead th {\n",
              "        text-align: right;\n",
              "    }\n",
              "</style>\n",
              "<table border=\"1\" class=\"dataframe\">\n",
              "  <thead>\n",
              "    <tr style=\"text-align: right;\">\n",
              "      <th></th>\n",
              "      <th>PassengerId</th>\n",
              "      <th>Survived</th>\n",
              "      <th>Pclass</th>\n",
              "      <th>Age</th>\n",
              "      <th>SibSp</th>\n",
              "      <th>Parch</th>\n",
              "      <th>Fare</th>\n",
              "    </tr>\n",
              "  </thead>\n",
              "  <tbody>\n",
              "    <tr>\n",
              "      <th>count</th>\n",
              "      <td>891.000000</td>\n",
              "      <td>891.000000</td>\n",
              "      <td>891.000000</td>\n",
              "      <td>714.000000</td>\n",
              "      <td>891.000000</td>\n",
              "      <td>891.000000</td>\n",
              "      <td>891.000000</td>\n",
              "    </tr>\n",
              "    <tr>\n",
              "      <th>mean</th>\n",
              "      <td>446.000000</td>\n",
              "      <td>0.383838</td>\n",
              "      <td>2.308642</td>\n",
              "      <td>29.699118</td>\n",
              "      <td>0.523008</td>\n",
              "      <td>0.381594</td>\n",
              "      <td>32.204208</td>\n",
              "    </tr>\n",
              "    <tr>\n",
              "      <th>std</th>\n",
              "      <td>257.353842</td>\n",
              "      <td>0.486592</td>\n",
              "      <td>0.836071</td>\n",
              "      <td>14.526497</td>\n",
              "      <td>1.102743</td>\n",
              "      <td>0.806057</td>\n",
              "      <td>49.693429</td>\n",
              "    </tr>\n",
              "    <tr>\n",
              "      <th>min</th>\n",
              "      <td>1.000000</td>\n",
              "      <td>0.000000</td>\n",
              "      <td>1.000000</td>\n",
              "      <td>0.420000</td>\n",
              "      <td>0.000000</td>\n",
              "      <td>0.000000</td>\n",
              "      <td>0.000000</td>\n",
              "    </tr>\n",
              "    <tr>\n",
              "      <th>25%</th>\n",
              "      <td>223.500000</td>\n",
              "      <td>0.000000</td>\n",
              "      <td>2.000000</td>\n",
              "      <td>20.125000</td>\n",
              "      <td>0.000000</td>\n",
              "      <td>0.000000</td>\n",
              "      <td>7.910400</td>\n",
              "    </tr>\n",
              "    <tr>\n",
              "      <th>50%</th>\n",
              "      <td>446.000000</td>\n",
              "      <td>0.000000</td>\n",
              "      <td>3.000000</td>\n",
              "      <td>28.000000</td>\n",
              "      <td>0.000000</td>\n",
              "      <td>0.000000</td>\n",
              "      <td>14.454200</td>\n",
              "    </tr>\n",
              "    <tr>\n",
              "      <th>75%</th>\n",
              "      <td>668.500000</td>\n",
              "      <td>1.000000</td>\n",
              "      <td>3.000000</td>\n",
              "      <td>38.000000</td>\n",
              "      <td>1.000000</td>\n",
              "      <td>0.000000</td>\n",
              "      <td>31.000000</td>\n",
              "    </tr>\n",
              "    <tr>\n",
              "      <th>max</th>\n",
              "      <td>891.000000</td>\n",
              "      <td>1.000000</td>\n",
              "      <td>3.000000</td>\n",
              "      <td>80.000000</td>\n",
              "      <td>8.000000</td>\n",
              "      <td>6.000000</td>\n",
              "      <td>512.329200</td>\n",
              "    </tr>\n",
              "  </tbody>\n",
              "</table>\n",
              "</div>"
            ],
            "text/plain": [
              "       PassengerId    Survived      Pclass         Age       SibSp  \\\n",
              "count   891.000000  891.000000  891.000000  714.000000  891.000000   \n",
              "mean    446.000000    0.383838    2.308642   29.699118    0.523008   \n",
              "std     257.353842    0.486592    0.836071   14.526497    1.102743   \n",
              "min       1.000000    0.000000    1.000000    0.420000    0.000000   \n",
              "25%     223.500000    0.000000    2.000000   20.125000    0.000000   \n",
              "50%     446.000000    0.000000    3.000000   28.000000    0.000000   \n",
              "75%     668.500000    1.000000    3.000000   38.000000    1.000000   \n",
              "max     891.000000    1.000000    3.000000   80.000000    8.000000   \n",
              "\n",
              "            Parch        Fare  \n",
              "count  891.000000  891.000000  \n",
              "mean     0.381594   32.204208  \n",
              "std      0.806057   49.693429  \n",
              "min      0.000000    0.000000  \n",
              "25%      0.000000    7.910400  \n",
              "50%      0.000000   14.454200  \n",
              "75%      0.000000   31.000000  \n",
              "max      6.000000  512.329200  "
            ]
          },
          "execution_count": 7,
          "metadata": {},
          "output_type": "execute_result"
        }
      ],
      "source": [
        "df.describe() # statistical information of only numeric data"
      ]
    },
    {
      "cell_type": "code",
      "execution_count": null,
      "metadata": {
        "scrolled": true,
        "id": "8rz2QZUkPV0Q",
        "outputId": "e4d7d76c-47b3-4277-e694-d680b99224eb"
      },
      "outputs": [
        {
          "data": {
            "text/html": [
              "<div>\n",
              "<style scoped>\n",
              "    .dataframe tbody tr th:only-of-type {\n",
              "        vertical-align: middle;\n",
              "    }\n",
              "\n",
              "    .dataframe tbody tr th {\n",
              "        vertical-align: top;\n",
              "    }\n",
              "\n",
              "    .dataframe thead th {\n",
              "        text-align: right;\n",
              "    }\n",
              "</style>\n",
              "<table border=\"1\" class=\"dataframe\">\n",
              "  <thead>\n",
              "    <tr style=\"text-align: right;\">\n",
              "      <th></th>\n",
              "      <th>Name</th>\n",
              "      <th>Sex</th>\n",
              "      <th>Ticket</th>\n",
              "      <th>Cabin</th>\n",
              "      <th>Embarked</th>\n",
              "    </tr>\n",
              "  </thead>\n",
              "  <tbody>\n",
              "    <tr>\n",
              "      <th>count</th>\n",
              "      <td>891</td>\n",
              "      <td>891</td>\n",
              "      <td>891</td>\n",
              "      <td>204</td>\n",
              "      <td>889</td>\n",
              "    </tr>\n",
              "    <tr>\n",
              "      <th>unique</th>\n",
              "      <td>891</td>\n",
              "      <td>2</td>\n",
              "      <td>681</td>\n",
              "      <td>147</td>\n",
              "      <td>3</td>\n",
              "    </tr>\n",
              "    <tr>\n",
              "      <th>top</th>\n",
              "      <td>Barton, Mr. David John</td>\n",
              "      <td>male</td>\n",
              "      <td>347082</td>\n",
              "      <td>B96 B98</td>\n",
              "      <td>S</td>\n",
              "    </tr>\n",
              "    <tr>\n",
              "      <th>freq</th>\n",
              "      <td>1</td>\n",
              "      <td>577</td>\n",
              "      <td>7</td>\n",
              "      <td>4</td>\n",
              "      <td>644</td>\n",
              "    </tr>\n",
              "  </tbody>\n",
              "</table>\n",
              "</div>"
            ],
            "text/plain": [
              "                          Name   Sex  Ticket    Cabin Embarked\n",
              "count                      891   891     891      204      889\n",
              "unique                     891     2     681      147        3\n",
              "top     Barton, Mr. David John  male  347082  B96 B98        S\n",
              "freq                         1   577       7        4      644"
            ]
          },
          "execution_count": 8,
          "metadata": {},
          "output_type": "execute_result"
        }
      ],
      "source": [
        "df.describe(include=['O']) # text data"
      ]
    },
    {
      "cell_type": "markdown",
      "metadata": {
        "id": "2qlC1GmKPV0R"
      },
      "source": [
        "# Name"
      ]
    },
    {
      "cell_type": "code",
      "execution_count": null,
      "metadata": {
        "id": "qni-dHOiPV0S",
        "outputId": "61b906db-27da-4643-b587-3a67a55ae312"
      },
      "outputs": [
        {
          "data": {
            "text/plain": [
              "0"
            ]
          },
          "execution_count": 9,
          "metadata": {},
          "output_type": "execute_result"
        }
      ],
      "source": [
        "df['Name'].isnull().sum() # sometimes you get unexpected result"
      ]
    },
    {
      "cell_type": "code",
      "execution_count": null,
      "metadata": {
        "id": "B9Os1BYJPV0T",
        "outputId": "465fd38c-175f-4bb5-c707-2ebe3336273e"
      },
      "outputs": [
        {
          "data": {
            "text/plain": [
              "0"
            ]
          },
          "execution_count": 10,
          "metadata": {},
          "output_type": "execute_result"
        }
      ],
      "source": [
        "pd.isnull(df['Name']).sum() # always the correct result"
      ]
    },
    {
      "cell_type": "code",
      "execution_count": null,
      "metadata": {
        "id": "lDf5-k8PPV0V",
        "outputId": "2d85e348-c916-406a-e2a9-179dd194d7a6"
      },
      "outputs": [
        {
          "data": {
            "text/plain": [
              "0                               Braund, Mr. Owen Harris\n",
              "1     Cumings, Mrs. John Bradley (Florence Briggs Th...\n",
              "2                                Heikkinen, Miss. Laina\n",
              "3          Futrelle, Mrs. Jacques Heath (Lily May Peel)\n",
              "4                              Allen, Mr. William Henry\n",
              "5                                      Moran, Mr. James\n",
              "6                               McCarthy, Mr. Timothy J\n",
              "7                        Palsson, Master. Gosta Leonard\n",
              "8     Johnson, Mrs. Oscar W (Elisabeth Vilhelmina Berg)\n",
              "9                   Nasser, Mrs. Nicholas (Adele Achem)\n",
              "10                      Sandstrom, Miss. Marguerite Rut\n",
              "11                             Bonnell, Miss. Elizabeth\n",
              "12                       Saundercock, Mr. William Henry\n",
              "13                          Andersson, Mr. Anders Johan\n",
              "14                 Vestrom, Miss. Hulda Amanda Adolfina\n",
              "15                     Hewlett, Mrs. (Mary D Kingcome) \n",
              "16                                 Rice, Master. Eugene\n",
              "17                         Williams, Mr. Charles Eugene\n",
              "18    Vander Planke, Mrs. Julius (Emelia Maria Vande...\n",
              "19                              Masselmani, Mrs. Fatima\n",
              "20                                 Fynney, Mr. Joseph J\n",
              "21                                Beesley, Mr. Lawrence\n",
              "22                          McGowan, Miss. Anna \"Annie\"\n",
              "23                         Sloper, Mr. William Thompson\n",
              "24                        Palsson, Miss. Torborg Danira\n",
              "25    Asplund, Mrs. Carl Oscar (Selma Augusta Emilia...\n",
              "26                              Emir, Mr. Farred Chehab\n",
              "27                       Fortune, Mr. Charles Alexander\n",
              "28                        O'Dwyer, Miss. Ellen \"Nellie\"\n",
              "29                                  Todoroff, Mr. Lalio\n",
              "30                             Uruchurtu, Don. Manuel E\n",
              "31       Spencer, Mrs. William Augustus (Marie Eugenie)\n",
              "32                             Glynn, Miss. Mary Agatha\n",
              "33                                Wheadon, Mr. Edward H\n",
              "34                              Meyer, Mr. Edgar Joseph\n",
              "35                       Holverson, Mr. Alexander Oskar\n",
              "36                                     Mamee, Mr. Hanna\n",
              "37                             Cann, Mr. Ernest Charles\n",
              "38                   Vander Planke, Miss. Augusta Maria\n",
              "39                          Nicola-Yarred, Miss. Jamila\n",
              "40       Ahlin, Mrs. Johan (Johanna Persdotter Larsson)\n",
              "41    Turpin, Mrs. William John Robert (Dorothy Ann ...\n",
              "42                                  Kraeff, Mr. Theodor\n",
              "43             Laroche, Miss. Simonne Marie Anne Andree\n",
              "44                        Devaney, Miss. Margaret Delia\n",
              "45                             Rogers, Mr. William John\n",
              "46                                    Lennon, Mr. Denis\n",
              "47                            O'Driscoll, Miss. Bridget\n",
              "48                                  Samaan, Mr. Youssef\n",
              "49        Arnold-Franchi, Mrs. Josef (Josefine Franchi)\n",
              "Name: Name, dtype: object"
            ]
          },
          "execution_count": 11,
          "metadata": {},
          "output_type": "execute_result"
        }
      ],
      "source": [
        "df['Name'][:50] # continuity of seeing data"
      ]
    },
    {
      "cell_type": "code",
      "execution_count": null,
      "metadata": {
        "id": "fJfSxxTrPV0Y",
        "outputId": "2848d141-0b8a-46b9-cd18-b037eebb888d"
      },
      "outputs": [
        {
          "name": "stdout",
          "output_type": "stream",
          "text": [
            " Mr\n",
            " Mrs\n",
            " Miss\n",
            " Mrs\n",
            " Mr\n",
            " Mr\n",
            " Mr\n",
            " Master\n",
            " Mrs\n",
            " Mrs\n",
            " Miss\n",
            " Miss\n",
            " Mr\n",
            " Mr\n",
            " Miss\n",
            " Mrs\n",
            " Master\n",
            " Mr\n",
            " Mrs\n",
            " Mrs\n",
            " Mr\n",
            " Mr\n",
            " Miss\n",
            " Mr\n",
            " Miss\n",
            " Mrs\n",
            " Mr\n",
            " Mr\n",
            " Miss\n",
            " Mr\n",
            " Don\n",
            " Mrs\n",
            " Miss\n",
            " Mr\n",
            " Mr\n",
            " Mr\n",
            " Mr\n",
            " Mr\n",
            " Miss\n",
            " Miss\n",
            " Mrs\n",
            " Mrs\n",
            " Mr\n",
            " Miss\n",
            " Miss\n",
            " Mr\n",
            " Mr\n",
            " Miss\n",
            " Mr\n",
            " Mrs\n",
            " Master\n",
            " Mr\n",
            " Mrs\n",
            " Mrs\n",
            " Mr\n",
            " Mr\n",
            " Miss\n",
            " Mr\n",
            " Miss\n",
            " Master\n",
            " Mr\n",
            " Miss\n",
            " Mr\n",
            " Master\n",
            " Mr\n",
            " Master\n",
            " Mrs\n",
            " Mr\n",
            " Miss\n",
            " Mr\n",
            " Mr\n",
            " Miss\n",
            " Mr\n",
            " Mr\n",
            " Mr\n",
            " Mr\n",
            " Mr\n",
            " Mr\n",
            " Master\n",
            " Miss\n",
            " Mr\n",
            " Mr\n",
            " Miss\n",
            " Mr\n",
            " Miss\n",
            " Mrs\n",
            " Mr\n",
            " Mr\n",
            " Miss\n",
            " Mr\n",
            " Mr\n",
            " Mr\n",
            " Mr\n",
            " Mr\n",
            " Mr\n",
            " Mr\n",
            " Mr\n",
            " Mr\n",
            " Mrs\n",
            " Mr\n",
            " Miss\n",
            " Mr\n",
            " Mr\n",
            " Mr\n",
            " Mr\n",
            " Mr\n",
            " Miss\n",
            " Mr\n",
            " Mr\n",
            " Miss\n",
            " Mr\n",
            " Miss\n",
            " Mr\n",
            " Miss\n",
            " Miss\n",
            " Mr\n",
            " Mr\n",
            " Mr\n",
            " Mr\n",
            " Miss\n",
            " Mr\n",
            " Mr\n",
            " Mr\n",
            " Miss\n",
            " Mr\n",
            " Master\n",
            " Mr\n",
            " Mr\n",
            " Miss\n",
            " Mr\n",
            " Mr\n",
            " Mr\n",
            " Mrs\n",
            " Mrs\n",
            " Mr\n",
            " Mr\n",
            " Miss\n",
            " Mr\n",
            " Mr\n",
            " Mr\n",
            " Mrs\n",
            " Miss\n",
            " Mrs\n",
            " Mr\n",
            " Mr\n",
            " Mr\n",
            " Mr\n",
            " Miss\n",
            " Mr\n",
            " Rev\n",
            " Rev\n",
            " Mrs\n",
            " Mr\n",
            " Mr\n",
            " Mr\n",
            " Mr\n",
            " Miss\n",
            " Mr\n",
            " Mr\n",
            " Master\n",
            " Mr\n",
            " Mrs\n",
            " Mr\n",
            " Mr\n",
            " Master\n",
            " Master\n",
            " Mrs\n",
            " Mrs\n",
            " Mr\n",
            " Mr\n",
            " Mr\n",
            " Master\n",
            " Miss\n",
            " Mr\n",
            " Mr\n",
            " Mr\n",
            " Master\n",
            " Miss\n",
            " Mr\n",
            " Mr\n",
            " Miss\n",
            " Mr\n",
            " Master\n",
            " Master\n",
            " Miss\n",
            " Mr\n",
            " Mrs\n",
            " Mr\n",
            " Mr\n",
            " Mr\n",
            " Mrs\n",
            " Mr\n",
            " Miss\n",
            " Master\n",
            " Mrs\n",
            " Miss\n",
            " Mr\n",
            " Mr\n",
            " Miss\n",
            " Miss\n",
            " Mr\n",
            " Mr\n",
            " Mr\n",
            " Mr\n",
            " Mr\n",
            " Miss\n",
            " Mr\n",
            " Mr\n",
            " Miss\n",
            " Mr\n",
            " Mr\n",
            " Miss\n",
            " Mr\n",
            " Mr\n",
            " Mr\n",
            " Miss\n",
            " Miss\n",
            " Mr\n",
            " Miss\n",
            " Mr\n",
            " Mr\n",
            " Mr\n",
            " Mr\n",
            " Mr\n",
            " Mr\n",
            " Mr\n",
            " Mr\n",
            " Mr\n",
            " Mr\n",
            " Miss\n",
            " Mrs\n",
            " Mr\n",
            " Mr\n",
            " Miss\n",
            " Mr\n",
            " Miss\n",
            " Mr\n",
            " Miss\n",
            " Mr\n",
            " Mr\n",
            " Miss\n",
            " Miss\n",
            " Mr\n",
            " Mr\n",
            " Mr\n",
            " Dr\n",
            " Miss\n",
            " Mrs\n",
            " Mr\n",
            " Rev\n",
            " Mr\n",
            " Mrs\n",
            " Mr\n",
            " Mr\n",
            " Mrs\n",
            " Mrs\n",
            " Mrs\n",
            " Miss\n",
            " Miss\n",
            " Mrs\n",
            " Mr\n",
            " Master\n",
            " Mr\n",
            " Mr\n",
            " Miss\n",
            " Mr\n",
            " Mr\n",
            " Mr\n",
            " Mrs\n",
            " Miss\n",
            " Mr\n",
            " Mr\n",
            " Mrs\n",
            " Mr\n",
            " Miss\n",
            " Miss\n",
            " Miss\n",
            " Mr\n",
            " Master\n",
            " Mrs\n",
            " Mr\n",
            " Mr\n",
            " Mr\n",
            " Mr\n",
            " Mr\n",
            " Mr\n",
            " Mr\n",
            " Mr\n",
            " Mr\n",
            " Miss\n",
            " Miss\n",
            " Mrs\n",
            " Mr\n",
            " Miss\n",
            " Mr\n",
            " Mr\n",
            " Mr\n",
            " Miss\n",
            " Mr\n",
            " Mrs\n",
            " Miss\n",
            " Mr\n",
            " Mr\n",
            " Miss\n",
            " Mr\n",
            " Master\n",
            " Miss\n",
            " Mrs\n",
            " Mr\n",
            " Miss\n",
            " Miss\n",
            " Miss\n",
            " Mrs\n",
            " Mr\n",
            " Mr\n",
            " Miss\n",
            " Mrs\n",
            " Dr\n",
            " Miss\n",
            " Mrs\n",
            " Mr\n",
            " Mr\n",
            " Miss\n",
            " Mrs\n",
            " Mr\n",
            " Miss\n",
            " Mr\n",
            " Mrs\n",
            " Mrs\n",
            " Miss\n",
            " Miss\n",
            " Mr\n",
            " Mr\n",
            " Mr\n",
            " Mrs\n",
            " Mr\n",
            " Mr\n",
            " Miss\n",
            " Mr\n",
            " Mr\n",
            " Master\n",
            " Miss\n",
            " Mr\n",
            " Mr\n",
            " Mr\n",
            " Miss\n",
            " Miss\n",
            " Mrs\n",
            " Master\n",
            " Mr\n",
            " Mr\n",
            " Mr\n",
            " Mr\n",
            " Mr\n",
            " Mr\n",
            " Mr\n",
            " Miss\n",
            " Miss\n",
            " Miss\n",
            " Miss\n",
            " Mr\n",
            " Mr\n",
            " Mrs\n",
            " Mr\n",
            " Mr\n",
            " Mr\n",
            " Mrs\n",
            " Mrs\n",
            " Miss\n",
            " Mme\n",
            " Mr\n",
            " Mr\n",
            " Mr\n",
            " Mr\n",
            " Miss\n",
            " Mrs\n",
            " Miss\n",
            " Mr\n",
            " Mr\n",
            " Mr\n",
            " Miss\n",
            " Miss\n",
            " Mr\n",
            " Mrs\n",
            " Mr\n",
            " Mr\n",
            " Master\n",
            " Miss\n",
            " Mr\n",
            " Miss\n",
            " Mr\n",
            " Mr\n",
            " Mr\n",
            " Miss\n",
            " Mrs\n",
            " Mr\n",
            " Miss\n",
            " Mr\n",
            " Dr\n",
            " Mrs\n",
            " Mr\n",
            " Mr\n",
            " Miss\n",
            " Mr\n",
            " Miss\n",
            " Mr\n",
            " Mr\n",
            " Master\n",
            " Mr\n",
            " Miss\n",
            " Mr\n",
            " Mr\n",
            " Miss\n",
            " Mr\n",
            " Mr\n",
            " Mrs\n",
            " Mrs\n",
            " Miss\n",
            " Mr\n",
            " Miss\n",
            " Mr\n",
            " Mr\n",
            " Mr\n",
            " Mrs\n",
            " Mr\n",
            " Mr\n",
            " Mrs\n",
            " Miss\n",
            " Mr\n",
            " Mr\n",
            " Mr\n",
            " Mrs\n",
            " Mrs\n",
            " Mr\n",
            " Mr\n",
            " Miss\n",
            " Miss\n",
            " Mrs\n",
            " Mr\n",
            " Mr\n",
            " Mrs\n",
            " Mr\n",
            " Mr\n",
            " Ms\n",
            " Mr\n",
            " Master\n",
            " Miss\n",
            " Mr\n",
            " Miss\n",
            " Major\n",
            " Mr\n",
            " Mr\n",
            " Mr\n",
            " Mr\n",
            " Mr\n",
            " Mr\n",
            " Mr\n",
            " Mrs\n",
            " Miss\n",
            " Mr\n",
            " Mr\n",
            " Mr\n",
            " Mr\n",
            " Mr\n",
            " Mr\n",
            " Mr\n",
            " Mr\n",
            " Mr\n",
            " Mr\n",
            " Miss\n",
            " Mr\n",
            " Mr\n",
            " Mrs\n",
            " Mrs\n",
            " Miss\n",
            " Mr\n",
            " Mr\n",
            " Mr\n",
            " Mr\n",
            " Miss\n",
            " Master\n",
            " Mr\n",
            " Mr\n",
            " Mrs\n",
            " Mr\n",
            " Miss\n",
            " Mrs\n",
            " Mr\n",
            " Mr\n",
            " Master\n",
            " Mr\n",
            " Mr\n",
            " Mr\n",
            " Mr\n",
            " Mr\n",
            " Mr\n",
            " Miss\n",
            " Mr\n",
            " Mrs\n",
            " Mr\n",
            " Mr\n",
            " Miss\n",
            " Miss\n",
            " Miss\n",
            " Miss\n",
            " Mr\n",
            " Mrs\n",
            " Mr\n",
            " Mr\n",
            " Mr\n",
            " Mr\n",
            " Mr\n",
            " Mr\n",
            " Mrs\n",
            " Mr\n",
            " Mr\n",
            " Mrs\n",
            " Mr\n",
            " Mrs\n",
            " Mr\n",
            " Miss\n",
            " Mr\n",
            " Mr\n",
            " Mrs\n",
            " Mr\n",
            " Mr\n",
            " Miss\n",
            " Mr\n",
            " Mr\n",
            " Mr\n",
            " Miss\n",
            " Mr\n",
            " Mr\n",
            " Mrs\n",
            " Miss\n",
            " Miss\n",
            " Major\n",
            " Miss\n",
            " Mr\n",
            " Miss\n",
            " Miss\n",
            " Miss\n",
            " Miss\n",
            " Mr\n",
            " Mr\n",
            " Mr\n",
            " Mrs\n",
            " Mr\n",
            " Mr\n",
            " Master\n",
            " Mr\n",
            " Mr\n",
            " Mr\n",
            " Mr\n",
            " Miss\n",
            " Mr\n",
            " Lady\n",
            " Mr\n",
            " Mrs\n",
            " Mrs\n",
            " Mr\n",
            " Mr\n",
            " Mr\n",
            " Mr\n",
            " Miss\n",
            " Mr\n",
            " Mr\n",
            " Mrs\n",
            " Mr\n",
            " Mr\n",
            " Mr\n",
            " Mrs\n",
            " Mr\n",
            " Miss\n",
            " Mr\n",
            " Mr\n",
            " Miss\n",
            " Mrs\n",
            " Mrs\n",
            " Mr\n",
            " Miss\n",
            " Mrs\n",
            " Mr\n",
            " Mr\n",
            " Mr\n",
            " Miss\n",
            " Mr\n",
            " Mr\n",
            " Mr\n",
            " Mr\n",
            " Mr\n",
            " Mrs\n",
            " Mr\n",
            " Miss\n",
            " Mr\n",
            " Mr\n",
            " Miss\n",
            " Mr\n",
            " Mr\n",
            " Sir\n",
            " Mrs\n",
            " Mr\n",
            " Mr\n",
            " Mr\n",
            " Mr\n",
            " Mr\n",
            " Mr\n",
            " Mr\n",
            " Mrs\n",
            " Miss\n",
            " Mrs\n",
            " Mr\n",
            " Miss\n",
            " Mr\n",
            " Mr\n",
            " Miss\n",
            " Mr\n",
            " Mrs\n",
            " Miss\n",
            " Mr\n",
            " Mr\n",
            " Mr\n",
            " Mr\n",
            " Mr\n",
            " Mr\n",
            " Mr\n",
            " Rev\n",
            " Miss\n",
            " Mr\n",
            " Mr\n",
            " Mr\n",
            " Mr\n",
            " Dr\n",
            " Mr\n",
            " Miss\n",
            " Miss\n",
            " Mr\n",
            " Mr\n",
            " Mrs\n",
            " Mr\n",
            " Mr\n",
            " Mlle\n",
            " Miss\n",
            " Mr\n",
            " Miss\n",
            " Mr\n",
            " Mr\n",
            " Col\n",
            " Mr\n",
            " Miss\n",
            " Mr\n",
            " Miss\n",
            " Mr\n",
            " Miss\n",
            " Miss\n",
            " Mr\n",
            " Mr\n",
            " Mrs\n",
            " Mr\n",
            " Mr\n",
            " Dr\n",
            " Mr\n",
            " Mr\n",
            " Mr\n",
            " Mr\n",
            " Mr\n",
            " Mr\n",
            " Mr\n",
            " Mr\n",
            " Mrs\n",
            " Mrs\n",
            " Mr\n",
            " Mr\n",
            " Mr\n",
            " Mr\n",
            " Mr\n",
            " Mr\n",
            " Miss\n",
            " Mrs\n",
            " Mr\n",
            " Miss\n",
            " Mr\n",
            " Mr\n",
            " Mr\n",
            " Mr\n",
            " Mr\n",
            " Mr\n",
            " Mr\n",
            " Mr\n",
            " Miss\n",
            " Mr\n",
            " Miss\n",
            " Mr\n",
            " Mr\n",
            " Col\n",
            " Mr\n",
            " Mr\n",
            " Miss\n",
            " Mr\n",
            " Mr\n",
            " Mrs\n",
            " Mr\n",
            " Miss\n",
            " Mr\n",
            " Mr\n",
            " Mr\n",
            " Mrs\n",
            " Mr\n",
            " Miss\n",
            " Master\n",
            " Mlle\n",
            " Mr\n",
            " Mr\n",
            " Mr\n",
            " Mr\n",
            " Mr\n",
            " Miss\n",
            " Miss\n",
            " Mr\n",
            " Mr\n",
            " Miss\n",
            " Mr\n",
            " Mr\n",
            " Mr\n",
            " Mr\n",
            " Mr\n",
            " Mrs\n",
            " Miss\n",
            " Mr\n",
            " Miss\n",
            " Miss\n",
            " Mr\n",
            " Mr\n",
            " Mr\n",
            " Mr\n",
            " Mr\n",
            " Mrs\n",
            " Mr\n",
            " Mr\n",
            " Mr\n",
            " Mr\n",
            " Mr\n",
            " Miss\n",
            " Mr\n",
            " Mr\n",
            " Capt\n",
            " Mr\n",
            " Miss\n",
            " Mr\n",
            " Mr\n",
            " Miss\n",
            " Master\n",
            " Mr\n",
            " Mr\n",
            " Mrs\n",
            " Master\n",
            " Mr\n",
            " Mr\n",
            " Mr\n",
            " the Countess\n",
            " Mr\n",
            " Mr\n",
            " Mr\n",
            " Mrs\n",
            " Mr\n",
            " Mrs\n",
            " Dr\n",
            " Miss\n",
            " Mr\n",
            " Mr\n",
            " Mr\n",
            " Mr\n",
            " Mrs\n",
            " Mr\n",
            " Mrs\n",
            " Mr\n",
            " Mr\n",
            " Miss\n",
            " Mr\n",
            " Mrs\n",
            " Miss\n",
            " Mrs\n",
            " Mr\n",
            " Mr\n",
            " Mr\n",
            " Mr\n",
            " Miss\n",
            " Master\n",
            " Master\n",
            " Mr\n",
            " Mr\n",
            " Mr\n",
            " Miss\n",
            " Mr\n",
            " Mr\n",
            " Mr\n",
            " Dr\n",
            " Mrs\n",
            " Mr\n",
            " Mrs\n",
            " Mr\n",
            " Mrs\n",
            " Master\n",
            " Master\n",
            " Mr\n",
            " Mr\n",
            " Mr\n",
            " Miss\n",
            " Mr\n",
            " Mrs\n",
            " Mr\n",
            " Mr\n",
            " Mr\n",
            " Miss\n",
            " Mr\n",
            " Mr\n",
            " Miss\n",
            " Mr\n",
            " Mr\n",
            " Master\n",
            " Mrs\n",
            " Mr\n",
            " Jonkheer\n",
            " Mrs\n",
            " Master\n",
            " Mr\n",
            " Mr\n",
            " Master\n",
            " Mr\n",
            " Mrs\n",
            " Mrs\n",
            " Master\n",
            " Mr\n",
            " Mr\n",
            " Mr\n",
            " Miss\n",
            " Mr\n",
            " Mr\n",
            " Mr\n",
            " Mr\n",
            " Mr\n",
            " Mr\n",
            " Miss\n",
            " Mr\n",
            " Mr\n",
            " Mr\n",
            " Mr\n",
            " Mr\n",
            " Rev\n",
            " Mrs\n",
            " Master\n",
            " Mr\n",
            " Miss\n",
            " Miss\n",
            " Mrs\n",
            " Mrs\n",
            " Mrs\n",
            " Mr\n",
            " Mrs\n",
            " Mr\n",
            " Mr\n",
            " Mr\n",
            " Mrs\n",
            " Miss\n",
            " Mr\n",
            " Mrs\n",
            " Miss\n",
            " Mr\n",
            " Mr\n",
            " Master\n",
            " Mr\n",
            " Mrs\n",
            " Mr\n",
            " Mr\n",
            " Mrs\n",
            " Miss\n",
            " Mr\n",
            " Mr\n",
            " Mr\n",
            " Mrs\n",
            " Mrs\n",
            " Mr\n",
            " Miss\n",
            " Mr\n",
            " Mr\n",
            " Mrs\n",
            " Rev\n",
            " Miss\n",
            " Miss\n",
            " Mr\n",
            " Mr\n"
          ]
        }
      ],
      "source": [
        "# Extracting titles from the name using split\n",
        "for i,data in df.iterrows():\n",
        "    a=data['Name'].split(\",\")\n",
        "    b=a[1].split(\".\")\n",
        "    df.at[i,'Title']=b[0]\n",
        "    print(df.at[i,'Title'])"
      ]
    },
    {
      "cell_type": "code",
      "execution_count": null,
      "metadata": {
        "id": "BFJDmR-jPV0a",
        "outputId": "86a71c40-8600-4dd3-a293-7714159691f3"
      },
      "outputs": [
        {
          "data": {
            "text/plain": [
              "array([' Mr', ' Mrs', ' Miss', ' Master', ' Don', ' Rev', ' Dr', ' Mme',\n",
              "       ' Ms', ' Major', ' Lady', ' Sir', ' Mlle', ' Col', ' Capt',\n",
              "       ' the Countess', ' Jonkheer'], dtype=object)"
            ]
          },
          "execution_count": 13,
          "metadata": {},
          "output_type": "execute_result"
        }
      ],
      "source": [
        "df['Title'][:1000].unique() # unique titles in first 1000 records"
      ]
    },
    {
      "cell_type": "code",
      "execution_count": null,
      "metadata": {
        "id": "pKX54THRPV0b"
      },
      "outputs": [],
      "source": [
        "# check for typo error in data and correct it\n",
        "for i,data in df.iterrows():\n",
        "    if data['Title']==' the Countess':\n",
        "        df.at[i,'Title']='Countess'\n",
        "    if data['Title']==' Mme':\n",
        "        df.at[i,'Title']='Mrs'\n",
        "    if data['Title']==' Mrs':\n",
        "        df.at[i,'Title']='Mrs'\n",
        "    if data['Title']== ' Mlle':\n",
        "        df.at[i,'Title']='Miss'\n",
        "    if data['Title']== ' Miss':\n",
        "        df.at[i,'Title']='Miss'\n",
        "    if data['Title']== 'Miss':\n",
        "        df.at[i,'Title']='Ms'\n",
        "    if data['Title']== 'Mrs':\n",
        "        df.at[i,'Title']='Ms'\n",
        "    if data['Title']== ' Ms':\n",
        "        df.at[i,'Title']='Ms'"
      ]
    },
    {
      "cell_type": "code",
      "execution_count": null,
      "metadata": {
        "id": "gzLOZxHOPV0d"
      },
      "outputs": [],
      "source": [
        "raretitle=['Lady','Countess','Capt','Col','Don','Dr','Major','Rev','Sir','Jonkheer']"
      ]
    },
    {
      "cell_type": "code",
      "execution_count": null,
      "metadata": {
        "id": "SEoxsydhPV0e"
      },
      "outputs": [],
      "source": [
        "for i,data in df.iterrows():\n",
        "    if data['Title'].strip() in raretitle: # remove space from left and right\n",
        "        df.at[i,'Title']='rare'"
      ]
    },
    {
      "cell_type": "code",
      "execution_count": null,
      "metadata": {
        "id": "cjd7uBgLPV0f",
        "outputId": "ffb7042c-827e-448c-b9b6-b8655b92695f"
      },
      "outputs": [
        {
          "data": {
            "text/plain": [
              "0          Mr\n",
              "1          Ms\n",
              "2          Ms\n",
              "3          Ms\n",
              "4          Mr\n",
              "5          Mr\n",
              "6          Mr\n",
              "7      Master\n",
              "8          Ms\n",
              "9          Ms\n",
              "10         Ms\n",
              "11         Ms\n",
              "12         Mr\n",
              "13         Mr\n",
              "14         Ms\n",
              "15         Ms\n",
              "16     Master\n",
              "17         Mr\n",
              "18         Ms\n",
              "19         Ms\n",
              "20         Mr\n",
              "21         Mr\n",
              "22         Ms\n",
              "23         Mr\n",
              "24         Ms\n",
              "25         Ms\n",
              "26         Mr\n",
              "27         Mr\n",
              "28         Ms\n",
              "29         Mr\n",
              "30       rare\n",
              "31         Ms\n",
              "32         Ms\n",
              "33         Mr\n",
              "34         Mr\n",
              "35         Mr\n",
              "36         Mr\n",
              "37         Mr\n",
              "38         Ms\n",
              "39         Ms\n",
              "40         Ms\n",
              "41         Ms\n",
              "42         Mr\n",
              "43         Ms\n",
              "44         Ms\n",
              "45         Mr\n",
              "46         Mr\n",
              "47         Ms\n",
              "48         Mr\n",
              "49         Ms\n",
              "Name: Title, dtype: object"
            ]
          },
          "execution_count": 22,
          "metadata": {},
          "output_type": "execute_result"
        }
      ],
      "source": [
        "df['Title'][:50]"
      ]
    },
    {
      "cell_type": "code",
      "execution_count": null,
      "metadata": {
        "id": "rkLRy1MGPV0g",
        "outputId": "077e55b2-1442-460f-9d02-2381539c8535"
      },
      "outputs": [
        {
          "data": {
            "text/plain": [
              " Mr        517\n",
              "Ms         311\n",
              " Master     40\n",
              "rare        23\n",
              "Name: Title, dtype: int64"
            ]
          },
          "execution_count": 23,
          "metadata": {},
          "output_type": "execute_result"
        }
      ],
      "source": [
        "df['Title'].value_counts()"
      ]
    },
    {
      "cell_type": "code",
      "execution_count": null,
      "metadata": {
        "id": "nW1oNIOiPV0h",
        "outputId": "b3a89dfb-1df4-4bb7-ef7f-00d7fe55fe11"
      },
      "outputs": [
        {
          "data": {
            "text/plain": [
              "<AxesSubplot:>"
            ]
          },
          "execution_count": 24,
          "metadata": {},
          "output_type": "execute_result"
        },
        {
          "data": {
            "image/png": "[encoded data removed]",
            "text/plain": [
              "<Figure size 432x288 with 1 Axes>"
            ]
          },
          "metadata": {
            "needs_background": "light"
          },
          "output_type": "display_data"
        }
      ],
      "source": [
        "df['Title'].value_counts().plot(kind='bar')"
      ]
    },
    {
      "cell_type": "code",
      "execution_count": null,
      "metadata": {
        "id": "hrxrkINlPV0h",
        "outputId": "e89a7e75-698e-4711-a6b9-d41378e2a850"
      },
      "outputs": [
        {
          "data": {
            "text/plain": [
              "<AxesSubplot:ylabel='Title'>"
            ]
          },
          "execution_count": 25,
          "metadata": {},
          "output_type": "execute_result"
        },
        {
          "data": {
            "image/png": "[encoded data removed]",
            "text/plain": [
              "<Figure size 432x288 with 1 Axes>"
            ]
          },
          "metadata": {},
          "output_type": "display_data"
        }
      ],
      "source": [
        "df['Title'].value_counts().plot(kind='pie')"
      ]
    },
    {
      "cell_type": "code",
      "execution_count": null,
      "metadata": {
        "id": "rP8wlPg2PV0i",
        "outputId": "cc8317e8-dee4-416d-9cc8-3e3040ed093f"
      },
      "outputs": [
        {
          "data": {
            "text/html": [
              "<div>\n",
              "<style scoped>\n",
              "    .dataframe tbody tr th:only-of-type {\n",
              "        vertical-align: middle;\n",
              "    }\n",
              "\n",
              "    .dataframe tbody tr th {\n",
              "        vertical-align: top;\n",
              "    }\n",
              "\n",
              "    .dataframe thead th {\n",
              "        text-align: right;\n",
              "    }\n",
              "</style>\n",
              "<table border=\"1\" class=\"dataframe\">\n",
              "  <thead>\n",
              "    <tr style=\"text-align: right;\">\n",
              "      <th></th>\n",
              "      <th>Survived</th>\n",
              "    </tr>\n",
              "    <tr>\n",
              "      <th>Title</th>\n",
              "      <th></th>\n",
              "    </tr>\n",
              "  </thead>\n",
              "  <tbody>\n",
              "    <tr>\n",
              "      <th>Master</th>\n",
              "      <td>0.575000</td>\n",
              "    </tr>\n",
              "    <tr>\n",
              "      <th>Mr</th>\n",
              "      <td>0.156673</td>\n",
              "    </tr>\n",
              "    <tr>\n",
              "      <th>Ms</th>\n",
              "      <td>0.739550</td>\n",
              "    </tr>\n",
              "    <tr>\n",
              "      <th>rare</th>\n",
              "      <td>0.347826</td>\n",
              "    </tr>\n",
              "  </tbody>\n",
              "</table>\n",
              "</div>"
            ],
            "text/plain": [
              "         Survived\n",
              "Title            \n",
              " Master  0.575000\n",
              " Mr      0.156673\n",
              "Ms       0.739550\n",
              "rare     0.347826"
            ]
          },
          "execution_count": 26,
          "metadata": {},
          "output_type": "execute_result"
        }
      ],
      "source": [
        "df[['Title','Survived']].groupby(['Title']).mean()"
      ]
    },
    {
      "cell_type": "code",
      "execution_count": null,
      "metadata": {
        "id": "q-ZvcJADPV0i",
        "outputId": "1289c33c-f345-4256-9ff5-f9f2aaf7b2f8"
      },
      "outputs": [
        {
          "data": {
            "text/html": [
              "<div>\n",
              "<style scoped>\n",
              "    .dataframe tbody tr th:only-of-type {\n",
              "        vertical-align: middle;\n",
              "    }\n",
              "\n",
              "    .dataframe tbody tr th {\n",
              "        vertical-align: top;\n",
              "    }\n",
              "\n",
              "    .dataframe thead th {\n",
              "        text-align: right;\n",
              "    }\n",
              "</style>\n",
              "<table border=\"1\" class=\"dataframe\">\n",
              "  <thead>\n",
              "    <tr style=\"text-align: right;\">\n",
              "      <th></th>\n",
              "      <th>Survived</th>\n",
              "    </tr>\n",
              "    <tr>\n",
              "      <th>Title</th>\n",
              "      <th></th>\n",
              "    </tr>\n",
              "  </thead>\n",
              "  <tbody>\n",
              "    <tr>\n",
              "      <th>Mr</th>\n",
              "      <td>0.156673</td>\n",
              "    </tr>\n",
              "    <tr>\n",
              "      <th>rare</th>\n",
              "      <td>0.347826</td>\n",
              "    </tr>\n",
              "    <tr>\n",
              "      <th>Master</th>\n",
              "      <td>0.575000</td>\n",
              "    </tr>\n",
              "    <tr>\n",
              "      <th>Ms</th>\n",
              "      <td>0.739550</td>\n",
              "    </tr>\n",
              "  </tbody>\n",
              "</table>\n",
              "</div>"
            ],
            "text/plain": [
              "         Survived\n",
              "Title            \n",
              " Mr      0.156673\n",
              "rare     0.347826\n",
              " Master  0.575000\n",
              "Ms       0.739550"
            ]
          },
          "execution_count": 27,
          "metadata": {},
          "output_type": "execute_result"
        }
      ],
      "source": [
        "df[['Title','Survived']].groupby(['Title']).mean().sort_values(by='Survived',ascending=True) # to see ascending order of survivals in each category"
      ]
    },
    {
      "cell_type": "code",
      "execution_count": null,
      "metadata": {
        "id": "ih5lD_y4PV0j",
        "outputId": "5b88ebc3-7897-42ac-e570-220b7439ac65"
      },
      "outputs": [
        {
          "data": {
            "text/html": [
              "<div>\n",
              "<style scoped>\n",
              "    .dataframe tbody tr th:only-of-type {\n",
              "        vertical-align: middle;\n",
              "    }\n",
              "\n",
              "    .dataframe tbody tr th {\n",
              "        vertical-align: top;\n",
              "    }\n",
              "\n",
              "    .dataframe thead th {\n",
              "        text-align: right;\n",
              "    }\n",
              "</style>\n",
              "<table border=\"1\" class=\"dataframe\">\n",
              "  <thead>\n",
              "    <tr style=\"text-align: right;\">\n",
              "      <th></th>\n",
              "      <th>Survived</th>\n",
              "    </tr>\n",
              "    <tr>\n",
              "      <th>Title</th>\n",
              "      <th></th>\n",
              "    </tr>\n",
              "  </thead>\n",
              "  <tbody>\n",
              "    <tr>\n",
              "      <th>Ms</th>\n",
              "      <td>0.739550</td>\n",
              "    </tr>\n",
              "    <tr>\n",
              "      <th>Master</th>\n",
              "      <td>0.575000</td>\n",
              "    </tr>\n",
              "    <tr>\n",
              "      <th>rare</th>\n",
              "      <td>0.347826</td>\n",
              "    </tr>\n",
              "    <tr>\n",
              "      <th>Mr</th>\n",
              "      <td>0.156673</td>\n",
              "    </tr>\n",
              "  </tbody>\n",
              "</table>\n",
              "</div>"
            ],
            "text/plain": [
              "         Survived\n",
              "Title            \n",
              "Ms       0.739550\n",
              " Master  0.575000\n",
              "rare     0.347826\n",
              " Mr      0.156673"
            ]
          },
          "execution_count": 28,
          "metadata": {},
          "output_type": "execute_result"
        }
      ],
      "source": [
        "df[['Title','Survived']].groupby(['Title']).mean().sort_values(by='Survived',ascending=False) # to see descending order of survivals in each category"
      ]
    },
    {
      "cell_type": "code",
      "execution_count": null,
      "metadata": {
        "id": "PxN-6eBkPV0k"
      },
      "outputs": [],
      "source": [
        "# Extracting titles from the name using regex\n",
        "# import re\n",
        "# def capture_title(name):\n",
        "#     title_found=re.search('([A-Za-z]+)\\.',name)\n",
        "#     if title_found:\n",
        "#         return title_found.group(1) # group(1) coz we dont want .\n",
        "#     else:\n",
        "#         return \"\"\n",
        "\n",
        "# for i,data in df.iterrows():\n",
        "#     df.at[i,'Title2']=capture_title(data['Name'])\n",
        "#     print(df.at[i,'Title2'])"
      ]
    },
    {
      "cell_type": "code",
      "execution_count": null,
      "metadata": {
        "id": "hKI1PItGPV0l"
      },
      "outputs": [],
      "source": [
        "#title_found=re.search('([A-Za-z]+)\\.([ A-Za-z]+)',name)\n",
        "#return title_found.group(0)                               displays title along with name\n",
        "#title_found=re.search('([A-Za-z]+)\\. ([A-Za-z]+)',name)\n",
        "#return title_found.group(0)                               displays only title and first name"
      ]
    },
    {
      "cell_type": "markdown",
      "metadata": {
        "id": "tePQINudPV0n"
      },
      "source": [
        "# Age"
      ]
    },
    {
      "cell_type": "code",
      "execution_count": null,
      "metadata": {
        "id": "kjIlzDrGPV0n",
        "outputId": "9875860a-763b-4d70-ccb2-14d62fbb46e7"
      },
      "outputs": [
        {
          "data": {
            "text/plain": [
              "177"
            ]
          },
          "execution_count": 30,
          "metadata": {},
          "output_type": "execute_result"
        }
      ],
      "source": [
        "df['Age'].isnull().sum()"
      ]
    },
    {
      "cell_type": "code",
      "execution_count": null,
      "metadata": {
        "id": "ufKgTiGcPV0o",
        "outputId": "4a23673b-7516-4043-9327-74087e0436e4"
      },
      "outputs": [
        {
          "name": "stdout",
          "output_type": "stream",
          "text": [
            "29.69911764705882\n",
            "14.526497332334042\n"
          ]
        }
      ],
      "source": [
        "# since age has more missing records we fill it randomly with a value between the range (mean-σ,mean+σ)\n",
        "avg_age=df['Age'].mean() # find mean of age\n",
        "std_age=df['Age'].std() # find standard deviation of age\n",
        "print(avg_age)\n",
        "print(std_age)"
      ]
    },
    {
      "cell_type": "code",
      "execution_count": null,
      "metadata": {
        "id": "LnbSv4DBPV0p",
        "outputId": "4105414a-55ad-4e58-9653-6282f852cb5c"
      },
      "outputs": [
        {
          "name": "stdout",
          "output_type": "stream",
          "text": [
            "5   24.0\n",
            "17   32.0\n",
            "19   26.0\n",
            "26   15.0\n",
            "28   24.0\n",
            "29   43.0\n",
            "31   21.0\n",
            "32   34.0\n",
            "36   35.0\n",
            "42   17.0\n",
            "45   36.0\n",
            "46   42.0\n",
            "47   30.0\n",
            "48   27.0\n",
            "55   25.0\n",
            "64   35.0\n",
            "65   32.0\n",
            "76   43.0\n",
            "77   24.0\n",
            "82   43.0\n",
            "87   44.0\n",
            "95   42.0\n",
            "101   42.0\n",
            "107   26.0\n",
            "109   24.0\n",
            "121   18.0\n",
            "126   27.0\n",
            "128   40.0\n",
            "140   39.0\n",
            "154   19.0\n",
            "158   17.0\n",
            "159   33.0\n",
            "166   37.0\n",
            "168   29.0\n",
            "176   43.0\n",
            "180   36.0\n",
            "181   44.0\n",
            "185   18.0\n",
            "186   24.0\n",
            "196   33.0\n",
            "198   35.0\n",
            "201   43.0\n",
            "214   24.0\n",
            "223   18.0\n",
            "229   31.0\n",
            "235   19.0\n",
            "240   31.0\n",
            "241   40.0\n",
            "250   31.0\n",
            "256   44.0\n",
            "260   30.0\n",
            "264   21.0\n",
            "270   34.0\n",
            "274   25.0\n",
            "277   32.0\n",
            "284   34.0\n",
            "295   16.0\n",
            "298   44.0\n",
            "300   23.0\n",
            "301   24.0\n",
            "303   27.0\n",
            "304   28.0\n",
            "306   23.0\n",
            "324   39.0\n",
            "330   25.0\n",
            "334   35.0\n",
            "335   35.0\n",
            "347   17.0\n",
            "351   37.0\n",
            "354   42.0\n",
            "358   19.0\n",
            "359   22.0\n",
            "364   21.0\n",
            "367   31.0\n",
            "368   41.0\n",
            "375   33.0\n",
            "384   44.0\n",
            "388   36.0\n",
            "409   44.0\n",
            "410   36.0\n",
            "411   25.0\n",
            "413   42.0\n",
            "415   34.0\n",
            "420   18.0\n",
            "425   19.0\n",
            "428   33.0\n",
            "431   24.0\n",
            "444   34.0\n",
            "451   34.0\n",
            "454   29.0\n",
            "457   21.0\n",
            "459   41.0\n",
            "464   25.0\n",
            "466   25.0\n",
            "468   37.0\n",
            "470   25.0\n",
            "475   40.0\n",
            "481   17.0\n",
            "485   33.0\n",
            "490   20.0\n",
            "495   28.0\n",
            "497   22.0\n",
            "502   19.0\n",
            "507   38.0\n",
            "511   25.0\n",
            "517   39.0\n",
            "522   41.0\n",
            "524   35.0\n",
            "527   37.0\n",
            "531   40.0\n",
            "533   24.0\n",
            "538   34.0\n",
            "547   43.0\n",
            "552   17.0\n",
            "557   25.0\n",
            "560   34.0\n",
            "563   29.0\n",
            "564   23.0\n",
            "568   42.0\n",
            "573   19.0\n",
            "578   16.0\n",
            "584   30.0\n",
            "589   43.0\n",
            "593   21.0\n",
            "596   31.0\n",
            "598   20.0\n",
            "601   41.0\n",
            "602   38.0\n",
            "611   24.0\n",
            "612   26.0\n",
            "613   22.0\n",
            "629   17.0\n",
            "633   42.0\n",
            "639   36.0\n",
            "643   40.0\n",
            "648   42.0\n",
            "650   23.0\n",
            "653   26.0\n",
            "656   22.0\n",
            "667   23.0\n",
            "669   31.0\n",
            "674   32.0\n",
            "680   19.0\n",
            "692   27.0\n",
            "697   39.0\n",
            "709   38.0\n",
            "711   26.0\n",
            "718   33.0\n",
            "727   43.0\n",
            "732   31.0\n",
            "738   44.0\n",
            "739   20.0\n",
            "740   42.0\n",
            "760   25.0\n",
            "766   34.0\n",
            "768   26.0\n",
            "773   42.0\n",
            "776   33.0\n",
            "778   35.0\n",
            "783   42.0\n",
            "790   42.0\n",
            "792   16.0\n",
            "793   28.0\n",
            "815   25.0\n",
            "825   30.0\n",
            "826   40.0\n",
            "828   43.0\n",
            "832   19.0\n",
            "837   27.0\n",
            "839   22.0\n",
            "846   29.0\n",
            "849   37.0\n",
            "859   37.0\n",
            "863   34.0\n",
            "868   35.0\n",
            "878   31.0\n",
            "888   24.0\n"
          ]
        }
      ],
      "source": [
        "# replacing missing records with randomly generated value\n",
        "for i,data in df.iterrows(): # iterate through each row\n",
        "    if pd.isnull(data['Age']): # check if age column of ith row is empty\n",
        "        r=np.random.uniform(avg_age-std_age,avg_age+std_age) # generate random value within the range\n",
        "        r=np.round(r,0) # round that generated value\n",
        "        df.at[i,\"Age\"]=r # replace missing value with it\n",
        "        print(i,\" \",df.at[i,\"Age\"])  # print the index and the replaced value"
      ]
    },
    {
      "cell_type": "code",
      "execution_count": null,
      "metadata": {
        "id": "vDPudhqCPV0q",
        "outputId": "a71c57b0-c271-4b44-91f3-2babf5fbffe6"
      },
      "outputs": [
        {
          "data": {
            "text/plain": [
              "0      (20.315, 40.21]\n",
              "1      (20.315, 40.21]\n",
              "2      (20.315, 40.21]\n",
              "3      (20.315, 40.21]\n",
              "4      (20.315, 40.21]\n",
              "            ...       \n",
              "886    (20.315, 40.21]\n",
              "887     (0.34, 20.315]\n",
              "888    (20.315, 40.21]\n",
              "889    (20.315, 40.21]\n",
              "890    (20.315, 40.21]\n",
              "Name: CategoricalAge, Length: 891, dtype: category\n",
              "Categories (4, interval[float64]): [(0.34, 20.315] < (20.315, 40.21] < (40.21, 60.105] < (60.105, 80.0]]"
            ]
          },
          "execution_count": 33,
          "metadata": {},
          "output_type": "execute_result"
        }
      ],
      "source": [
        "# forming categories of age\n",
        "# df['CategoricalAge']=pd.qcut(df['Age'],4) width of each category is different\n",
        "df['CategoricalAge']=pd.cut(df['Age'],4) # 4 categories\n",
        "df['CategoricalAge']"
      ]
    },
    {
      "cell_type": "code",
      "execution_count": null,
      "metadata": {
        "id": "lGbCBvyPPV0r",
        "outputId": "ee1f81f3-768b-4e0f-ec4d-5f02875890e0"
      },
      "outputs": [
        {
          "data": {
            "text/html": [
              "<div>\n",
              "<style scoped>\n",
              "    .dataframe tbody tr th:only-of-type {\n",
              "        vertical-align: middle;\n",
              "    }\n",
              "\n",
              "    .dataframe tbody tr th {\n",
              "        vertical-align: top;\n",
              "    }\n",
              "\n",
              "    .dataframe thead th {\n",
              "        text-align: right;\n",
              "    }\n",
              "</style>\n",
              "<table border=\"1\" class=\"dataframe\">\n",
              "  <thead>\n",
              "    <tr style=\"text-align: right;\">\n",
              "      <th></th>\n",
              "      <th>Survived</th>\n",
              "    </tr>\n",
              "    <tr>\n",
              "      <th>CategoricalAge</th>\n",
              "      <th></th>\n",
              "    </tr>\n",
              "  </thead>\n",
              "  <tbody>\n",
              "    <tr>\n",
              "      <th>(0.34, 20.315]</th>\n",
              "      <td>0.416667</td>\n",
              "    </tr>\n",
              "    <tr>\n",
              "      <th>(20.315, 40.21]</th>\n",
              "      <td>0.384158</td>\n",
              "    </tr>\n",
              "    <tr>\n",
              "      <th>(40.21, 60.105]</th>\n",
              "      <td>0.362500</td>\n",
              "    </tr>\n",
              "    <tr>\n",
              "      <th>(60.105, 80.0]</th>\n",
              "      <td>0.227273</td>\n",
              "    </tr>\n",
              "  </tbody>\n",
              "</table>\n",
              "</div>"
            ],
            "text/plain": [
              "                 Survived\n",
              "CategoricalAge           \n",
              "(0.34, 20.315]   0.416667\n",
              "(20.315, 40.21]  0.384158\n",
              "(40.21, 60.105]  0.362500\n",
              "(60.105, 80.0]   0.227273"
            ]
          },
          "execution_count": 34,
          "metadata": {},
          "output_type": "execute_result"
        }
      ],
      "source": [
        "df[['CategoricalAge','Survived']].groupby(['CategoricalAge']).mean().sort_values(by='Survived',ascending=False)"
      ]
    },
    {
      "cell_type": "code",
      "execution_count": null,
      "metadata": {
        "id": "hwWPfzFOPV0r",
        "outputId": "dbe37563-25a8-4767-f5da-bd8a00906858"
      },
      "outputs": [
        {
          "data": {
            "text/plain": [
              "<AxesSubplot:xlabel='CategoricalAge'>"
            ]
          },
          "execution_count": 35,
          "metadata": {},
          "output_type": "execute_result"
        },
        {
          "data": {
            "image/png": "[encoded data removed]",
            "text/plain": [
              "<Figure size 432x288 with 1 Axes>"
            ]
          },
          "metadata": {
            "needs_background": "light"
          },
          "output_type": "display_data"
        }
      ],
      "source": [
        "df[['CategoricalAge','Survived']].groupby(['CategoricalAge']).mean().sort_values(by='Survived',ascending=False).plot(kind='bar')"
      ]
    },
    {
      "cell_type": "markdown",
      "metadata": {
        "id": "IGrs2yVmPV0s"
      },
      "source": [
        "# Outliers"
      ]
    },
    {
      "cell_type": "code",
      "execution_count": null,
      "metadata": {
        "id": "k-MyaM4xPV0t",
        "outputId": "86227efc-b2fc-4437-de69-ff5aa4170f24"
      },
      "outputs": [
        {
          "name": "stderr",
          "output_type": "stream",
          "text": [
            "c:\\python37\\lib\\site-packages\\seaborn\\_decorators.py:43: FutureWarning: Pass the following variable as a keyword arg: x. From version 0.12, the only valid positional argument will be `data`, and passing other arguments without an explicit keyword will result in an error or misinterpretation.\n",
            "  FutureWarning\n"
          ]
        },
        {
          "data": {
            "text/plain": [
              "<AxesSubplot:xlabel='Age'>"
            ]
          },
          "execution_count": 36,
          "metadata": {},
          "output_type": "execute_result"
        },
        {
          "data": {
            "image/png": "[encoded data removed]",
            "text/plain": [
              "<Figure size 432x288 with 1 Axes>"
            ]
          },
          "metadata": {
            "needs_background": "light"
          },
          "output_type": "display_data"
        }
      ],
      "source": [
        "# boxplot of age variable\n",
        "sns.boxplot(df['Age'])  # there are outliers"
      ]
    },
    {
      "cell_type": "code",
      "execution_count": null,
      "metadata": {
        "id": "_gCvDxbxPV0t",
        "outputId": "2b110d07-5c4e-42a8-a882-4d90918df5ce"
      },
      "outputs": [
        {
          "name": "stdout",
          "output_type": "stream",
          "text": [
            "Number of outliers detected in Age:  13\n"
          ]
        }
      ],
      "source": [
        "# find number of outliers\n",
        "Q1=df['Age'].quantile(0.25)  # or df.Age.quantile(0.25)\n",
        "Q3=df['Age'].quantile(0.75)  # or df.Age.quantile(0.75)\n",
        "IQR=Q3-Q1\n",
        "lower=Q1-1.5*IQR\n",
        "upper=Q3+1.5*IQR\n",
        "df2=df[(df['Age']<lower) | (df['Age']>upper) ]\n",
        "print(\"Number of outliers detected in Age: \",df2.shape[0])"
      ]
    },
    {
      "cell_type": "code",
      "execution_count": null,
      "metadata": {
        "id": "BC37hl7LPV0u",
        "outputId": "542e7151-e359-4170-abfc-21b6a8acc1f4"
      },
      "outputs": [
        {
          "name": "stdout",
          "output_type": "stream",
          "text": [
            "Number of outliers detected in Age:  86\n"
          ]
        }
      ],
      "source": [
        "# quantile way of outliers\n",
        "max_val=df['Age'].quantile(0.95)  # or df.Age.quantile(0.95)\n",
        "min_val=df['Age'].quantile(0.05)  # or df.Age.quantile(0.05)\n",
        "df2=df[(df['Age']<min_val) | (df['Age']>max_val) ]\n",
        "print(\"Number of outliers detected in Age: \",df2.shape[0])"
      ]
    },
    {
      "cell_type": "code",
      "execution_count": null,
      "metadata": {
        "id": "rsxaYAQOPV0v"
      },
      "outputs": [],
      "source": [
        "for i,data in df.iterrows():\n",
        "    if data['Age']<lower:\n",
        "        df.at[i,'Age']=lower #as age is known so random number is not prefered\n",
        "    elif data['Age']>upper:\n",
        "        df.at[i,'Age']=upper #as age is known so random number is not prefered"
      ]
    },
    {
      "cell_type": "code",
      "execution_count": null,
      "metadata": {
        "id": "tOr7o_OvPV0v",
        "outputId": "097fa208-4d63-41dc-d2de-7134d1ed5b12"
      },
      "outputs": [
        {
          "name": "stderr",
          "output_type": "stream",
          "text": [
            "c:\\python37\\lib\\site-packages\\seaborn\\_decorators.py:43: FutureWarning: Pass the following variable as a keyword arg: x. From version 0.12, the only valid positional argument will be `data`, and passing other arguments without an explicit keyword will result in an error or misinterpretation.\n",
            "  FutureWarning\n"
          ]
        },
        {
          "data": {
            "text/plain": [
              "<AxesSubplot:xlabel='Age'>"
            ]
          },
          "execution_count": 40,
          "metadata": {},
          "output_type": "execute_result"
        },
        {
          "data": {
            "image/png": "[encoded data removed]",
            "text/plain": [
              "<Figure size 432x288 with 1 Axes>"
            ]
          },
          "metadata": {
            "needs_background": "light"
          },
          "output_type": "display_data"
        }
      ],
      "source": [
        "sns.boxplot(df['Age'])"
      ]
    },
    {
      "cell_type": "markdown",
      "metadata": {
        "id": "Xl3l5MwkPV0w"
      },
      "source": [
        "# Fare"
      ]
    },
    {
      "cell_type": "code",
      "execution_count": null,
      "metadata": {
        "id": "F_wr-ks7PV0w",
        "outputId": "57768e87-1213-4213-b360-725637b6039e"
      },
      "outputs": [
        {
          "data": {
            "text/plain": [
              "0       (-0.001, 7.91]\n",
              "1      (31.0, 512.329]\n",
              "2       (7.91, 14.454]\n",
              "3      (31.0, 512.329]\n",
              "4       (7.91, 14.454]\n",
              "            ...       \n",
              "886     (7.91, 14.454]\n",
              "887     (14.454, 31.0]\n",
              "888     (14.454, 31.0]\n",
              "889     (14.454, 31.0]\n",
              "890     (-0.001, 7.91]\n",
              "Name: CategoricalFare, Length: 891, dtype: category\n",
              "Categories (4, interval[float64]): [(-0.001, 7.91] < (7.91, 14.454] < (14.454, 31.0] < (31.0, 512.329]]"
            ]
          },
          "execution_count": 41,
          "metadata": {},
          "output_type": "execute_result"
        }
      ],
      "source": [
        "# forming categories of fare\n",
        "df['CategoricalFare']=pd.qcut(df['Fare'],4) # 4 categories\n",
        "df['CategoricalFare']"
      ]
    },
    {
      "cell_type": "code",
      "execution_count": null,
      "metadata": {
        "id": "EnEyXIZZPV0x",
        "outputId": "e1532e4d-e8ee-4576-e19f-a9b90a241a47"
      },
      "outputs": [
        {
          "data": {
            "text/html": [
              "<div>\n",
              "<style scoped>\n",
              "    .dataframe tbody tr th:only-of-type {\n",
              "        vertical-align: middle;\n",
              "    }\n",
              "\n",
              "    .dataframe tbody tr th {\n",
              "        vertical-align: top;\n",
              "    }\n",
              "\n",
              "    .dataframe thead th {\n",
              "        text-align: right;\n",
              "    }\n",
              "</style>\n",
              "<table border=\"1\" class=\"dataframe\">\n",
              "  <thead>\n",
              "    <tr style=\"text-align: right;\">\n",
              "      <th></th>\n",
              "      <th>Survived</th>\n",
              "    </tr>\n",
              "    <tr>\n",
              "      <th>CategoricalFare</th>\n",
              "      <th></th>\n",
              "    </tr>\n",
              "  </thead>\n",
              "  <tbody>\n",
              "    <tr>\n",
              "      <th>(31.0, 512.329]</th>\n",
              "      <td>0.581081</td>\n",
              "    </tr>\n",
              "    <tr>\n",
              "      <th>(14.454, 31.0]</th>\n",
              "      <td>0.454955</td>\n",
              "    </tr>\n",
              "    <tr>\n",
              "      <th>(7.91, 14.454]</th>\n",
              "      <td>0.303571</td>\n",
              "    </tr>\n",
              "    <tr>\n",
              "      <th>(-0.001, 7.91]</th>\n",
              "      <td>0.197309</td>\n",
              "    </tr>\n",
              "  </tbody>\n",
              "</table>\n",
              "</div>"
            ],
            "text/plain": [
              "                 Survived\n",
              "CategoricalFare          \n",
              "(31.0, 512.329]  0.581081\n",
              "(14.454, 31.0]   0.454955\n",
              "(7.91, 14.454]   0.303571\n",
              "(-0.001, 7.91]   0.197309"
            ]
          },
          "execution_count": 42,
          "metadata": {},
          "output_type": "execute_result"
        }
      ],
      "source": [
        "df[['CategoricalFare','Survived']].groupby(['CategoricalFare']).mean().sort_values(by='Survived',ascending=False)"
      ]
    },
    {
      "cell_type": "code",
      "execution_count": null,
      "metadata": {
        "id": "EEfMTWB9PV0x",
        "outputId": "ab651d56-8f4d-4dc3-bd0a-8544afeb0020"
      },
      "outputs": [
        {
          "data": {
            "text/plain": [
              "<AxesSubplot:xlabel='CategoricalFare'>"
            ]
          },
          "execution_count": 43,
          "metadata": {},
          "output_type": "execute_result"
        },
        {
          "data": {
            "image/png": "[encoded data removed]",
            "text/plain": [
              "<Figure size 432x288 with 1 Axes>"
            ]
          },
          "metadata": {
            "needs_background": "light"
          },
          "output_type": "display_data"
        }
      ],
      "source": [
        "df[['CategoricalFare','Survived']].groupby(['CategoricalFare']).mean().sort_values(by='Survived',ascending=False).plot(kind='bar')"
      ]
    },
    {
      "cell_type": "markdown",
      "metadata": {
        "id": "7UdYs_1RPV0y"
      },
      "source": [
        "# Embarked"
      ]
    },
    {
      "cell_type": "code",
      "execution_count": null,
      "metadata": {
        "id": "s01fPIWGPV0y"
      },
      "outputs": [],
      "source": [
        "# if we get error\n",
        "# df['Embarked']=df['Embarked'].astype('str')"
      ]
    },
    {
      "cell_type": "code",
      "execution_count": null,
      "metadata": {
        "id": "3f7JbwQuPV0z"
      },
      "outputs": [],
      "source": [
        "# df['Embarked']=df['Embarked'].astype('category')"
      ]
    },
    {
      "cell_type": "code",
      "execution_count": null,
      "metadata": {
        "id": "Ml4GMZhZPV0z",
        "outputId": "c3c75770-7f63-4aa3-88c0-dabdc00d2cca"
      },
      "outputs": [
        {
          "data": {
            "text/plain": [
              "2"
            ]
          },
          "execution_count": 46,
          "metadata": {},
          "output_type": "execute_result"
        }
      ],
      "source": [
        "df['Embarked'].isnull().sum()"
      ]
    },
    {
      "cell_type": "code",
      "execution_count": null,
      "metadata": {
        "id": "42J_fDMxPV00",
        "outputId": "52449610-aa47-47a8-fc5c-fb33e481a8d2"
      },
      "outputs": [
        {
          "data": {
            "text/plain": [
              "pandas.core.series.Series"
            ]
          },
          "execution_count": 47,
          "metadata": {},
          "output_type": "execute_result"
        }
      ],
      "source": [
        "type(df['Embarked'])"
      ]
    },
    {
      "cell_type": "code",
      "execution_count": null,
      "metadata": {
        "id": "oWSV4uGOPV00",
        "outputId": "a53c5630-94f0-484b-debe-7417ee08a0ab"
      },
      "outputs": [
        {
          "data": {
            "text/plain": [
              "'S'"
            ]
          },
          "execution_count": 48,
          "metadata": {},
          "output_type": "execute_result"
        }
      ],
      "source": [
        "EmbarkedMax=df['Embarked'].mode()[0]\n",
        "EmbarkedMax"
      ]
    },
    {
      "cell_type": "code",
      "execution_count": null,
      "metadata": {
        "id": "vnc-0_NPPV01",
        "outputId": "5dcff0bc-9b80-4e2d-8994-c785ebaa152d"
      },
      "outputs": [
        {
          "name": "stdout",
          "output_type": "stream",
          "text": [
            "61   S\n",
            "829   S\n"
          ]
        }
      ],
      "source": [
        "for i,data in df.iterrows():\n",
        "    if pd.isnull(data['Embarked']):\n",
        "        df.at[i,'Embarked']=EmbarkedMax\n",
        "        print(i,\" \",df.at[i,'Embarked'])"
      ]
    },
    {
      "cell_type": "code",
      "execution_count": null,
      "metadata": {
        "id": "6o4fq1bjPV01",
        "outputId": "24cc5c59-bed2-40c9-866f-efe07e8a597b"
      },
      "outputs": [
        {
          "data": {
            "text/plain": [
              "S    646\n",
              "C    168\n",
              "Q     77\n",
              "Name: Embarked, dtype: int64"
            ]
          },
          "execution_count": 50,
          "metadata": {},
          "output_type": "execute_result"
        }
      ],
      "source": [
        "df['Embarked'].value_counts()"
      ]
    },
    {
      "cell_type": "code",
      "execution_count": null,
      "metadata": {
        "id": "AQsmnyKYPV02",
        "outputId": "4c02c28e-fe52-47fa-92cd-b6f1308d010d"
      },
      "outputs": [
        {
          "data": {
            "text/plain": [
              "<AxesSubplot:>"
            ]
          },
          "execution_count": 51,
          "metadata": {},
          "output_type": "execute_result"
        },
        {
          "data": {
            "image/png": "[encoded data removed]",
            "text/plain": [
              "<Figure size 432x288 with 1 Axes>"
            ]
          },
          "metadata": {
            "needs_background": "light"
          },
          "output_type": "display_data"
        }
      ],
      "source": [
        "df['Embarked'].value_counts().plot(kind='bar')"
      ]
    },
    {
      "cell_type": "code",
      "execution_count": null,
      "metadata": {
        "id": "RhWagLMePV03",
        "outputId": "b6a722b5-07b0-443f-e518-6d34f7a68c78"
      },
      "outputs": [
        {
          "data": {
            "text/plain": [
              "<AxesSubplot:ylabel='Embarked'>"
            ]
          },
          "execution_count": 52,
          "metadata": {},
          "output_type": "execute_result"
        },
        {
          "data": {
            "image/png": "[encoded data removed]",
            "text/plain": [
              "<Figure size 432x288 with 1 Axes>"
            ]
          },
          "metadata": {},
          "output_type": "display_data"
        }
      ],
      "source": [
        "df['Embarked'].value_counts().plot(kind='pie')"
      ]
    },
    {
      "cell_type": "code",
      "execution_count": null,
      "metadata": {
        "id": "6UAxZGvNPV03",
        "outputId": "14961e97-3f11-4017-d76d-113d209f21e1"
      },
      "outputs": [
        {
          "data": {
            "text/html": [
              "<div>\n",
              "<style scoped>\n",
              "    .dataframe tbody tr th:only-of-type {\n",
              "        vertical-align: middle;\n",
              "    }\n",
              "\n",
              "    .dataframe tbody tr th {\n",
              "        vertical-align: top;\n",
              "    }\n",
              "\n",
              "    .dataframe thead th {\n",
              "        text-align: right;\n",
              "    }\n",
              "</style>\n",
              "<table border=\"1\" class=\"dataframe\">\n",
              "  <thead>\n",
              "    <tr style=\"text-align: right;\">\n",
              "      <th></th>\n",
              "      <th>Survived</th>\n",
              "    </tr>\n",
              "    <tr>\n",
              "      <th>Embarked</th>\n",
              "      <th></th>\n",
              "    </tr>\n",
              "  </thead>\n",
              "  <tbody>\n",
              "    <tr>\n",
              "      <th>C</th>\n",
              "      <td>0.553571</td>\n",
              "    </tr>\n",
              "    <tr>\n",
              "      <th>Q</th>\n",
              "      <td>0.389610</td>\n",
              "    </tr>\n",
              "    <tr>\n",
              "      <th>S</th>\n",
              "      <td>0.339009</td>\n",
              "    </tr>\n",
              "  </tbody>\n",
              "</table>\n",
              "</div>"
            ],
            "text/plain": [
              "          Survived\n",
              "Embarked          \n",
              "C         0.553571\n",
              "Q         0.389610\n",
              "S         0.339009"
            ]
          },
          "execution_count": 53,
          "metadata": {},
          "output_type": "execute_result"
        }
      ],
      "source": [
        "df[['Embarked','Survived']].groupby(['Embarked']).mean()"
      ]
    },
    {
      "cell_type": "code",
      "execution_count": null,
      "metadata": {
        "id": "dGLd0NXMPV04",
        "outputId": "804d9f14-d995-41db-8eb4-e8098f527747"
      },
      "outputs": [
        {
          "data": {
            "text/plain": [
              "<AxesSubplot:xlabel='Embarked'>"
            ]
          },
          "execution_count": 54,
          "metadata": {},
          "output_type": "execute_result"
        },
        {
          "data": {
            "image/png": "[encoded data removed]",
            "text/plain": [
              "<Figure size 432x288 with 1 Axes>"
            ]
          },
          "metadata": {
            "needs_background": "light"
          },
          "output_type": "display_data"
        }
      ],
      "source": [
        "df[['Embarked','Survived']].groupby(['Embarked']).mean().plot(kind='bar')"
      ]
    },
    {
      "cell_type": "code",
      "execution_count": null,
      "metadata": {
        "id": "0ZiEv0kWPV04",
        "outputId": "835fa0a9-c6bb-4d33-e71b-e37dbc025567"
      },
      "outputs": [
        {
          "data": {
            "text/plain": [
              "<AxesSubplot:xlabel='Embarked,Sex'>"
            ]
          },
          "execution_count": 55,
          "metadata": {},
          "output_type": "execute_result"
        },
        {
          "data": {
            "image/png": "[encoded data removed]",
            "text/plain": [
              "<Figure size 432x288 with 1 Axes>"
            ]
          },
          "metadata": {
            "needs_background": "light"
          },
          "output_type": "display_data"
        }
      ],
      "source": [
        "df[['Embarked','Sex','Survived']].groupby(['Embarked','Sex']).mean().plot(kind='bar')"
      ]
    },
    {
      "cell_type": "markdown",
      "metadata": {
        "id": "YElPAE30PV05"
      },
      "source": [
        "# Gender"
      ]
    },
    {
      "cell_type": "code",
      "execution_count": null,
      "metadata": {
        "id": "5hAKJOg3PV05",
        "outputId": "60348286-8334-44da-d1fe-bfdbc73a16e8"
      },
      "outputs": [
        {
          "data": {
            "text/plain": [
              "male      577\n",
              "female    314\n",
              "Name: Sex, dtype: int64"
            ]
          },
          "execution_count": 56,
          "metadata": {},
          "output_type": "execute_result"
        }
      ],
      "source": [
        "df['Sex'].value_counts()"
      ]
    },
    {
      "cell_type": "code",
      "execution_count": null,
      "metadata": {
        "id": "UgWRbLRaPV06",
        "outputId": "3c9eeb2d-5488-4559-939d-1203fced3677"
      },
      "outputs": [
        {
          "data": {
            "text/plain": [
              "<AxesSubplot:>"
            ]
          },
          "execution_count": 57,
          "metadata": {},
          "output_type": "execute_result"
        },
        {
          "data": {
            "image/png": "[encoded data removed]",
            "text/plain": [
              "<Figure size 432x288 with 1 Axes>"
            ]
          },
          "metadata": {
            "needs_background": "light"
          },
          "output_type": "display_data"
        }
      ],
      "source": [
        "df['Sex'].value_counts().plot(kind='bar')"
      ]
    },
    {
      "cell_type": "code",
      "execution_count": null,
      "metadata": {
        "id": "-mGLpotRPV06",
        "outputId": "97a31f7b-e892-48b8-908e-b4ea92fa8b41"
      },
      "outputs": [
        {
          "data": {
            "text/html": [
              "<div>\n",
              "<style scoped>\n",
              "    .dataframe tbody tr th:only-of-type {\n",
              "        vertical-align: middle;\n",
              "    }\n",
              "\n",
              "    .dataframe tbody tr th {\n",
              "        vertical-align: top;\n",
              "    }\n",
              "\n",
              "    .dataframe thead th {\n",
              "        text-align: right;\n",
              "    }\n",
              "</style>\n",
              "<table border=\"1\" class=\"dataframe\">\n",
              "  <thead>\n",
              "    <tr style=\"text-align: right;\">\n",
              "      <th></th>\n",
              "      <th>Survived</th>\n",
              "    </tr>\n",
              "    <tr>\n",
              "      <th>Sex</th>\n",
              "      <th></th>\n",
              "    </tr>\n",
              "  </thead>\n",
              "  <tbody>\n",
              "    <tr>\n",
              "      <th>female</th>\n",
              "      <td>0.742038</td>\n",
              "    </tr>\n",
              "    <tr>\n",
              "      <th>male</th>\n",
              "      <td>0.188908</td>\n",
              "    </tr>\n",
              "  </tbody>\n",
              "</table>\n",
              "</div>"
            ],
            "text/plain": [
              "        Survived\n",
              "Sex             \n",
              "female  0.742038\n",
              "male    0.188908"
            ]
          },
          "execution_count": 58,
          "metadata": {},
          "output_type": "execute_result"
        }
      ],
      "source": [
        "df[['Sex','Survived']].groupby(['Sex']).mean()"
      ]
    },
    {
      "cell_type": "code",
      "execution_count": null,
      "metadata": {
        "id": "tidGXctOPV07",
        "outputId": "5d8e438a-8dda-4f01-f581-758c581694a5"
      },
      "outputs": [
        {
          "data": {
            "text/plain": [
              "<AxesSubplot:xlabel='Sex'>"
            ]
          },
          "execution_count": 59,
          "metadata": {},
          "output_type": "execute_result"
        },
        {
          "data": {
            "image/png": "[encoded data removed]",
            "text/plain": [
              "<Figure size 432x288 with 1 Axes>"
            ]
          },
          "metadata": {
            "needs_background": "light"
          },
          "output_type": "display_data"
        }
      ],
      "source": [
        "df[['Sex','Survived']].groupby(['Sex']).mean().plot(kind='bar')"
      ]
    },
    {
      "cell_type": "markdown",
      "metadata": {
        "id": "nQ8CWpkrPV07"
      },
      "source": [
        "# Cabin"
      ]
    },
    {
      "cell_type": "code",
      "execution_count": null,
      "metadata": {
        "id": "x9IcLVg_PV08",
        "outputId": "76f5f79c-e7c5-4ca2-a374-4ce2f5988d3b"
      },
      "outputs": [
        {
          "data": {
            "text/plain": [
              "687"
            ]
          },
          "execution_count": 60,
          "metadata": {},
          "output_type": "execute_result"
        }
      ],
      "source": [
        "df['Cabin'].isna().sum()"
      ]
    },
    {
      "cell_type": "code",
      "execution_count": null,
      "metadata": {
        "id": "jhsiuEiJPV08",
        "outputId": "f8e50d5c-e990-49ca-f865-55532c06e5dc"
      },
      "outputs": [
        {
          "data": {
            "text/plain": [
              "C    59\n",
              "B    47\n",
              "D    33\n",
              "E    32\n",
              "A    15\n",
              "F    13\n",
              "G     4\n",
              "T     1\n",
              "Name: Cabin, dtype: int64"
            ]
          },
          "execution_count": 61,
          "metadata": {},
          "output_type": "execute_result"
        }
      ],
      "source": [
        "def initial_cabin(x):\n",
        "    return x[0]\n",
        "\n",
        "cabins=df['Cabin'].dropna()\n",
        "\n",
        "cabins=cabins.apply(initial_cabin)\n",
        "\n",
        "cabins.value_counts()"
      ]
    },
    {
      "cell_type": "code",
      "execution_count": null,
      "metadata": {
        "id": "-n4VFPVBPV09",
        "outputId": "21824f52-815c-4c66-b501-97ebdad501b9"
      },
      "outputs": [
        {
          "data": {
            "text/plain": [
              "<AxesSubplot:>"
            ]
          },
          "execution_count": 62,
          "metadata": {},
          "output_type": "execute_result"
        },
        {
          "data": {
            "image/png": "[encoded data removed]",
            "text/plain": [
              "<Figure size 432x288 with 1 Axes>"
            ]
          },
          "metadata": {
            "needs_background": "light"
          },
          "output_type": "display_data"
        }
      ],
      "source": [
        "cabins.value_counts().plot(kind='bar')"
      ]
    },
    {
      "cell_type": "markdown",
      "metadata": {
        "id": "dQF5Q1TJPV09"
      },
      "source": [
        "# PClass"
      ]
    },
    {
      "cell_type": "code",
      "execution_count": null,
      "metadata": {
        "id": "2ImONOuRPV0-",
        "outputId": "c151dbcc-4e9f-4766-deef-a15a068705c3"
      },
      "outputs": [
        {
          "data": {
            "text/html": [
              "<div>\n",
              "<style scoped>\n",
              "    .dataframe tbody tr th:only-of-type {\n",
              "        vertical-align: middle;\n",
              "    }\n",
              "\n",
              "    .dataframe tbody tr th {\n",
              "        vertical-align: top;\n",
              "    }\n",
              "\n",
              "    .dataframe thead th {\n",
              "        text-align: right;\n",
              "    }\n",
              "</style>\n",
              "<table border=\"1\" class=\"dataframe\">\n",
              "  <thead>\n",
              "    <tr style=\"text-align: right;\">\n",
              "      <th></th>\n",
              "      <th>Survived</th>\n",
              "    </tr>\n",
              "    <tr>\n",
              "      <th>Pclass</th>\n",
              "      <th></th>\n",
              "    </tr>\n",
              "  </thead>\n",
              "  <tbody>\n",
              "    <tr>\n",
              "      <th>1</th>\n",
              "      <td>0.629630</td>\n",
              "    </tr>\n",
              "    <tr>\n",
              "      <th>2</th>\n",
              "      <td>0.472826</td>\n",
              "    </tr>\n",
              "    <tr>\n",
              "      <th>3</th>\n",
              "      <td>0.242363</td>\n",
              "    </tr>\n",
              "  </tbody>\n",
              "</table>\n",
              "</div>"
            ],
            "text/plain": [
              "        Survived\n",
              "Pclass          \n",
              "1       0.629630\n",
              "2       0.472826\n",
              "3       0.242363"
            ]
          },
          "execution_count": 63,
          "metadata": {},
          "output_type": "execute_result"
        }
      ],
      "source": [
        "df[['Pclass','Survived']].groupby(['Pclass']).mean()"
      ]
    },
    {
      "cell_type": "code",
      "execution_count": null,
      "metadata": {
        "id": "L_HaMF3VPV0_",
        "outputId": "d275e97e-f52b-4606-fd12-e43566c083e6"
      },
      "outputs": [
        {
          "data": {
            "text/plain": [
              "<AxesSubplot:xlabel='Pclass'>"
            ]
          },
          "execution_count": 64,
          "metadata": {},
          "output_type": "execute_result"
        },
        {
          "data": {
            "image/png": "[encoded data removed]",
            "text/plain": [
              "<Figure size 432x288 with 1 Axes>"
            ]
          },
          "metadata": {
            "needs_background": "light"
          },
          "output_type": "display_data"
        }
      ],
      "source": [
        "df[['Pclass','Survived']].groupby(['Pclass']).mean().plot(kind='bar')"
      ]
    },
    {
      "cell_type": "code",
      "execution_count": null,
      "metadata": {
        "id": "AAd2j0SDPV0_",
        "outputId": "33a83538-bd48-4a00-c73c-e758f760c602"
      },
      "outputs": [
        {
          "data": {
            "text/plain": [
              "<AxesSubplot:xlabel='Pclass,Sex'>"
            ]
          },
          "execution_count": 65,
          "metadata": {},
          "output_type": "execute_result"
        },
        {
          "data": {
            "image/png": "[encoded data removed]",
            "text/plain": [
              "<Figure size 432x288 with 1 Axes>"
            ]
          },
          "metadata": {
            "needs_background": "light"
          },
          "output_type": "display_data"
        }
      ],
      "source": [
        "df[['Pclass','Sex','Survived']].groupby(['Pclass','Sex']).mean().plot(kind='bar')"
      ]
    },
    {
      "cell_type": "code",
      "execution_count": null,
      "metadata": {
        "id": "lnThu7cCPV1A",
        "outputId": "6fe95196-1d66-486e-aa15-f4a17e35f29b"
      },
      "outputs": [
        {
          "data": {
            "text/plain": [
              "<AxesSubplot:ylabel='Pclass'>"
            ]
          },
          "execution_count": 66,
          "metadata": {},
          "output_type": "execute_result"
        },
        {
          "data": {
            "image/png": "[encoded data removed]",
            "text/plain": [
              "<Figure size 432x288 with 1 Axes>"
            ]
          },
          "metadata": {
            "needs_background": "light"
          },
          "output_type": "display_data"
        }
      ],
      "source": [
        "df[['Pclass','Survived']].groupby(['Pclass']).mean().plot(kind='barh')"
      ]
    },
    {
      "cell_type": "code",
      "execution_count": null,
      "metadata": {
        "id": "7V2RlvxdPV1A",
        "outputId": "126d772b-150b-44c2-d6b0-580f096dd175"
      },
      "outputs": [
        {
          "data": {
            "text/plain": [
              "<AxesSubplot:xlabel='Pclass'>"
            ]
          },
          "execution_count": 67,
          "metadata": {},
          "output_type": "execute_result"
        },
        {
          "data": {
            "image/png": "[encoded data removed]",
            "text/plain": [
              "<Figure size 432x288 with 1 Axes>"
            ]
          },
          "metadata": {
            "needs_background": "light"
          },
          "output_type": "display_data"
        }
      ],
      "source": [
        "df[['Pclass','Survived']].groupby(['Pclass']).mean().plot(kind='bar',grid=True)"
      ]
    },
    {
      "cell_type": "code",
      "execution_count": null,
      "metadata": {
        "id": "juRJmZFAPV1B",
        "outputId": "be1c3a07-dd17-4ebc-bbb5-c7da9e1e6235"
      },
      "outputs": [
        {
          "data": {
            "text/plain": [
              "<AxesSubplot:xlabel='Pclass'>"
            ]
          },
          "execution_count": 68,
          "metadata": {},
          "output_type": "execute_result"
        },
        {
          "data": {
            "image/png": "[encoded data removed]",
            "text/plain": [
              "<Figure size 504x360 with 1 Axes>"
            ]
          },
          "metadata": {
            "needs_background": "light"
          },
          "output_type": "display_data"
        }
      ],
      "source": [
        "df[['Pclass','Survived']].groupby(['Pclass']).mean().plot(kind='bar',figsize=(7,5))"
      ]
    },
    {
      "cell_type": "markdown",
      "metadata": {
        "id": "jZ5hFkujPV1B"
      },
      "source": [
        "# New column from Existing data (Feature Engineering)"
      ]
    },
    {
      "cell_type": "code",
      "execution_count": null,
      "metadata": {
        "id": "PswW9TjyPV1C",
        "outputId": "e4baf555-026f-4f73-a68d-c61220802c8b"
      },
      "outputs": [
        {
          "name": "stdout",
          "output_type": "stream",
          "text": [
            "0   2.0\n",
            "1   2.0\n",
            "2   1.0\n",
            "3   2.0\n",
            "4   1.0\n",
            "5   1.0\n",
            "6   1.0\n",
            "7   5.0\n",
            "8   3.0\n",
            "9   2.0\n",
            "10   3.0\n",
            "11   1.0\n",
            "12   1.0\n",
            "13   7.0\n",
            "14   1.0\n",
            "15   1.0\n",
            "16   6.0\n",
            "17   1.0\n",
            "18   2.0\n",
            "19   1.0\n",
            "20   1.0\n",
            "21   1.0\n",
            "22   1.0\n",
            "23   1.0\n",
            "24   5.0\n",
            "25   7.0\n",
            "26   1.0\n",
            "27   6.0\n",
            "28   1.0\n",
            "29   1.0\n",
            "30   1.0\n",
            "31   2.0\n",
            "32   1.0\n",
            "33   1.0\n",
            "34   2.0\n",
            "35   2.0\n",
            "36   1.0\n",
            "37   1.0\n",
            "38   3.0\n",
            "39   2.0\n",
            "40   2.0\n",
            "41   2.0\n",
            "42   1.0\n",
            "43   4.0\n",
            "44   1.0\n",
            "45   1.0\n",
            "46   2.0\n",
            "47   1.0\n",
            "48   3.0\n",
            "49   2.0\n",
            "50   6.0\n",
            "51   1.0\n",
            "52   2.0\n",
            "53   2.0\n",
            "54   2.0\n",
            "55   1.0\n",
            "56   1.0\n",
            "57   1.0\n",
            "58   4.0\n",
            "59   8.0\n",
            "60   1.0\n",
            "61   1.0\n",
            "62   2.0\n",
            "63   6.0\n",
            "64   1.0\n",
            "65   3.0\n",
            "66   1.0\n",
            "67   1.0\n",
            "68   7.0\n",
            "69   3.0\n",
            "70   1.0\n",
            "71   8.0\n",
            "72   1.0\n",
            "73   2.0\n",
            "74   1.0\n",
            "75   1.0\n",
            "76   1.0\n",
            "77   1.0\n",
            "78   3.0\n",
            "79   1.0\n",
            "80   1.0\n",
            "81   1.0\n",
            "82   1.0\n",
            "83   1.0\n",
            "84   1.0\n",
            "85   4.0\n",
            "86   5.0\n",
            "87   1.0\n",
            "88   6.0\n",
            "89   1.0\n",
            "90   1.0\n",
            "91   1.0\n",
            "92   2.0\n",
            "93   4.0\n",
            "94   1.0\n",
            "95   1.0\n",
            "96   1.0\n",
            "97   2.0\n",
            "98   2.0\n",
            "99   2.0\n",
            "100   1.0\n",
            "101   1.0\n",
            "102   2.0\n",
            "103   1.0\n",
            "104   3.0\n",
            "105   1.0\n",
            "106   1.0\n",
            "107   1.0\n",
            "108   1.0\n",
            "109   2.0\n",
            "110   1.0\n",
            "111   2.0\n",
            "112   1.0\n",
            "113   2.0\n",
            "114   1.0\n",
            "115   1.0\n",
            "116   1.0\n",
            "117   2.0\n",
            "118   2.0\n",
            "119   7.0\n",
            "120   3.0\n",
            "121   1.0\n",
            "122   2.0\n",
            "123   1.0\n",
            "124   2.0\n",
            "125   2.0\n",
            "126   1.0\n",
            "127   1.0\n",
            "128   3.0\n",
            "129   1.0\n",
            "130   1.0\n",
            "131   1.0\n",
            "132   2.0\n",
            "133   2.0\n",
            "134   1.0\n",
            "135   1.0\n",
            "136   3.0\n",
            "137   2.0\n",
            "138   1.0\n",
            "139   1.0\n",
            "140   3.0\n",
            "141   1.0\n",
            "142   2.0\n",
            "143   1.0\n",
            "144   1.0\n",
            "145   3.0\n",
            "146   1.0\n",
            "147   5.0\n",
            "148   3.0\n",
            "149   1.0\n",
            "150   1.0\n",
            "151   2.0\n",
            "152   1.0\n",
            "153   3.0\n",
            "154   1.0\n",
            "155   2.0\n",
            "156   1.0\n",
            "157   1.0\n",
            "158   1.0\n",
            "159   11.0\n",
            "160   2.0\n",
            "161   1.0\n",
            "162   1.0\n",
            "163   1.0\n",
            "164   6.0\n",
            "165   3.0\n",
            "166   2.0\n",
            "167   6.0\n",
            "168   1.0\n",
            "169   1.0\n",
            "170   1.0\n",
            "171   6.0\n",
            "172   3.0\n",
            "173   1.0\n",
            "174   1.0\n",
            "175   3.0\n",
            "176   5.0\n",
            "177   1.0\n",
            "178   1.0\n",
            "179   1.0\n",
            "180   11.0\n",
            "181   1.0\n",
            "182   7.0\n",
            "183   4.0\n",
            "184   3.0\n",
            "185   1.0\n",
            "186   2.0\n",
            "187   1.0\n",
            "188   3.0\n",
            "189   1.0\n",
            "190   1.0\n",
            "191   1.0\n",
            "192   2.0\n",
            "193   3.0\n",
            "194   1.0\n",
            "195   1.0\n",
            "196   1.0\n",
            "197   2.0\n",
            "198   1.0\n",
            "199   1.0\n",
            "200   1.0\n",
            "201   11.0\n",
            "202   1.0\n",
            "203   1.0\n",
            "204   1.0\n",
            "205   2.0\n",
            "206   2.0\n",
            "207   1.0\n",
            "208   1.0\n",
            "209   1.0\n",
            "210   1.0\n",
            "211   1.0\n",
            "212   1.0\n",
            "213   1.0\n",
            "214   2.0\n",
            "215   2.0\n",
            "216   1.0\n",
            "217   2.0\n",
            "218   1.0\n",
            "219   1.0\n",
            "220   1.0\n",
            "221   1.0\n",
            "222   1.0\n",
            "223   1.0\n",
            "224   2.0\n",
            "225   1.0\n",
            "226   1.0\n",
            "227   1.0\n",
            "228   1.0\n",
            "229   5.0\n",
            "230   2.0\n",
            "231   1.0\n",
            "232   1.0\n",
            "233   7.0\n",
            "234   1.0\n",
            "235   1.0\n",
            "236   2.0\n",
            "237   3.0\n",
            "238   1.0\n",
            "239   1.0\n",
            "240   2.0\n",
            "241   2.0\n",
            "242   1.0\n",
            "243   1.0\n",
            "244   1.0\n",
            "245   3.0\n",
            "246   1.0\n",
            "247   3.0\n",
            "248   3.0\n",
            "249   2.0\n",
            "250   1.0\n",
            "251   3.0\n",
            "252   1.0\n",
            "253   2.0\n",
            "254   3.0\n",
            "255   3.0\n",
            "256   1.0\n",
            "257   1.0\n",
            "258   1.0\n",
            "259   2.0\n",
            "260   1.0\n",
            "261   7.0\n",
            "262   3.0\n",
            "263   1.0\n",
            "264   1.0\n",
            "265   1.0\n",
            "266   6.0\n",
            "267   2.0\n",
            "268   2.0\n",
            "269   1.0\n",
            "270   1.0\n",
            "271   1.0\n",
            "272   2.0\n",
            "273   2.0\n",
            "274   1.0\n",
            "275   2.0\n",
            "276   1.0\n",
            "277   1.0\n",
            "278   6.0\n",
            "279   3.0\n",
            "280   1.0\n",
            "281   1.0\n",
            "282   1.0\n",
            "283   1.0\n",
            "284   1.0\n",
            "285   1.0\n",
            "286   1.0\n",
            "287   1.0\n",
            "288   1.0\n",
            "289   1.0\n",
            "290   1.0\n",
            "291   2.0\n",
            "292   1.0\n",
            "293   1.0\n",
            "294   1.0\n",
            "295   1.0\n",
            "296   1.0\n",
            "297   4.0\n",
            "298   1.0\n",
            "299   2.0\n",
            "300   1.0\n",
            "301   3.0\n",
            "302   1.0\n",
            "303   1.0\n",
            "304   1.0\n",
            "305   4.0\n",
            "306   1.0\n",
            "307   2.0\n",
            "308   2.0\n",
            "309   1.0\n",
            "310   1.0\n",
            "311   5.0\n",
            "312   3.0\n",
            "313   1.0\n",
            "314   3.0\n",
            "315   1.0\n",
            "316   2.0\n",
            "317   1.0\n",
            "318   3.0\n",
            "319   3.0\n",
            "320   1.0\n",
            "321   1.0\n",
            "322   1.0\n",
            "323   3.0\n",
            "324   11.0\n",
            "325   1.0\n",
            "326   1.0\n",
            "327   1.0\n",
            "328   3.0\n",
            "329   2.0\n",
            "330   3.0\n",
            "331   1.0\n",
            "332   2.0\n",
            "333   3.0\n",
            "334   2.0\n",
            "335   1.0\n",
            "336   2.0\n",
            "337   1.0\n",
            "338   1.0\n",
            "339   1.0\n",
            "340   3.0\n",
            "341   6.0\n",
            "342   1.0\n",
            "343   1.0\n",
            "344   1.0\n",
            "345   1.0\n",
            "346   1.0\n",
            "347   2.0\n",
            "348   3.0\n",
            "349   1.0\n",
            "350   1.0\n",
            "351   1.0\n",
            "352   3.0\n",
            "353   2.0\n",
            "354   1.0\n",
            "355   1.0\n",
            "356   2.0\n",
            "357   1.0\n",
            "358   1.0\n",
            "359   1.0\n",
            "360   6.0\n",
            "361   2.0\n",
            "362   2.0\n",
            "363   1.0\n",
            "364   2.0\n",
            "365   1.0\n",
            "366   2.0\n",
            "367   1.0\n",
            "368   1.0\n",
            "369   1.0\n",
            "370   2.0\n",
            "371   2.0\n",
            "372   1.0\n",
            "373   1.0\n",
            "374   5.0\n",
            "375   2.0\n",
            "376   1.0\n",
            "377   3.0\n",
            "378   1.0\n",
            "379   1.0\n",
            "380   1.0\n",
            "381   3.0\n",
            "382   1.0\n",
            "383   2.0\n",
            "384   1.0\n",
            "385   1.0\n",
            "386   8.0\n",
            "387   1.0\n",
            "388   1.0\n",
            "389   1.0\n",
            "390   4.0\n",
            "391   1.0\n",
            "392   3.0\n",
            "393   2.0\n",
            "394   3.0\n",
            "395   1.0\n",
            "396   1.0\n",
            "397   1.0\n",
            "398   1.0\n",
            "399   1.0\n",
            "400   1.0\n",
            "401   1.0\n",
            "402   2.0\n",
            "403   2.0\n",
            "404   1.0\n",
            "405   2.0\n",
            "406   1.0\n",
            "407   3.0\n",
            "408   1.0\n",
            "409   5.0\n",
            "410   1.0\n",
            "411   1.0\n",
            "412   2.0\n",
            "413   1.0\n",
            "414   1.0\n",
            "415   1.0\n",
            "416   3.0\n",
            "417   3.0\n",
            "418   1.0\n",
            "419   3.0\n",
            "420   1.0\n",
            "421   1.0\n",
            "422   1.0\n",
            "423   3.0\n",
            "424   3.0\n",
            "425   1.0\n",
            "426   2.0\n",
            "427   1.0\n",
            "428   1.0\n",
            "429   1.0\n",
            "430   1.0\n",
            "431   2.0\n",
            "432   2.0\n",
            "433   1.0\n",
            "434   2.0\n",
            "435   4.0\n",
            "436   5.0\n",
            "437   6.0\n",
            "438   6.0\n",
            "439   1.0\n",
            "440   3.0\n",
            "441   1.0\n",
            "442   2.0\n",
            "443   1.0\n",
            "444   1.0\n",
            "445   3.0\n",
            "446   2.0\n",
            "447   1.0\n",
            "448   4.0\n",
            "449   1.0\n",
            "450   4.0\n",
            "451   2.0\n",
            "452   1.0\n",
            "453   2.0\n",
            "454   1.0\n",
            "455   1.0\n",
            "456   1.0\n",
            "457   2.0\n",
            "458   1.0\n",
            "459   1.0\n",
            "460   1.0\n",
            "461   1.0\n",
            "462   1.0\n",
            "463   1.0\n",
            "464   1.0\n",
            "465   1.0\n",
            "466   1.0\n",
            "467   1.0\n",
            "468   1.0\n",
            "469   4.0\n",
            "470   1.0\n",
            "471   1.0\n",
            "472   4.0\n",
            "473   1.0\n",
            "474   1.0\n",
            "475   1.0\n",
            "476   2.0\n",
            "477   2.0\n",
            "478   1.0\n",
            "479   2.0\n",
            "480   8.0\n",
            "481   1.0\n",
            "482   1.0\n",
            "483   1.0\n",
            "484   2.0\n",
            "485   5.0\n",
            "486   2.0\n",
            "487   1.0\n",
            "488   1.0\n",
            "489   3.0\n",
            "490   2.0\n",
            "491   1.0\n",
            "492   1.0\n",
            "493   1.0\n",
            "494   1.0\n",
            "495   1.0\n",
            "496   2.0\n",
            "497   1.0\n",
            "498   4.0\n",
            "499   1.0\n",
            "500   1.0\n",
            "501   1.0\n",
            "502   1.0\n",
            "503   1.0\n",
            "504   1.0\n",
            "505   2.0\n",
            "506   3.0\n",
            "507   1.0\n",
            "508   1.0\n",
            "509   1.0\n",
            "510   1.0\n",
            "511   1.0\n",
            "512   1.0\n",
            "513   2.0\n",
            "514   1.0\n",
            "515   1.0\n",
            "516   1.0\n",
            "517   1.0\n",
            "518   2.0\n",
            "519   1.0\n",
            "520   1.0\n",
            "521   1.0\n",
            "522   1.0\n",
            "523   2.0\n",
            "524   1.0\n",
            "525   1.0\n",
            "526   1.0\n",
            "527   1.0\n",
            "528   1.0\n",
            "529   4.0\n",
            "530   3.0\n",
            "531   1.0\n",
            "532   3.0\n",
            "533   3.0\n",
            "534   1.0\n",
            "535   3.0\n",
            "536   1.0\n",
            "537   1.0\n",
            "538   1.0\n",
            "539   3.0\n",
            "540   3.0\n",
            "541   7.0\n",
            "542   7.0\n",
            "543   2.0\n",
            "544   2.0\n",
            "545   1.0\n",
            "546   2.0\n",
            "547   1.0\n",
            "548   3.0\n",
            "549   3.0\n",
            "550   3.0\n",
            "551   1.0\n",
            "552   1.0\n",
            "553   1.0\n",
            "554   1.0\n",
            "555   1.0\n",
            "556   2.0\n",
            "557   1.0\n",
            "558   3.0\n",
            "559   2.0\n",
            "560   1.0\n",
            "561   1.0\n",
            "562   1.0\n",
            "563   1.0\n",
            "564   1.0\n",
            "565   3.0\n",
            "566   1.0\n",
            "567   5.0\n",
            "568   1.0\n",
            "569   1.0\n",
            "570   1.0\n",
            "571   3.0\n",
            "572   1.0\n",
            "573   1.0\n",
            "574   1.0\n",
            "575   1.0\n",
            "576   1.0\n",
            "577   2.0\n",
            "578   2.0\n",
            "579   1.0\n",
            "580   3.0\n",
            "581   3.0\n",
            "582   1.0\n",
            "583   1.0\n",
            "584   1.0\n",
            "585   3.0\n",
            "586   1.0\n",
            "587   3.0\n",
            "588   1.0\n",
            "589   1.0\n",
            "590   1.0\n",
            "591   2.0\n",
            "592   1.0\n",
            "593   3.0\n",
            "594   2.0\n",
            "595   3.0\n",
            "596   1.0\n",
            "597   1.0\n",
            "598   1.0\n",
            "599   2.0\n",
            "600   4.0\n",
            "601   1.0\n",
            "602   1.0\n",
            "603   1.0\n",
            "604   1.0\n",
            "605   2.0\n",
            "606   1.0\n",
            "607   1.0\n",
            "608   4.0\n",
            "609   1.0\n",
            "610   7.0\n",
            "611   1.0\n",
            "612   2.0\n",
            "613   1.0\n",
            "614   1.0\n",
            "615   4.0\n",
            "616   3.0\n",
            "617   2.0\n",
            "618   4.0\n",
            "619   1.0\n",
            "620   2.0\n",
            "621   2.0\n",
            "622   3.0\n",
            "623   1.0\n",
            "624   1.0\n",
            "625   1.0\n",
            "626   1.0\n",
            "627   1.0\n",
            "628   1.0\n",
            "629   1.0\n",
            "630   1.0\n",
            "631   1.0\n",
            "632   1.0\n",
            "633   1.0\n",
            "634   6.0\n",
            "635   1.0\n",
            "636   1.0\n",
            "637   3.0\n",
            "638   6.0\n",
            "639   2.0\n",
            "640   1.0\n",
            "641   1.0\n",
            "642   6.0\n",
            "643   1.0\n",
            "644   4.0\n",
            "645   2.0\n",
            "646   1.0\n",
            "647   1.0\n",
            "648   1.0\n",
            "649   1.0\n",
            "650   1.0\n",
            "651   2.0\n",
            "652   1.0\n",
            "653   1.0\n",
            "654   1.0\n",
            "655   3.0\n",
            "656   1.0\n",
            "657   3.0\n",
            "658   1.0\n",
            "659   3.0\n",
            "660   3.0\n",
            "661   1.0\n",
            "662   1.0\n",
            "663   1.0\n",
            "664   2.0\n",
            "665   3.0\n",
            "666   1.0\n",
            "667   1.0\n",
            "668   1.0\n",
            "669   2.0\n",
            "670   3.0\n",
            "671   2.0\n",
            "672   1.0\n",
            "673   1.0\n",
            "674   1.0\n",
            "675   1.0\n",
            "676   1.0\n",
            "677   1.0\n",
            "678   8.0\n",
            "679   2.0\n",
            "680   1.0\n",
            "681   1.0\n",
            "682   1.0\n",
            "683   8.0\n",
            "684   3.0\n",
            "685   4.0\n",
            "686   6.0\n",
            "687   1.0\n",
            "688   1.0\n",
            "689   2.0\n",
            "690   2.0\n",
            "691   2.0\n",
            "692   1.0\n",
            "693   1.0\n",
            "694   1.0\n",
            "695   1.0\n",
            "696   1.0\n",
            "697   1.0\n",
            "698   3.0\n",
            "699   1.0\n",
            "700   2.0\n",
            "701   1.0\n",
            "702   2.0\n",
            "703   1.0\n",
            "704   2.0\n",
            "705   1.0\n",
            "706   1.0\n",
            "707   1.0\n",
            "708   1.0\n",
            "709   3.0\n",
            "710   1.0\n",
            "711   1.0\n",
            "712   2.0\n",
            "713   1.0\n",
            "714   1.0\n",
            "715   1.0\n",
            "716   1.0\n",
            "717   1.0\n",
            "718   1.0\n",
            "719   1.0\n",
            "720   2.0\n",
            "721   2.0\n",
            "722   1.0\n",
            "723   1.0\n",
            "724   2.0\n",
            "725   1.0\n",
            "726   4.0\n",
            "727   1.0\n",
            "728   2.0\n",
            "729   2.0\n",
            "730   1.0\n",
            "731   1.0\n",
            "732   1.0\n",
            "733   1.0\n",
            "734   1.0\n",
            "735   1.0\n",
            "736   5.0\n",
            "737   1.0\n",
            "738   1.0\n",
            "739   1.0\n",
            "740   1.0\n",
            "741   2.0\n",
            "742   5.0\n",
            "743   2.0\n",
            "744   1.0\n",
            "745   3.0\n",
            "746   3.0\n",
            "747   1.0\n",
            "748   2.0\n",
            "749   1.0\n",
            "750   3.0\n",
            "751   2.0\n",
            "752   1.0\n",
            "753   1.0\n",
            "754   4.0\n",
            "755   3.0\n",
            "756   1.0\n",
            "757   1.0\n",
            "758   1.0\n",
            "759   1.0\n",
            "760   1.0\n",
            "761   1.0\n",
            "762   1.0\n",
            "763   4.0\n",
            "764   1.0\n",
            "765   2.0\n",
            "766   1.0\n",
            "767   1.0\n",
            "768   2.0\n",
            "769   1.0\n",
            "770   1.0\n",
            "771   1.0\n",
            "772   1.0\n",
            "773   1.0\n",
            "774   5.0\n",
            "775   1.0\n",
            "776   1.0\n",
            "777   1.0\n",
            "778   1.0\n",
            "779   2.0\n",
            "780   1.0\n",
            "781   2.0\n",
            "782   1.0\n",
            "783   4.0\n",
            "784   1.0\n",
            "785   1.0\n",
            "786   1.0\n",
            "787   6.0\n",
            "788   4.0\n",
            "789   1.0\n",
            "790   1.0\n",
            "791   1.0\n",
            "792   11.0\n",
            "793   1.0\n",
            "794   1.0\n",
            "795   1.0\n",
            "796   1.0\n",
            "797   1.0\n",
            "798   1.0\n",
            "799   3.0\n",
            "800   1.0\n",
            "801   3.0\n",
            "802   4.0\n",
            "803   2.0\n",
            "804   1.0\n",
            "805   1.0\n",
            "806   1.0\n",
            "807   1.0\n",
            "808   1.0\n",
            "809   2.0\n",
            "810   1.0\n",
            "811   1.0\n",
            "812   1.0\n",
            "813   7.0\n",
            "814   1.0\n",
            "815   1.0\n",
            "816   1.0\n",
            "817   3.0\n",
            "818   1.0\n",
            "819   6.0\n",
            "820   3.0\n",
            "821   1.0\n",
            "822   1.0\n",
            "823   2.0\n",
            "824   6.0\n",
            "825   1.0\n",
            "826   1.0\n",
            "827   3.0\n",
            "828   1.0\n",
            "829   1.0\n",
            "830   2.0\n",
            "831   3.0\n",
            "832   1.0\n",
            "833   1.0\n",
            "834   1.0\n",
            "835   3.0\n",
            "836   1.0\n",
            "837   1.0\n",
            "838   1.0\n",
            "839   1.0\n",
            "840   1.0\n",
            "841   1.0\n",
            "842   1.0\n",
            "843   1.0\n",
            "844   1.0\n",
            "845   1.0\n",
            "846   11.0\n",
            "847   1.0\n",
            "848   2.0\n",
            "849   2.0\n",
            "850   7.0\n",
            "851   1.0\n",
            "852   3.0\n",
            "853   2.0\n",
            "854   2.0\n",
            "855   2.0\n",
            "856   3.0\n",
            "857   1.0\n",
            "858   4.0\n",
            "859   1.0\n",
            "860   3.0\n",
            "861   2.0\n",
            "862   1.0\n",
            "863   11.0\n",
            "864   1.0\n",
            "865   1.0\n",
            "866   2.0\n",
            "867   1.0\n",
            "868   1.0\n",
            "869   3.0\n",
            "870   1.0\n",
            "871   3.0\n",
            "872   1.0\n",
            "873   1.0\n",
            "874   2.0\n",
            "875   1.0\n",
            "876   1.0\n",
            "877   1.0\n",
            "878   1.0\n",
            "879   2.0\n",
            "880   2.0\n",
            "881   1.0\n",
            "882   1.0\n",
            "883   1.0\n",
            "884   1.0\n",
            "885   6.0\n",
            "886   1.0\n",
            "887   1.0\n",
            "888   4.0\n",
            "889   1.0\n",
            "890   1.0\n"
          ]
        }
      ],
      "source": [
        "# new column Family Size that tells total number of family members\n",
        "for i,data in df.iterrows():\n",
        "    df.at[i,'Family Size']=data['SibSp']+data['Parch']+1\n",
        "    print(i,\" \",df.at[i,'Family Size'])"
      ]
    },
    {
      "cell_type": "code",
      "execution_count": null,
      "metadata": {
        "id": "DB0k8v2kPV1C",
        "outputId": "c7fe15c4-0724-402f-f67a-90de220f8fea"
      },
      "outputs": [
        {
          "data": {
            "text/html": [
              "<div>\n",
              "<style scoped>\n",
              "    .dataframe tbody tr th:only-of-type {\n",
              "        vertical-align: middle;\n",
              "    }\n",
              "\n",
              "    .dataframe tbody tr th {\n",
              "        vertical-align: top;\n",
              "    }\n",
              "\n",
              "    .dataframe thead th {\n",
              "        text-align: right;\n",
              "    }\n",
              "</style>\n",
              "<table border=\"1\" class=\"dataframe\">\n",
              "  <thead>\n",
              "    <tr style=\"text-align: right;\">\n",
              "      <th></th>\n",
              "      <th>Survived</th>\n",
              "    </tr>\n",
              "    <tr>\n",
              "      <th>Family Size</th>\n",
              "      <th></th>\n",
              "    </tr>\n",
              "  </thead>\n",
              "  <tbody>\n",
              "    <tr>\n",
              "      <th>1.0</th>\n",
              "      <td>0.303538</td>\n",
              "    </tr>\n",
              "    <tr>\n",
              "      <th>2.0</th>\n",
              "      <td>0.552795</td>\n",
              "    </tr>\n",
              "    <tr>\n",
              "      <th>3.0</th>\n",
              "      <td>0.578431</td>\n",
              "    </tr>\n",
              "    <tr>\n",
              "      <th>4.0</th>\n",
              "      <td>0.724138</td>\n",
              "    </tr>\n",
              "    <tr>\n",
              "      <th>5.0</th>\n",
              "      <td>0.200000</td>\n",
              "    </tr>\n",
              "    <tr>\n",
              "      <th>6.0</th>\n",
              "      <td>0.136364</td>\n",
              "    </tr>\n",
              "    <tr>\n",
              "      <th>7.0</th>\n",
              "      <td>0.333333</td>\n",
              "    </tr>\n",
              "    <tr>\n",
              "      <th>8.0</th>\n",
              "      <td>0.000000</td>\n",
              "    </tr>\n",
              "    <tr>\n",
              "      <th>11.0</th>\n",
              "      <td>0.000000</td>\n",
              "    </tr>\n",
              "  </tbody>\n",
              "</table>\n",
              "</div>"
            ],
            "text/plain": [
              "             Survived\n",
              "Family Size          \n",
              "1.0          0.303538\n",
              "2.0          0.552795\n",
              "3.0          0.578431\n",
              "4.0          0.724138\n",
              "5.0          0.200000\n",
              "6.0          0.136364\n",
              "7.0          0.333333\n",
              "8.0          0.000000\n",
              "11.0         0.000000"
            ]
          },
          "execution_count": 70,
          "metadata": {},
          "output_type": "execute_result"
        }
      ],
      "source": [
        "df[['Family Size','Survived']].groupby(['Family Size']).mean()"
      ]
    },
    {
      "cell_type": "code",
      "execution_count": null,
      "metadata": {
        "id": "5Qy2BzrrPV1D",
        "outputId": "0942200c-9f45-4ec9-9399-4b93b439a99c"
      },
      "outputs": [
        {
          "data": {
            "text/plain": [
              "<AxesSubplot:xlabel='Family Size'>"
            ]
          },
          "execution_count": 71,
          "metadata": {},
          "output_type": "execute_result"
        },
        {
          "data": {
            "image/png": "[encoded data removed]",
            "text/plain": [
              "<Figure size 432x288 with 1 Axes>"
            ]
          },
          "metadata": {
            "needs_background": "light"
          },
          "output_type": "display_data"
        }
      ],
      "source": [
        "df[['Family Size','Survived']].groupby(['Family Size']).mean().plot(kind='bar')"
      ]
    },
    {
      "cell_type": "code",
      "execution_count": null,
      "metadata": {
        "id": "MBhv8nmyPV1E",
        "outputId": "3144cc83-14f5-4424-94eb-195ea70bbbbb"
      },
      "outputs": [
        {
          "name": "stdout",
          "output_type": "stream",
          "text": [
            "0   0.0\n",
            "1   0.0\n",
            "3   0.0\n",
            "7   0.0\n",
            "9   0.0\n",
            "10   0.0\n",
            "13   0.0\n",
            "16   0.0\n",
            "18   0.0\n",
            "24   0.0\n",
            "25   0.0\n",
            "27   0.0\n",
            "31   0.0\n",
            "34   0.0\n",
            "35   0.0\n",
            "38   0.0\n",
            "39   0.0\n",
            "40   0.0\n",
            "41   0.0\n",
            "43   0.0\n",
            "46   0.0\n",
            "48   0.0\n",
            "49   0.0\n",
            "50   0.0\n",
            "52   0.0\n",
            "53   0.0\n",
            "58   0.0\n",
            "59   0.0\n",
            "62   0.0\n",
            "63   0.0\n",
            "65   0.0\n",
            "68   0.0\n",
            "69   0.0\n",
            "71   0.0\n",
            "73   0.0\n",
            "85   0.0\n",
            "86   0.0\n",
            "88   0.0\n",
            "92   0.0\n",
            "93   0.0\n",
            "99   0.0\n",
            "104   0.0\n",
            "109   0.0\n",
            "111   0.0\n",
            "113   0.0\n",
            "117   0.0\n",
            "119   0.0\n",
            "120   0.0\n",
            "122   0.0\n",
            "125   0.0\n",
            "128   0.0\n",
            "132   0.0\n",
            "133   0.0\n",
            "137   0.0\n",
            "142   0.0\n",
            "145   0.0\n",
            "147   0.0\n",
            "151   0.0\n",
            "159   0.0\n",
            "164   0.0\n",
            "167   0.0\n",
            "171   0.0\n",
            "172   0.0\n",
            "175   0.0\n",
            "176   0.0\n",
            "180   0.0\n",
            "182   0.0\n",
            "183   0.0\n",
            "186   0.0\n",
            "188   0.0\n",
            "192   0.0\n",
            "193   0.0\n",
            "201   0.0\n",
            "206   0.0\n",
            "214   0.0\n",
            "215   0.0\n",
            "217   0.0\n",
            "224   0.0\n",
            "229   0.0\n",
            "230   0.0\n",
            "233   0.0\n",
            "236   0.0\n",
            "240   0.0\n",
            "241   0.0\n",
            "245   0.0\n",
            "248   0.0\n",
            "249   0.0\n",
            "251   0.0\n",
            "253   0.0\n",
            "261   0.0\n",
            "262   0.0\n",
            "266   0.0\n",
            "267   0.0\n",
            "275   0.0\n",
            "278   0.0\n",
            "279   0.0\n",
            "291   0.0\n",
            "297   0.0\n",
            "301   0.0\n",
            "305   0.0\n",
            "307   0.0\n",
            "308   0.0\n",
            "311   0.0\n",
            "312   0.0\n",
            "314   0.0\n",
            "316   0.0\n",
            "319   0.0\n",
            "323   0.0\n",
            "324   0.0\n",
            "328   0.0\n",
            "330   0.0\n",
            "333   0.0\n",
            "334   0.0\n",
            "336   0.0\n",
            "340   0.0\n",
            "341   0.0\n",
            "347   0.0\n",
            "348   0.0\n",
            "352   0.0\n",
            "353   0.0\n",
            "360   0.0\n",
            "361   0.0\n",
            "364   0.0\n",
            "366   0.0\n",
            "370   0.0\n",
            "371   0.0\n",
            "374   0.0\n",
            "375   0.0\n",
            "383   0.0\n",
            "386   0.0\n",
            "390   0.0\n",
            "392   0.0\n",
            "393   0.0\n",
            "402   0.0\n",
            "403   0.0\n",
            "405   0.0\n",
            "407   0.0\n",
            "409   0.0\n",
            "412   0.0\n",
            "416   0.0\n",
            "423   0.0\n",
            "424   0.0\n",
            "426   0.0\n",
            "431   0.0\n",
            "432   0.0\n",
            "434   0.0\n",
            "435   0.0\n",
            "436   0.0\n",
            "437   0.0\n",
            "438   0.0\n",
            "440   0.0\n",
            "442   0.0\n",
            "448   0.0\n",
            "450   0.0\n",
            "451   0.0\n",
            "453   0.0\n",
            "457   0.0\n",
            "469   0.0\n",
            "472   0.0\n",
            "476   0.0\n",
            "477   0.0\n",
            "480   0.0\n",
            "484   0.0\n",
            "485   0.0\n",
            "486   0.0\n",
            "489   0.0\n",
            "490   0.0\n",
            "496   0.0\n",
            "498   0.0\n",
            "505   0.0\n",
            "513   0.0\n",
            "518   0.0\n",
            "529   0.0\n",
            "530   0.0\n",
            "532   0.0\n",
            "541   0.0\n",
            "542   0.0\n",
            "543   0.0\n",
            "544   0.0\n",
            "546   0.0\n",
            "548   0.0\n",
            "549   0.0\n",
            "556   0.0\n",
            "558   0.0\n",
            "559   0.0\n",
            "565   0.0\n",
            "571   0.0\n",
            "577   0.0\n",
            "578   0.0\n",
            "580   0.0\n",
            "581   0.0\n",
            "587   0.0\n",
            "591   0.0\n",
            "594   0.0\n",
            "595   0.0\n",
            "599   0.0\n",
            "600   0.0\n",
            "605   0.0\n",
            "608   0.0\n",
            "610   0.0\n",
            "612   0.0\n",
            "615   0.0\n",
            "616   0.0\n",
            "617   0.0\n",
            "618   0.0\n",
            "620   0.0\n",
            "621   0.0\n",
            "622   0.0\n",
            "634   0.0\n",
            "637   0.0\n",
            "639   0.0\n",
            "642   0.0\n",
            "644   0.0\n",
            "645   0.0\n",
            "655   0.0\n",
            "657   0.0\n",
            "660   0.0\n",
            "664   0.0\n",
            "665   0.0\n",
            "669   0.0\n",
            "670   0.0\n",
            "671   0.0\n",
            "678   0.0\n",
            "683   0.0\n",
            "684   0.0\n",
            "685   0.0\n",
            "686   0.0\n",
            "690   0.0\n",
            "698   0.0\n",
            "700   0.0\n",
            "704   0.0\n",
            "709   0.0\n",
            "712   0.0\n",
            "721   0.0\n",
            "724   0.0\n",
            "726   0.0\n",
            "728   0.0\n",
            "729   0.0\n",
            "736   0.0\n",
            "741   0.0\n",
            "742   0.0\n",
            "743   0.0\n",
            "745   0.0\n",
            "746   0.0\n",
            "748   0.0\n",
            "750   0.0\n",
            "754   0.0\n",
            "755   0.0\n",
            "763   0.0\n",
            "765   0.0\n",
            "768   0.0\n",
            "774   0.0\n",
            "781   0.0\n",
            "783   0.0\n",
            "787   0.0\n",
            "788   0.0\n",
            "792   0.0\n",
            "799   0.0\n",
            "801   0.0\n",
            "802   0.0\n",
            "809   0.0\n",
            "813   0.0\n",
            "817   0.0\n",
            "819   0.0\n",
            "820   0.0\n",
            "824   0.0\n",
            "830   0.0\n",
            "831   0.0\n",
            "835   0.0\n",
            "846   0.0\n",
            "849   0.0\n",
            "850   0.0\n",
            "852   0.0\n",
            "854   0.0\n",
            "856   0.0\n",
            "860   0.0\n",
            "861   0.0\n",
            "863   0.0\n",
            "866   0.0\n",
            "869   0.0\n",
            "871   0.0\n",
            "874   0.0\n",
            "888   0.0\n"
          ]
        }
      ],
      "source": [
        "# new column IsAlone that tells if a passenger is travelling alone\n",
        "for i,data in df.iterrows():\n",
        "    if data['SibSp']==0 & data['Parch']==0:\n",
        "        df.at[i,'IsAlone']=1\n",
        "    else:\n",
        "        df.at[i,'IsAlone'] = 0\n",
        "        print(i,\" \",df.at[i,'IsAlone'])"
      ]
    },
    {
      "cell_type": "markdown",
      "metadata": {
        "id": "itwz2PFVPV1F"
      },
      "source": [
        "# Dealing with duplicate records"
      ]
    },
    {
      "cell_type": "code",
      "execution_count": null,
      "metadata": {
        "id": "l-oRIxbuPV1F",
        "outputId": "6ad07a75-f0a9-4b79-bc9f-f00c0c57509e"
      },
      "outputs": [
        {
          "data": {
            "text/plain": [
              "0"
            ]
          },
          "execution_count": 73,
          "metadata": {},
          "output_type": "execute_result"
        }
      ],
      "source": [
        "# handling duplicated records\n",
        "df.duplicated().sum()   # total number of duplicate records"
      ]
    },
    {
      "cell_type": "code",
      "execution_count": null,
      "metadata": {
        "id": "NKSkEsMdPV1G"
      },
      "outputs": [],
      "source": [
        "# deleting the duplicate records\n",
        "df.drop_duplicates(keep='first',inplace=True) # first means keep first record and remove other duplicated , inplace=True is used for permanent change in the dataframe"
      ]
    },
    {
      "cell_type": "markdown",
      "metadata": {
        "id": "eu8VIZmLPV1G"
      },
      "source": [
        "# PandasGUI"
      ]
    },
    {
      "cell_type": "code",
      "execution_count": null,
      "metadata": {
        "id": "P4mv3eR2PV1H"
      },
      "outputs": [],
      "source": [
        "import pandasgui\n",
        "import pandas as pd\n",
        "from pandasgui import show"
      ]
    },
    {
      "cell_type": "code",
      "execution_count": null,
      "metadata": {
        "id": "Ex5NFv8oPV1H"
      },
      "outputs": [],
      "source": [
        "from pandasgui.datasets import pokemon\n",
        "show(pokemon)"
      ]
    },
    {
      "cell_type": "code",
      "execution_count": null,
      "metadata": {
        "id": "EO1Et96KPV1I"
      },
      "outputs": [],
      "source": [
        "from pandasgui import show\n",
        "gui=show(df)"
      ]
    },
    {
      "cell_type": "markdown",
      "metadata": {
        "id": "ZuGGfhxkPV1I"
      },
      "source": [
        "#  Encoding"
      ]
    },
    {
      "cell_type": "code",
      "execution_count": null,
      "metadata": {
        "id": "c5QYtCYHPV1J",
        "outputId": "9e9e45ca-ffad-40b9-9916-12469978eac9"
      },
      "outputs": [
        {
          "data": {
            "text/html": [
              "<div>\n",
              "<style scoped>\n",
              "    .dataframe tbody tr th:only-of-type {\n",
              "        vertical-align: middle;\n",
              "    }\n",
              "\n",
              "    .dataframe tbody tr th {\n",
              "        vertical-align: top;\n",
              "    }\n",
              "\n",
              "    .dataframe thead th {\n",
              "        text-align: right;\n",
              "    }\n",
              "</style>\n",
              "<table border=\"1\" class=\"dataframe\">\n",
              "  <thead>\n",
              "    <tr style=\"text-align: right;\">\n",
              "      <th></th>\n",
              "      <th>PassengerId</th>\n",
              "      <th>Survived</th>\n",
              "      <th>Pclass</th>\n",
              "      <th>Name</th>\n",
              "      <th>Sex</th>\n",
              "      <th>Age</th>\n",
              "      <th>SibSp</th>\n",
              "      <th>Parch</th>\n",
              "      <th>Ticket</th>\n",
              "      <th>Fare</th>\n",
              "      <th>Cabin</th>\n",
              "      <th>Embarked</th>\n",
              "      <th>Title</th>\n",
              "      <th>CategoricalAge</th>\n",
              "      <th>CategoricalFare</th>\n",
              "      <th>Family Size</th>\n",
              "      <th>IsAlone</th>\n",
              "    </tr>\n",
              "  </thead>\n",
              "  <tbody>\n",
              "    <tr>\n",
              "      <th>0</th>\n",
              "      <td>1</td>\n",
              "      <td>0</td>\n",
              "      <td>3</td>\n",
              "      <td>Braund, Mr. Owen Harris</td>\n",
              "      <td>male</td>\n",
              "      <td>22.0</td>\n",
              "      <td>1</td>\n",
              "      <td>0</td>\n",
              "      <td>A/5 21171</td>\n",
              "      <td>7.2500</td>\n",
              "      <td>NaN</td>\n",
              "      <td>S</td>\n",
              "      <td>Mr</td>\n",
              "      <td>(20.315, 40.21]</td>\n",
              "      <td>(-0.001, 7.91]</td>\n",
              "      <td>2.0</td>\n",
              "      <td>0.0</td>\n",
              "    </tr>\n",
              "    <tr>\n",
              "      <th>1</th>\n",
              "      <td>2</td>\n",
              "      <td>1</td>\n",
              "      <td>1</td>\n",
              "      <td>Cumings, Mrs. John Bradley (Florence Briggs Th...</td>\n",
              "      <td>female</td>\n",
              "      <td>38.0</td>\n",
              "      <td>1</td>\n",
              "      <td>0</td>\n",
              "      <td>PC 17599</td>\n",
              "      <td>71.2833</td>\n",
              "      <td>C85</td>\n",
              "      <td>C</td>\n",
              "      <td>Ms</td>\n",
              "      <td>(20.315, 40.21]</td>\n",
              "      <td>(31.0, 512.329]</td>\n",
              "      <td>2.0</td>\n",
              "      <td>0.0</td>\n",
              "    </tr>\n",
              "    <tr>\n",
              "      <th>2</th>\n",
              "      <td>3</td>\n",
              "      <td>1</td>\n",
              "      <td>3</td>\n",
              "      <td>Heikkinen, Miss. Laina</td>\n",
              "      <td>female</td>\n",
              "      <td>26.0</td>\n",
              "      <td>0</td>\n",
              "      <td>0</td>\n",
              "      <td>STON/O2. 3101282</td>\n",
              "      <td>7.9250</td>\n",
              "      <td>NaN</td>\n",
              "      <td>S</td>\n",
              "      <td>Ms</td>\n",
              "      <td>(20.315, 40.21]</td>\n",
              "      <td>(7.91, 14.454]</td>\n",
              "      <td>1.0</td>\n",
              "      <td>1.0</td>\n",
              "    </tr>\n",
              "    <tr>\n",
              "      <th>3</th>\n",
              "      <td>4</td>\n",
              "      <td>1</td>\n",
              "      <td>1</td>\n",
              "      <td>Futrelle, Mrs. Jacques Heath (Lily May Peel)</td>\n",
              "      <td>female</td>\n",
              "      <td>35.0</td>\n",
              "      <td>1</td>\n",
              "      <td>0</td>\n",
              "      <td>113803</td>\n",
              "      <td>53.1000</td>\n",
              "      <td>C123</td>\n",
              "      <td>S</td>\n",
              "      <td>Ms</td>\n",
              "      <td>(20.315, 40.21]</td>\n",
              "      <td>(31.0, 512.329]</td>\n",
              "      <td>2.0</td>\n",
              "      <td>0.0</td>\n",
              "    </tr>\n",
              "    <tr>\n",
              "      <th>4</th>\n",
              "      <td>5</td>\n",
              "      <td>0</td>\n",
              "      <td>3</td>\n",
              "      <td>Allen, Mr. William Henry</td>\n",
              "      <td>male</td>\n",
              "      <td>35.0</td>\n",
              "      <td>0</td>\n",
              "      <td>0</td>\n",
              "      <td>373450</td>\n",
              "      <td>8.0500</td>\n",
              "      <td>NaN</td>\n",
              "      <td>S</td>\n",
              "      <td>Mr</td>\n",
              "      <td>(20.315, 40.21]</td>\n",
              "      <td>(7.91, 14.454]</td>\n",
              "      <td>1.0</td>\n",
              "      <td>1.0</td>\n",
              "    </tr>\n",
              "  </tbody>\n",
              "</table>\n",
              "</div>"
            ],
            "text/plain": [
              "   PassengerId  Survived  Pclass  \\\n",
              "0            1         0       3   \n",
              "1            2         1       1   \n",
              "2            3         1       3   \n",
              "3            4         1       1   \n",
              "4            5         0       3   \n",
              "\n",
              "                                                Name     Sex   Age  SibSp  \\\n",
              "0                            Braund, Mr. Owen Harris    male  22.0      1   \n",
              "1  Cumings, Mrs. John Bradley (Florence Briggs Th...  female  38.0      1   \n",
              "2                             Heikkinen, Miss. Laina  female  26.0      0   \n",
              "3       Futrelle, Mrs. Jacques Heath (Lily May Peel)  female  35.0      1   \n",
              "4                           Allen, Mr. William Henry    male  35.0      0   \n",
              "\n",
              "   Parch            Ticket     Fare Cabin Embarked Title   CategoricalAge  \\\n",
              "0      0         A/5 21171   7.2500   NaN        S    Mr  (20.315, 40.21]   \n",
              "1      0          PC 17599  71.2833   C85        C    Ms  (20.315, 40.21]   \n",
              "2      0  STON/O2. 3101282   7.9250   NaN        S    Ms  (20.315, 40.21]   \n",
              "3      0            113803  53.1000  C123        S    Ms  (20.315, 40.21]   \n",
              "4      0            373450   8.0500   NaN        S    Mr  (20.315, 40.21]   \n",
              "\n",
              "   CategoricalFare  Family Size  IsAlone  \n",
              "0   (-0.001, 7.91]          2.0      0.0  \n",
              "1  (31.0, 512.329]          2.0      0.0  \n",
              "2   (7.91, 14.454]          1.0      1.0  \n",
              "3  (31.0, 512.329]          2.0      0.0  \n",
              "4   (7.91, 14.454]          1.0      1.0  "
            ]
          },
          "execution_count": 74,
          "metadata": {},
          "output_type": "execute_result"
        }
      ],
      "source": [
        "df.head()"
      ]
    },
    {
      "cell_type": "code",
      "execution_count": null,
      "metadata": {
        "id": "gWey8ILTPV1J"
      },
      "outputs": [],
      "source": [
        "df['Sex']=df['Sex'].astype('category')\n",
        "df['Sex_encode']=df['Sex'].cat.codes\n",
        "df[\"Title\"]=df[\"Title\"].astype('category')  # convert to category\n",
        "df['Ttile_encode']=df[\"Title\"].cat.codes  # number is given to each category\n",
        "df[\"Embarked\"]=df[\"Embarked\"].astype('category')\n",
        "df['Embarked_encode']=df[\"Embarked\"].cat.codes\n",
        "df[\"CategoricalFare\"]=df[\"CategoricalFare\"].astype('category')\n",
        "df['CategoricalFare_encode']=df[\"CategoricalFare\"].cat.codes\n",
        "df[\"CategoricalAge\"]=df[\"CategoricalAge\"].astype('category')\n",
        "df['CategoricalAge_encode']=df[\"CategoricalAge\"].cat.codes"
      ]
    },
    {
      "cell_type": "code",
      "execution_count": null,
      "metadata": {
        "id": "m5aAmZfnPV1K",
        "outputId": "ddf079b2-2324-4e95-e16f-cde2e52ed32c"
      },
      "outputs": [
        {
          "data": {
            "text/plain": [
              "Index(['PassengerId', 'Survived', 'Pclass', 'Name', 'Sex', 'Age', 'SibSp',\n",
              "       'Parch', 'Ticket', 'Fare', 'Cabin', 'Embarked', 'Title',\n",
              "       'CategoricalAge', 'CategoricalFare', 'Family Size', 'IsAlone',\n",
              "       'Sex_encode', 'Ttile_encode', 'Embarked_encode',\n",
              "       'CategoricalFare_encode', 'CategoricalAge_encode'],\n",
              "      dtype='object')"
            ]
          },
          "execution_count": 76,
          "metadata": {},
          "output_type": "execute_result"
        }
      ],
      "source": [
        "df.columns"
      ]
    },
    {
      "cell_type": "code",
      "execution_count": null,
      "metadata": {
        "id": "wmjXTu5zPV1K"
      },
      "outputs": [],
      "source": [
        "drop_elements=['PassengerId','Name','Ticket','Cabin','SibSp','Parch',\\\n",
        "              'Sex','Age','Fare','Embarked','Title','CategoricalFare','CategoricalAge']\n",
        "df_cleaned=df.drop(drop_elements,axis=1)"
      ]
    },
    {
      "cell_type": "code",
      "execution_count": null,
      "metadata": {
        "id": "shhgNSYxPV1L",
        "outputId": "a4586530-260b-4d7e-82d7-f8c7849a140e"
      },
      "outputs": [
        {
          "data": {
            "text/html": [
              "<div>\n",
              "<style scoped>\n",
              "    .dataframe tbody tr th:only-of-type {\n",
              "        vertical-align: middle;\n",
              "    }\n",
              "\n",
              "    .dataframe tbody tr th {\n",
              "        vertical-align: top;\n",
              "    }\n",
              "\n",
              "    .dataframe thead th {\n",
              "        text-align: right;\n",
              "    }\n",
              "</style>\n",
              "<table border=\"1\" class=\"dataframe\">\n",
              "  <thead>\n",
              "    <tr style=\"text-align: right;\">\n",
              "      <th></th>\n",
              "      <th>Survived</th>\n",
              "      <th>Pclass</th>\n",
              "      <th>Family Size</th>\n",
              "      <th>IsAlone</th>\n",
              "      <th>Sex_encode</th>\n",
              "      <th>Ttile_encode</th>\n",
              "      <th>Embarked_encode</th>\n",
              "      <th>CategoricalFare_encode</th>\n",
              "      <th>CategoricalAge_encode</th>\n",
              "    </tr>\n",
              "  </thead>\n",
              "  <tbody>\n",
              "    <tr>\n",
              "      <th>0</th>\n",
              "      <td>0</td>\n",
              "      <td>3</td>\n",
              "      <td>2.0</td>\n",
              "      <td>0.0</td>\n",
              "      <td>1</td>\n",
              "      <td>1</td>\n",
              "      <td>2</td>\n",
              "      <td>0</td>\n",
              "      <td>1</td>\n",
              "    </tr>\n",
              "    <tr>\n",
              "      <th>1</th>\n",
              "      <td>1</td>\n",
              "      <td>1</td>\n",
              "      <td>2.0</td>\n",
              "      <td>0.0</td>\n",
              "      <td>0</td>\n",
              "      <td>2</td>\n",
              "      <td>0</td>\n",
              "      <td>3</td>\n",
              "      <td>1</td>\n",
              "    </tr>\n",
              "    <tr>\n",
              "      <th>2</th>\n",
              "      <td>1</td>\n",
              "      <td>3</td>\n",
              "      <td>1.0</td>\n",
              "      <td>1.0</td>\n",
              "      <td>0</td>\n",
              "      <td>2</td>\n",
              "      <td>2</td>\n",
              "      <td>1</td>\n",
              "      <td>1</td>\n",
              "    </tr>\n",
              "    <tr>\n",
              "      <th>3</th>\n",
              "      <td>1</td>\n",
              "      <td>1</td>\n",
              "      <td>2.0</td>\n",
              "      <td>0.0</td>\n",
              "      <td>0</td>\n",
              "      <td>2</td>\n",
              "      <td>2</td>\n",
              "      <td>3</td>\n",
              "      <td>1</td>\n",
              "    </tr>\n",
              "    <tr>\n",
              "      <th>4</th>\n",
              "      <td>0</td>\n",
              "      <td>3</td>\n",
              "      <td>1.0</td>\n",
              "      <td>1.0</td>\n",
              "      <td>1</td>\n",
              "      <td>1</td>\n",
              "      <td>2</td>\n",
              "      <td>1</td>\n",
              "      <td>1</td>\n",
              "    </tr>\n",
              "  </tbody>\n",
              "</table>\n",
              "</div>"
            ],
            "text/plain": [
              "   Survived  Pclass  Family Size  IsAlone  Sex_encode  Ttile_encode  \\\n",
              "0         0       3          2.0      0.0           1             1   \n",
              "1         1       1          2.0      0.0           0             2   \n",
              "2         1       3          1.0      1.0           0             2   \n",
              "3         1       1          2.0      0.0           0             2   \n",
              "4         0       3          1.0      1.0           1             1   \n",
              "\n",
              "   Embarked_encode  CategoricalFare_encode  CategoricalAge_encode  \n",
              "0                2                       0                      1  \n",
              "1                0                       3                      1  \n",
              "2                2                       1                      1  \n",
              "3                2                       3                      1  \n",
              "4                2                       1                      1  "
            ]
          },
          "execution_count": 78,
          "metadata": {},
          "output_type": "execute_result"
        }
      ],
      "source": [
        "df_cleaned.head()"
      ]
    },
    {
      "cell_type": "markdown",
      "metadata": {
        "id": "A1nW5zPbPV1M"
      },
      "source": [
        "# Save the cleaned data as a new csv file"
      ]
    },
    {
      "cell_type": "code",
      "execution_count": null,
      "metadata": {
        "id": "1Xha-ce9PV1M"
      },
      "outputs": [],
      "source": [
        "df_cleaned.to_csv(\"C:\\\\Users\\\\91963\\\\Desktop\\\\levina BDA\\\\SEMESTER 2\\\\Machine Learning\\\\titanic_cleaned.csv\")"
      ]
    },
    {
      "cell_type": "code",
      "execution_count": null,
      "metadata": {
        "id": "VpZ4lob1PV1N",
        "outputId": "11141efb-2877-452f-c677-42c6b7f18ac5"
      },
      "outputs": [
        {
          "data": {
            "text/plain": [
              "Index(['Survived', 'Pclass', 'Family Size', 'IsAlone', 'Sex_encode',\n",
              "       'Ttile_encode', 'Embarked_encode', 'CategoricalFare_encode',\n",
              "       'CategoricalAge_encode'],\n",
              "      dtype='object')"
            ]
          },
          "execution_count": 77,
          "metadata": {},
          "output_type": "execute_result"
        }
      ],
      "source": [
        "df_cleaned.columns"
      ]
    },
    {
      "cell_type": "code",
      "execution_count": null,
      "metadata": {
        "id": "rfjpMgH_PV1N"
      },
      "outputs": [],
      "source": [
        "df_cleaned=pd.read_csv(\"C:\\\\Users\\\\91963\\\\Desktop\\\\levina BDA\\\\SEMESTER 2\\\\Machine Learning\\\\titanic_cleaned.csv\",header=0)"
      ]
    },
    {
      "cell_type": "markdown",
      "metadata": {
        "id": "mpVRvl5qPV1O"
      },
      "source": [
        "# further analysis"
      ]
    },
    {
      "cell_type": "code",
      "execution_count": null,
      "metadata": {
        "id": "_zHpX0VLPV1O",
        "outputId": "f10932ad-f463-4c94-9198-9f4f534c2aea"
      },
      "outputs": [
        {
          "data": {
            "text/plain": [
              "0"
            ]
          },
          "execution_count": 133,
          "metadata": {},
          "output_type": "execute_result"
        }
      ],
      "source": [
        "# not required in titanic dataset\n",
        "sum(n<0 for n in df_cleaned.values.flatten()) # find how many negative values are there in my dataset"
      ]
    },
    {
      "cell_type": "code",
      "execution_count": null,
      "metadata": {
        "id": "CrnNgLEcPV1P"
      },
      "outputs": [],
      "source": [
        "df_cleaned[df_cleaned<0]=0 # replace negative values with 0"
      ]
    },
    {
      "cell_type": "code",
      "execution_count": null,
      "metadata": {
        "id": "o_13SuGPPV1P"
      },
      "outputs": [],
      "source": [
        "sum(n<0 for n in df_cleaned.values.flatten())"
      ]
    },
    {
      "cell_type": "markdown",
      "metadata": {
        "id": "kSIS2xjQPV1P"
      },
      "source": [
        "# Corelation"
      ]
    },
    {
      "cell_type": "code",
      "execution_count": null,
      "metadata": {
        "id": "noM2a_i6PV1Q",
        "outputId": "f2d3f90c-8e80-428d-e142-d1c0af87d598"
      },
      "outputs": [
        {
          "data": {
            "text/plain": [
              "<AxesSubplot:>"
            ]
          },
          "execution_count": 135,
          "metadata": {},
          "output_type": "execute_result"
        },
        {
          "data": {
            "image/png": "[encoded data removed]",
            "text/plain": [
              "<Figure size 1008x648 with 2 Axes>"
            ]
          },
          "metadata": {},
          "output_type": "display_data"
        }
      ],
      "source": [
        "plt.figure(figsize=(14,9))\n",
        "sns.heatmap(df_cleaned) # not a clear heatmap"
      ]
    },
    {
      "cell_type": "code",
      "execution_count": null,
      "metadata": {
        "id": "NPFKclIwPV1Q"
      },
      "outputs": [],
      "source": [
        "# getting clean heat map"
      ]
    },
    {
      "cell_type": "code",
      "execution_count": null,
      "metadata": {
        "id": "UjzO11cdPV1R",
        "outputId": "1b2b22d6-3b00-4875-d5fc-89f3a967f24b"
      },
      "outputs": [
        {
          "data": {
            "text/html": [
              "<div>\n",
              "<style scoped>\n",
              "    .dataframe tbody tr th:only-of-type {\n",
              "        vertical-align: middle;\n",
              "    }\n",
              "\n",
              "    .dataframe tbody tr th {\n",
              "        vertical-align: top;\n",
              "    }\n",
              "\n",
              "    .dataframe thead th {\n",
              "        text-align: right;\n",
              "    }\n",
              "</style>\n",
              "<table border=\"1\" class=\"dataframe\">\n",
              "  <thead>\n",
              "    <tr style=\"text-align: right;\">\n",
              "      <th></th>\n",
              "      <th>Survived</th>\n",
              "      <th>Pclass</th>\n",
              "      <th>Family Size</th>\n",
              "      <th>IsAlone</th>\n",
              "      <th>Sex_encode</th>\n",
              "      <th>Ttile_encode</th>\n",
              "      <th>Embarked_encode</th>\n",
              "      <th>CategoricalFare_encode</th>\n",
              "      <th>CategoricalAge_encode</th>\n",
              "    </tr>\n",
              "  </thead>\n",
              "  <tbody>\n",
              "    <tr>\n",
              "      <th>Survived</th>\n",
              "      <td>1.000000</td>\n",
              "      <td>-0.338481</td>\n",
              "      <td>0.016639</td>\n",
              "      <td>-0.115867</td>\n",
              "      <td>-0.543351</td>\n",
              "      <td>0.384104</td>\n",
              "      <td>-0.167675</td>\n",
              "      <td>0.299357</td>\n",
              "      <td>-0.063273</td>\n",
              "    </tr>\n",
              "    <tr>\n",
              "      <th>Pclass</th>\n",
              "      <td>-0.338481</td>\n",
              "      <td>1.000000</td>\n",
              "      <td>0.065997</td>\n",
              "      <td>0.076009</td>\n",
              "      <td>0.131900</td>\n",
              "      <td>-0.220274</td>\n",
              "      <td>0.162098</td>\n",
              "      <td>-0.634271</td>\n",
              "      <td>-0.304186</td>\n",
              "    </tr>\n",
              "    <tr>\n",
              "      <th>Family Size</th>\n",
              "      <td>0.016639</td>\n",
              "      <td>0.065997</td>\n",
              "      <td>1.000000</td>\n",
              "      <td>-0.653311</td>\n",
              "      <td>-0.200988</td>\n",
              "      <td>0.008279</td>\n",
              "      <td>0.066516</td>\n",
              "      <td>0.465396</td>\n",
              "      <td>-0.204928</td>\n",
              "    </tr>\n",
              "    <tr>\n",
              "      <th>IsAlone</th>\n",
              "      <td>-0.115867</td>\n",
              "      <td>0.076009</td>\n",
              "      <td>-0.653311</td>\n",
              "      <td>1.000000</td>\n",
              "      <td>0.203203</td>\n",
              "      <td>-0.064604</td>\n",
              "      <td>0.014697</td>\n",
              "      <td>-0.477382</td>\n",
              "      <td>0.105797</td>\n",
              "    </tr>\n",
              "    <tr>\n",
              "      <th>Sex_encode</th>\n",
              "      <td>-0.543351</td>\n",
              "      <td>0.131900</td>\n",
              "      <td>-0.200988</td>\n",
              "      <td>0.203203</td>\n",
              "      <td>1.000000</td>\n",
              "      <td>-0.792215</td>\n",
              "      <td>0.108262</td>\n",
              "      <td>-0.243613</td>\n",
              "      <td>0.090256</td>\n",
              "    </tr>\n",
              "    <tr>\n",
              "      <th>Ttile_encode</th>\n",
              "      <td>0.384104</td>\n",
              "      <td>-0.220274</td>\n",
              "      <td>0.008279</td>\n",
              "      <td>-0.064604</td>\n",
              "      <td>-0.792215</td>\n",
              "      <td>1.000000</td>\n",
              "      <td>-0.109681</td>\n",
              "      <td>0.173860</td>\n",
              "      <td>0.098710</td>\n",
              "    </tr>\n",
              "    <tr>\n",
              "      <th>Embarked_encode</th>\n",
              "      <td>-0.167675</td>\n",
              "      <td>0.162098</td>\n",
              "      <td>0.066516</td>\n",
              "      <td>0.014697</td>\n",
              "      <td>0.108262</td>\n",
              "      <td>-0.109681</td>\n",
              "      <td>1.000000</td>\n",
              "      <td>-0.098593</td>\n",
              "      <td>-0.001179</td>\n",
              "    </tr>\n",
              "    <tr>\n",
              "      <th>CategoricalFare_encode</th>\n",
              "      <td>0.299357</td>\n",
              "      <td>-0.634271</td>\n",
              "      <td>0.465396</td>\n",
              "      <td>-0.477382</td>\n",
              "      <td>-0.243613</td>\n",
              "      <td>0.173860</td>\n",
              "      <td>-0.098593</td>\n",
              "      <td>1.000000</td>\n",
              "      <td>0.085751</td>\n",
              "    </tr>\n",
              "    <tr>\n",
              "      <th>CategoricalAge_encode</th>\n",
              "      <td>-0.063273</td>\n",
              "      <td>-0.304186</td>\n",
              "      <td>-0.204928</td>\n",
              "      <td>0.105797</td>\n",
              "      <td>0.090256</td>\n",
              "      <td>0.098710</td>\n",
              "      <td>-0.001179</td>\n",
              "      <td>0.085751</td>\n",
              "      <td>1.000000</td>\n",
              "    </tr>\n",
              "  </tbody>\n",
              "</table>\n",
              "</div>"
            ],
            "text/plain": [
              "                        Survived    Pclass  Family Size   IsAlone  Sex_encode  \\\n",
              "Survived                1.000000 -0.338481     0.016639 -0.115867   -0.543351   \n",
              "Pclass                 -0.338481  1.000000     0.065997  0.076009    0.131900   \n",
              "Family Size             0.016639  0.065997     1.000000 -0.653311   -0.200988   \n",
              "IsAlone                -0.115867  0.076009    -0.653311  1.000000    0.203203   \n",
              "Sex_encode             -0.543351  0.131900    -0.200988  0.203203    1.000000   \n",
              "Ttile_encode            0.384104 -0.220274     0.008279 -0.064604   -0.792215   \n",
              "Embarked_encode        -0.167675  0.162098     0.066516  0.014697    0.108262   \n",
              "CategoricalFare_encode  0.299357 -0.634271     0.465396 -0.477382   -0.243613   \n",
              "CategoricalAge_encode  -0.063273 -0.304186    -0.204928  0.105797    0.090256   \n",
              "\n",
              "                        Ttile_encode  Embarked_encode  CategoricalFare_encode  \\\n",
              "Survived                    0.384104        -0.167675                0.299357   \n",
              "Pclass                     -0.220274         0.162098               -0.634271   \n",
              "Family Size                 0.008279         0.066516                0.465396   \n",
              "IsAlone                    -0.064604         0.014697               -0.477382   \n",
              "Sex_encode                 -0.792215         0.108262               -0.243613   \n",
              "Ttile_encode                1.000000        -0.109681                0.173860   \n",
              "Embarked_encode            -0.109681         1.000000               -0.098593   \n",
              "CategoricalFare_encode      0.173860        -0.098593                1.000000   \n",
              "CategoricalAge_encode       0.098710        -0.001179                0.085751   \n",
              "\n",
              "                        CategoricalAge_encode  \n",
              "Survived                            -0.063273  \n",
              "Pclass                              -0.304186  \n",
              "Family Size                         -0.204928  \n",
              "IsAlone                              0.105797  \n",
              "Sex_encode                           0.090256  \n",
              "Ttile_encode                         0.098710  \n",
              "Embarked_encode                     -0.001179  \n",
              "CategoricalFare_encode               0.085751  \n",
              "CategoricalAge_encode                1.000000  "
            ]
          },
          "execution_count": 136,
          "metadata": {},
          "output_type": "execute_result"
        }
      ],
      "source": [
        "# find corelation values\n",
        "corelation=df_cleaned.corr()\n",
        "corelation"
      ]
    },
    {
      "cell_type": "code",
      "execution_count": null,
      "metadata": {
        "id": "LSZB29osPV1R",
        "outputId": "77e5580c-c77a-4173-a0b8-cb0feece2ace"
      },
      "outputs": [
        {
          "data": {
            "text/plain": [
              "<AxesSubplot:>"
            ]
          },
          "execution_count": 137,
          "metadata": {},
          "output_type": "execute_result"
        },
        {
          "data": {
            "image/png": "[encoded data removed]",
            "text/plain": [
              "<Figure size 1008x720 with 2 Axes>"
            ]
          },
          "metadata": {},
          "output_type": "display_data"
        }
      ],
      "source": [
        "colormap=plt.cm.Blues\n",
        "plt.figure(figsize=(14,10))\n",
        "sns.heatmap(df_cleaned.corr(),cmap=colormap,annot=True,linewidths=0.2) # linewidth is line between each box\n",
        "#sns.heatmap(df_cleaned.corr(),cmap=colormap,linewidths=0.2) # no corelation values written in the box"
      ]
    },
    {
      "cell_type": "markdown",
      "metadata": {
        "id": "vwzG0JArPV1S"
      },
      "source": [
        "# Train and Test"
      ]
    },
    {
      "cell_type": "code",
      "execution_count": null,
      "metadata": {
        "id": "NMpFuct3PV1S",
        "outputId": "8b79b07f-ed53-40b8-8c97-e9ecbfd157e0"
      },
      "outputs": [
        {
          "data": {
            "text/html": [
              "<div>\n",
              "<style scoped>\n",
              "    .dataframe tbody tr th:only-of-type {\n",
              "        vertical-align: middle;\n",
              "    }\n",
              "\n",
              "    .dataframe tbody tr th {\n",
              "        vertical-align: top;\n",
              "    }\n",
              "\n",
              "    .dataframe thead th {\n",
              "        text-align: right;\n",
              "    }\n",
              "</style>\n",
              "<table border=\"1\" class=\"dataframe\">\n",
              "  <thead>\n",
              "    <tr style=\"text-align: right;\">\n",
              "      <th></th>\n",
              "      <th>Pclass</th>\n",
              "      <th>Family Size</th>\n",
              "      <th>IsAlone</th>\n",
              "      <th>Sex_encode</th>\n",
              "      <th>Ttile_encode</th>\n",
              "      <th>Embarked_encode</th>\n",
              "      <th>CategoricalFare_encode</th>\n",
              "      <th>CategoricalAge_encode</th>\n",
              "    </tr>\n",
              "  </thead>\n",
              "  <tbody>\n",
              "    <tr>\n",
              "      <th>0</th>\n",
              "      <td>3</td>\n",
              "      <td>2</td>\n",
              "      <td>0</td>\n",
              "      <td>1</td>\n",
              "      <td>1</td>\n",
              "      <td>2</td>\n",
              "      <td>0</td>\n",
              "      <td>1</td>\n",
              "    </tr>\n",
              "    <tr>\n",
              "      <th>1</th>\n",
              "      <td>1</td>\n",
              "      <td>2</td>\n",
              "      <td>0</td>\n",
              "      <td>0</td>\n",
              "      <td>2</td>\n",
              "      <td>0</td>\n",
              "      <td>3</td>\n",
              "      <td>1</td>\n",
              "    </tr>\n",
              "    <tr>\n",
              "      <th>2</th>\n",
              "      <td>3</td>\n",
              "      <td>1</td>\n",
              "      <td>1</td>\n",
              "      <td>0</td>\n",
              "      <td>2</td>\n",
              "      <td>2</td>\n",
              "      <td>1</td>\n",
              "      <td>1</td>\n",
              "    </tr>\n",
              "    <tr>\n",
              "      <th>3</th>\n",
              "      <td>1</td>\n",
              "      <td>2</td>\n",
              "      <td>0</td>\n",
              "      <td>0</td>\n",
              "      <td>2</td>\n",
              "      <td>2</td>\n",
              "      <td>3</td>\n",
              "      <td>1</td>\n",
              "    </tr>\n",
              "    <tr>\n",
              "      <th>4</th>\n",
              "      <td>3</td>\n",
              "      <td>1</td>\n",
              "      <td>1</td>\n",
              "      <td>1</td>\n",
              "      <td>1</td>\n",
              "      <td>2</td>\n",
              "      <td>1</td>\n",
              "      <td>1</td>\n",
              "    </tr>\n",
              "    <tr>\n",
              "      <th>...</th>\n",
              "      <td>...</td>\n",
              "      <td>...</td>\n",
              "      <td>...</td>\n",
              "      <td>...</td>\n",
              "      <td>...</td>\n",
              "      <td>...</td>\n",
              "      <td>...</td>\n",
              "      <td>...</td>\n",
              "    </tr>\n",
              "    <tr>\n",
              "      <th>886</th>\n",
              "      <td>2</td>\n",
              "      <td>1</td>\n",
              "      <td>1</td>\n",
              "      <td>1</td>\n",
              "      <td>3</td>\n",
              "      <td>2</td>\n",
              "      <td>1</td>\n",
              "      <td>1</td>\n",
              "    </tr>\n",
              "    <tr>\n",
              "      <th>887</th>\n",
              "      <td>1</td>\n",
              "      <td>1</td>\n",
              "      <td>1</td>\n",
              "      <td>0</td>\n",
              "      <td>2</td>\n",
              "      <td>2</td>\n",
              "      <td>2</td>\n",
              "      <td>0</td>\n",
              "    </tr>\n",
              "    <tr>\n",
              "      <th>888</th>\n",
              "      <td>3</td>\n",
              "      <td>4</td>\n",
              "      <td>0</td>\n",
              "      <td>0</td>\n",
              "      <td>2</td>\n",
              "      <td>2</td>\n",
              "      <td>2</td>\n",
              "      <td>1</td>\n",
              "    </tr>\n",
              "    <tr>\n",
              "      <th>889</th>\n",
              "      <td>1</td>\n",
              "      <td>1</td>\n",
              "      <td>1</td>\n",
              "      <td>1</td>\n",
              "      <td>1</td>\n",
              "      <td>0</td>\n",
              "      <td>2</td>\n",
              "      <td>1</td>\n",
              "    </tr>\n",
              "    <tr>\n",
              "      <th>890</th>\n",
              "      <td>3</td>\n",
              "      <td>1</td>\n",
              "      <td>1</td>\n",
              "      <td>1</td>\n",
              "      <td>1</td>\n",
              "      <td>1</td>\n",
              "      <td>0</td>\n",
              "      <td>1</td>\n",
              "    </tr>\n",
              "  </tbody>\n",
              "</table>\n",
              "<p>891 rows × 8 columns</p>\n",
              "</div>"
            ],
            "text/plain": [
              "     Pclass  Family Size  IsAlone  Sex_encode  Ttile_encode  Embarked_encode  \\\n",
              "0         3            2        0           1             1                2   \n",
              "1         1            2        0           0             2                0   \n",
              "2         3            1        1           0             2                2   \n",
              "3         1            2        0           0             2                2   \n",
              "4         3            1        1           1             1                2   \n",
              "..      ...          ...      ...         ...           ...              ...   \n",
              "886       2            1        1           1             3                2   \n",
              "887       1            1        1           0             2                2   \n",
              "888       3            4        0           0             2                2   \n",
              "889       1            1        1           1             1                0   \n",
              "890       3            1        1           1             1                1   \n",
              "\n",
              "     CategoricalFare_encode  CategoricalAge_encode  \n",
              "0                         0                      1  \n",
              "1                         3                      1  \n",
              "2                         1                      1  \n",
              "3                         3                      1  \n",
              "4                         1                      1  \n",
              "..                      ...                    ...  \n",
              "886                       1                      1  \n",
              "887                       2                      0  \n",
              "888                       2                      1  \n",
              "889                       2                      1  \n",
              "890                       0                      1  \n",
              "\n",
              "[891 rows x 8 columns]"
            ]
          },
          "execution_count": 138,
          "metadata": {},
          "output_type": "execute_result"
        }
      ],
      "source": [
        "X=df_cleaned.drop('Survived',axis=1) # all feature variables\n",
        "y=df_cleaned['Survived'] # only target variable\n",
        "\n",
        "X"
      ]
    },
    {
      "cell_type": "code",
      "execution_count": null,
      "metadata": {
        "id": "VacdyJ94PV1T",
        "outputId": "83c91be6-99e3-407d-9695-440eb5c4439f"
      },
      "outputs": [
        {
          "data": {
            "text/plain": [
              "0      0\n",
              "1      1\n",
              "2      1\n",
              "3      1\n",
              "4      0\n",
              "      ..\n",
              "886    0\n",
              "887    1\n",
              "888    0\n",
              "889    1\n",
              "890    0\n",
              "Name: Survived, Length: 891, dtype: int64"
            ]
          },
          "execution_count": 112,
          "metadata": {},
          "output_type": "execute_result"
        }
      ],
      "source": [
        "y"
      ]
    },
    {
      "cell_type": "code",
      "execution_count": null,
      "metadata": {
        "id": "oR2RHbTJPV1U"
      },
      "outputs": [],
      "source": [
        "from sklearn.model_selection import train_test_split\n",
        "X_train,X_test,y_train,y_test=train_test_split(X,y,test_size=0.33,random_state=1)"
      ]
    },
    {
      "cell_type": "code",
      "execution_count": null,
      "metadata": {
        "id": "XI-Ke0VlPV1V"
      },
      "outputs": [],
      "source": [
        "# other way (to select few columns for X)\n",
        "# from sklearn.model_selection import train_test_split\n",
        "# X_train,X_test,y_train,y_test=train_test_split(df_cleaned['Pclass','IsAlone'],df_cleaned['Survived'],test_size=0.33,random_state=1)"
      ]
    },
    {
      "cell_type": "code",
      "execution_count": null,
      "metadata": {
        "id": "qwyBQTAOPV1V",
        "outputId": "ffb28d82-505e-473e-ce5b-d858b31cae68"
      },
      "outputs": [
        {
          "data": {
            "text/plain": [
              "(array([21.43499992,  1.85684683,  4.34040598, 67.45491015, 24.386142  ,\n",
              "         8.18912488, 52.23550227,  1.84103771]),\n",
              " array([3.66028270e-06, 1.72989163e-01, 3.72180477e-02, 2.15560982e-16,\n",
              "        7.88337483e-07, 4.21422476e-03, 4.92280400e-13, 1.74829370e-01]))"
            ]
          },
          "execution_count": 140,
          "metadata": {},
          "output_type": "execute_result"
        }
      ],
      "source": [
        "from sklearn.feature_selection import SelectKBest\n",
        "from sklearn.feature_selection import chi2\n",
        "f_score=chi2(X_train,y_train)\n",
        "f_score\n",
        "# 1st output is f_score and 2nd output is p value (less value of p means more important feature)"
      ]
    },
    {
      "cell_type": "code",
      "execution_count": null,
      "metadata": {
        "id": "iJ4w0RZoPV1W"
      },
      "outputs": [],
      "source": [
        "# geting p value"
      ]
    },
    {
      "cell_type": "code",
      "execution_count": null,
      "metadata": {
        "id": "c9Z09n_pPV1W",
        "outputId": "ef1cd3ef-2b2c-4766-fed6-c03f85d5022e"
      },
      "outputs": [
        {
          "data": {
            "text/plain": [
              "array([3.66028270e-06, 1.72989163e-01, 3.72180477e-02, 2.15560982e-16,\n",
              "       7.88337483e-07, 4.21422476e-03, 4.92280400e-13, 1.74829370e-01])"
            ]
          },
          "execution_count": 141,
          "metadata": {},
          "output_type": "execute_result"
        }
      ],
      "source": [
        "pvalues=f_score[1]\n",
        "pvalues"
      ]
    },
    {
      "cell_type": "code",
      "execution_count": null,
      "metadata": {
        "id": "iA-UL0pQPV1X",
        "outputId": "639a0284-d13a-464a-fb65-016c34b389ab"
      },
      "outputs": [
        {
          "data": {
            "text/plain": [
              "Sex_encode                2.155610e-16\n",
              "CategoricalFare_encode    4.922804e-13\n",
              "Ttile_encode              7.883375e-07\n",
              "Pclass                    3.660283e-06\n",
              "Embarked_encode           4.214225e-03\n",
              "IsAlone                   3.721805e-02\n",
              "Family Size               1.729892e-01\n",
              "CategoricalAge_encode     1.748294e-01\n",
              "dtype: float64"
            ]
          },
          "execution_count": 142,
          "metadata": {},
          "output_type": "execute_result"
        }
      ],
      "source": [
        "# to get preference of atrributes\n",
        "pvalues=pd.Series(f_score[1]) # convert to series\n",
        "pvalues.index=X_train.columns # headings of X_train should be(at the beginning)index of pvalue\n",
        "pvalues.sort_values(ascending=True) # sort in increasing order"
      ]
    },
    {
      "cell_type": "code",
      "execution_count": null,
      "metadata": {
        "id": "M1fCd9lQPV1Y"
      },
      "outputs": [],
      "source": [
        "# visual display of best features"
      ]
    },
    {
      "cell_type": "code",
      "execution_count": null,
      "metadata": {
        "id": "-6vzWGy5PV1Y",
        "outputId": "29e60f6f-dd1f-4d29-ffd6-af59cd9f2a0f"
      },
      "outputs": [
        {
          "data": {
            "text/html": [
              "<div>\n",
              "<style scoped>\n",
              "    .dataframe tbody tr th:only-of-type {\n",
              "        vertical-align: middle;\n",
              "    }\n",
              "\n",
              "    .dataframe tbody tr th {\n",
              "        vertical-align: top;\n",
              "    }\n",
              "\n",
              "    .dataframe thead th {\n",
              "        text-align: right;\n",
              "    }\n",
              "</style>\n",
              "<table border=\"1\" class=\"dataframe\">\n",
              "  <thead>\n",
              "    <tr style=\"text-align: right;\">\n",
              "      <th></th>\n",
              "      <th>Pclass</th>\n",
              "      <th>Family Size</th>\n",
              "      <th>IsAlone</th>\n",
              "      <th>Sex_encode</th>\n",
              "      <th>Ttile_encode</th>\n",
              "      <th>Embarked_encode</th>\n",
              "      <th>CategoricalFare_encode</th>\n",
              "      <th>CategoricalAge_encode</th>\n",
              "    </tr>\n",
              "  </thead>\n",
              "  <tbody>\n",
              "  </tbody>\n",
              "</table>\n",
              "</div>"
            ],
            "text/plain": [
              "Empty DataFrame\n",
              "Columns: [Pclass, Family Size, IsAlone, Sex_encode, Ttile_encode, Embarked_encode, CategoricalFare_encode, CategoricalAge_encode]\n",
              "Index: []"
            ]
          },
          "execution_count": 143,
          "metadata": {},
          "output_type": "execute_result"
        }
      ],
      "source": [
        "X_train.head(0)# head(0) shows only headings\n",
        "# X_train.columns"
      ]
    },
    {
      "cell_type": "code",
      "execution_count": null,
      "metadata": {
        "id": "_JpyMDQFPV1Z",
        "outputId": "c47e56c0-e45f-4a61-e118-8fbfe6f8f470"
      },
      "outputs": [
        {
          "name": "stdout",
          "output_type": "stream",
          "text": [
            "Pclass : 21.43499992153376\n",
            "Family Size : 1.8568468275333463\n",
            "IsAlone : 4.3404059847408965\n",
            "Sex_encode : 67.45491014978268\n",
            "Ttile_encode : 24.386141996594638\n",
            "Embarked_encode : 8.189124876475793\n",
            "CategoricalFare_encode : 52.23550226590676\n",
            "CategoricalAge_encode : 1.8410377073906488\n"
          ]
        }
      ],
      "source": [
        "# another method to find importance of features\n",
        "from sklearn.feature_selection import SelectKBest,f_classif\n",
        "predictors=X_train.head(0)\n",
        "selector=SelectKBest(chi2,k='all') # k='all' means all values\n",
        "sf_fit=selector.fit(X_train,y_train)\n",
        "# print feature scores\n",
        "for i in range(len(sf_fit.scores_)): # scores means the number\n",
        "    print(X_train.columns[i],':', sf_fit.scores_[i])\n",
        "    #print(' %s: %f' % (X.columns[i], sf_fit.scores_[i]))"
      ]
    },
    {
      "cell_type": "code",
      "execution_count": null,
      "metadata": {
        "id": "KEDePpPCPV1a",
        "outputId": "f5c49584-7da1-491c-d893-8164b88454bc"
      },
      "outputs": [
        {
          "name": "stderr",
          "output_type": "stream",
          "text": [
            "c:\\python37\\lib\\site-packages\\seaborn\\_decorators.py:43: FutureWarning: Pass the following variables as keyword args: x, y. From version 0.12, the only valid positional argument will be `data`, and passing other arguments without an explicit keyword will result in an error or misinterpretation.\n",
            "  FutureWarning\n"
          ]
        },
        {
          "data": {
            "image/png": "[encoded data removed]",
            "text/plain": [
              "<Figure size 432x288 with 1 Axes>"
            ]
          },
          "metadata": {},
          "output_type": "display_data"
        }
      ],
      "source": [
        "dataset=pd.DataFrame() # blank dataframe\n",
        "dataset['feature']=X.columns[range(len(sf_fit.scores_))] # headings\n",
        "dataset['scores']=sf_fit.scores_ # values\n",
        "dataset=dataset.sort_values(by='scores',ascending=False) # sort in descending order\n",
        "sns.barplot(dataset['scores'],dataset['feature'],color='blue')\n",
        "#sns.set_style('whitegrid')\n",
        "plt.ylabel('Categorical Feature',fontsize=18)\n",
        "plt.xlabel('Score',fontsize=18)\n",
        "plt.show()"
      ]
    },
    {
      "cell_type": "code",
      "execution_count": null,
      "metadata": {
        "id": "0HqsZWcPPV1b"
      },
      "outputs": [],
      "source": [
        "# using f score strategy (high f score value is of more importance)"
      ]
    },
    {
      "cell_type": "code",
      "execution_count": null,
      "metadata": {
        "id": "NYgII1L0PV1b",
        "outputId": "d640a9cf-06ad-45df-cc5c-c1a93080a30a"
      },
      "outputs": [
        {
          "data": {
            "text/plain": [
              "Sex_encode                67.454910\n",
              "CategoricalFare_encode    52.235502\n",
              "Ttile_encode              24.386142\n",
              "Pclass                    21.435000\n",
              "Embarked_encode            8.189125\n",
              "IsAlone                    4.340406\n",
              "Family Size                1.856847\n",
              "CategoricalAge_encode      1.841038\n",
              "dtype: float64"
            ]
          },
          "execution_count": 146,
          "metadata": {},
          "output_type": "execute_result"
        }
      ],
      "source": [
        "fscore=pd.Series(f_score[0])\n",
        "fscore.index=X_train.columns\n",
        "fscr=fscore.sort_values(ascending=False)\n",
        "fscr"
      ]
    },
    {
      "cell_type": "code",
      "execution_count": null,
      "metadata": {
        "id": "Mk1MbyVePV1c",
        "outputId": "861fde74-87d4-4cdd-bfe3-8ea0f3a62c75"
      },
      "outputs": [
        {
          "data": {
            "text/plain": [
              "Index(['Pclass', 'IsAlone', 'Sex_encode', 'Ttile_encode', 'Embarked_encode',\n",
              "       'CategoricalFare_encode'],\n",
              "      dtype='object')"
            ]
          },
          "execution_count": 147,
          "metadata": {},
          "output_type": "execute_result"
        }
      ],
      "source": [
        "best=SelectKBest(chi2,k=6).fit(X_train,y_train)\n",
        "X_train.columns[best.get_support()]"
      ]
    },
    {
      "cell_type": "code",
      "execution_count": null,
      "metadata": {
        "id": "aT_Z8HLOPV1d"
      },
      "outputs": [],
      "source": [
        "X_train=best.transform(X_train) # remove other features\n",
        "X_test=best.transform(X_test) #(transorm means apply it only best 5 will be selected)"
      ]
    },
    {
      "cell_type": "code",
      "execution_count": null,
      "metadata": {
        "id": "GZpg__Y-PV1e",
        "outputId": "fcc8d345-1872-41ed-b8fe-82073cdc186a"
      },
      "outputs": [
        {
          "data": {
            "text/html": [
              "<div>\n",
              "<style scoped>\n",
              "    .dataframe tbody tr th:only-of-type {\n",
              "        vertical-align: middle;\n",
              "    }\n",
              "\n",
              "    .dataframe tbody tr th {\n",
              "        vertical-align: top;\n",
              "    }\n",
              "\n",
              "    .dataframe thead th {\n",
              "        text-align: right;\n",
              "    }\n",
              "</style>\n",
              "<table border=\"1\" class=\"dataframe\">\n",
              "  <thead>\n",
              "    <tr style=\"text-align: right;\">\n",
              "      <th></th>\n",
              "      <th>class_1</th>\n",
              "      <th>class_2</th>\n",
              "      <th>class_3</th>\n",
              "    </tr>\n",
              "  </thead>\n",
              "  <tbody>\n",
              "    <tr>\n",
              "      <th>0</th>\n",
              "      <td>0</td>\n",
              "      <td>0</td>\n",
              "      <td>1</td>\n",
              "    </tr>\n",
              "    <tr>\n",
              "      <th>1</th>\n",
              "      <td>1</td>\n",
              "      <td>0</td>\n",
              "      <td>0</td>\n",
              "    </tr>\n",
              "    <tr>\n",
              "      <th>2</th>\n",
              "      <td>0</td>\n",
              "      <td>0</td>\n",
              "      <td>1</td>\n",
              "    </tr>\n",
              "    <tr>\n",
              "      <th>3</th>\n",
              "      <td>1</td>\n",
              "      <td>0</td>\n",
              "      <td>0</td>\n",
              "    </tr>\n",
              "    <tr>\n",
              "      <th>4</th>\n",
              "      <td>0</td>\n",
              "      <td>0</td>\n",
              "      <td>1</td>\n",
              "    </tr>\n",
              "    <tr>\n",
              "      <th>...</th>\n",
              "      <td>...</td>\n",
              "      <td>...</td>\n",
              "      <td>...</td>\n",
              "    </tr>\n",
              "    <tr>\n",
              "      <th>886</th>\n",
              "      <td>0</td>\n",
              "      <td>1</td>\n",
              "      <td>0</td>\n",
              "    </tr>\n",
              "    <tr>\n",
              "      <th>887</th>\n",
              "      <td>1</td>\n",
              "      <td>0</td>\n",
              "      <td>0</td>\n",
              "    </tr>\n",
              "    <tr>\n",
              "      <th>888</th>\n",
              "      <td>0</td>\n",
              "      <td>0</td>\n",
              "      <td>1</td>\n",
              "    </tr>\n",
              "    <tr>\n",
              "      <th>889</th>\n",
              "      <td>1</td>\n",
              "      <td>0</td>\n",
              "      <td>0</td>\n",
              "    </tr>\n",
              "    <tr>\n",
              "      <th>890</th>\n",
              "      <td>0</td>\n",
              "      <td>0</td>\n",
              "      <td>1</td>\n",
              "    </tr>\n",
              "  </tbody>\n",
              "</table>\n",
              "<p>891 rows × 3 columns</p>\n",
              "</div>"
            ],
            "text/plain": [
              "     class_1  class_2  class_3\n",
              "0          0        0        1\n",
              "1          1        0        0\n",
              "2          0        0        1\n",
              "3          1        0        0\n",
              "4          0        0        1\n",
              "..       ...      ...      ...\n",
              "886        0        1        0\n",
              "887        1        0        0\n",
              "888        0        0        1\n",
              "889        1        0        0\n",
              "890        0        0        1\n",
              "\n",
              "[891 rows x 3 columns]"
            ]
          },
          "execution_count": 149,
          "metadata": {},
          "output_type": "execute_result"
        }
      ],
      "source": [
        "# converting into onehot encoding array i.e if it is 5th class out of 7 classes then it will become [0,0,0,0,1,0,0]\n",
        "pd.get_dummies(df_cleaned['Pclass'],prefix='class') # onehot encoding(machine should not give priority to higher number)"
      ]
    },
    {
      "cell_type": "code",
      "execution_count": null,
      "metadata": {
        "id": "EAqs_PjmPV1f"
      },
      "outputs": [],
      "source": [
        "df_cleaned=pd.concat([df_cleaned,pd.get_dummies(df_cleaned['Pclass'],prefix='class')],axis=1)"
      ]
    },
    {
      "cell_type": "code",
      "execution_count": null,
      "metadata": {
        "id": "Y0YLwRYkPV1f",
        "outputId": "46688a4c-f2c4-45a1-dddc-6ca2947fc660"
      },
      "outputs": [
        {
          "data": {
            "text/html": [
              "<div>\n",
              "<style scoped>\n",
              "    .dataframe tbody tr th:only-of-type {\n",
              "        vertical-align: middle;\n",
              "    }\n",
              "\n",
              "    .dataframe tbody tr th {\n",
              "        vertical-align: top;\n",
              "    }\n",
              "\n",
              "    .dataframe thead th {\n",
              "        text-align: right;\n",
              "    }\n",
              "</style>\n",
              "<table border=\"1\" class=\"dataframe\">\n",
              "  <thead>\n",
              "    <tr style=\"text-align: right;\">\n",
              "      <th></th>\n",
              "      <th>gender_0</th>\n",
              "      <th>gender_1</th>\n",
              "    </tr>\n",
              "  </thead>\n",
              "  <tbody>\n",
              "    <tr>\n",
              "      <th>0</th>\n",
              "      <td>0</td>\n",
              "      <td>1</td>\n",
              "    </tr>\n",
              "    <tr>\n",
              "      <th>1</th>\n",
              "      <td>1</td>\n",
              "      <td>0</td>\n",
              "    </tr>\n",
              "    <tr>\n",
              "      <th>2</th>\n",
              "      <td>1</td>\n",
              "      <td>0</td>\n",
              "    </tr>\n",
              "    <tr>\n",
              "      <th>3</th>\n",
              "      <td>1</td>\n",
              "      <td>0</td>\n",
              "    </tr>\n",
              "    <tr>\n",
              "      <th>4</th>\n",
              "      <td>0</td>\n",
              "      <td>1</td>\n",
              "    </tr>\n",
              "    <tr>\n",
              "      <th>...</th>\n",
              "      <td>...</td>\n",
              "      <td>...</td>\n",
              "    </tr>\n",
              "    <tr>\n",
              "      <th>886</th>\n",
              "      <td>0</td>\n",
              "      <td>1</td>\n",
              "    </tr>\n",
              "    <tr>\n",
              "      <th>887</th>\n",
              "      <td>1</td>\n",
              "      <td>0</td>\n",
              "    </tr>\n",
              "    <tr>\n",
              "      <th>888</th>\n",
              "      <td>1</td>\n",
              "      <td>0</td>\n",
              "    </tr>\n",
              "    <tr>\n",
              "      <th>889</th>\n",
              "      <td>0</td>\n",
              "      <td>1</td>\n",
              "    </tr>\n",
              "    <tr>\n",
              "      <th>890</th>\n",
              "      <td>0</td>\n",
              "      <td>1</td>\n",
              "    </tr>\n",
              "  </tbody>\n",
              "</table>\n",
              "<p>891 rows × 2 columns</p>\n",
              "</div>"
            ],
            "text/plain": [
              "     gender_0  gender_1\n",
              "0           0         1\n",
              "1           1         0\n",
              "2           1         0\n",
              "3           1         0\n",
              "4           0         1\n",
              "..        ...       ...\n",
              "886         0         1\n",
              "887         1         0\n",
              "888         1         0\n",
              "889         0         1\n",
              "890         0         1\n",
              "\n",
              "[891 rows x 2 columns]"
            ]
          },
          "execution_count": 151,
          "metadata": {},
          "output_type": "execute_result"
        }
      ],
      "source": [
        "pd.get_dummies(df_cleaned['Sex_encode'],prefix='gender')"
      ]
    },
    {
      "cell_type": "code",
      "execution_count": null,
      "metadata": {
        "id": "4fF-YsMRPV1g"
      },
      "outputs": [],
      "source": [
        "df_cleaned=pd.concat([df_cleaned,pd.get_dummies(df_cleaned['Sex_encode'],prefix='gender')],axis=1)"
      ]
    },
    {
      "cell_type": "code",
      "execution_count": null,
      "metadata": {
        "id": "yAtGbDLCPV1h"
      },
      "outputs": [],
      "source": [
        "df_cleaned=pd.concat([df_cleaned,pd.get_dummies(df_cleaned['Embarked_encode'],prefix='port')],axis=1)"
      ]
    },
    {
      "cell_type": "code",
      "execution_count": null,
      "metadata": {
        "id": "YsJdVBouPV1h",
        "outputId": "30331d62-a918-4c9e-b061-87bb46841c16"
      },
      "outputs": [
        {
          "data": {
            "text/html": [
              "<div>\n",
              "<style scoped>\n",
              "    .dataframe tbody tr th:only-of-type {\n",
              "        vertical-align: middle;\n",
              "    }\n",
              "\n",
              "    .dataframe tbody tr th {\n",
              "        vertical-align: top;\n",
              "    }\n",
              "\n",
              "    .dataframe thead th {\n",
              "        text-align: right;\n",
              "    }\n",
              "</style>\n",
              "<table border=\"1\" class=\"dataframe\">\n",
              "  <thead>\n",
              "    <tr style=\"text-align: right;\">\n",
              "      <th></th>\n",
              "      <th>Survived</th>\n",
              "      <th>Pclass</th>\n",
              "      <th>Family Size</th>\n",
              "      <th>IsAlone</th>\n",
              "      <th>Sex_encode</th>\n",
              "      <th>Ttile_encode</th>\n",
              "      <th>Embarked_encode</th>\n",
              "      <th>CategoricalFare_encode</th>\n",
              "      <th>CategoricalAge_encode</th>\n",
              "      <th>class_1</th>\n",
              "      <th>class_2</th>\n",
              "      <th>class_3</th>\n",
              "      <th>gender_0</th>\n",
              "      <th>gender_1</th>\n",
              "      <th>port_0</th>\n",
              "      <th>port_1</th>\n",
              "      <th>port_2</th>\n",
              "    </tr>\n",
              "  </thead>\n",
              "  <tbody>\n",
              "    <tr>\n",
              "      <th>0</th>\n",
              "      <td>0</td>\n",
              "      <td>3</td>\n",
              "      <td>2</td>\n",
              "      <td>0</td>\n",
              "      <td>1</td>\n",
              "      <td>1</td>\n",
              "      <td>2</td>\n",
              "      <td>0</td>\n",
              "      <td>1</td>\n",
              "      <td>0</td>\n",
              "      <td>0</td>\n",
              "      <td>1</td>\n",
              "      <td>0</td>\n",
              "      <td>1</td>\n",
              "      <td>0</td>\n",
              "      <td>0</td>\n",
              "      <td>1</td>\n",
              "    </tr>\n",
              "    <tr>\n",
              "      <th>1</th>\n",
              "      <td>1</td>\n",
              "      <td>1</td>\n",
              "      <td>2</td>\n",
              "      <td>0</td>\n",
              "      <td>0</td>\n",
              "      <td>2</td>\n",
              "      <td>0</td>\n",
              "      <td>3</td>\n",
              "      <td>1</td>\n",
              "      <td>1</td>\n",
              "      <td>0</td>\n",
              "      <td>0</td>\n",
              "      <td>1</td>\n",
              "      <td>0</td>\n",
              "      <td>1</td>\n",
              "      <td>0</td>\n",
              "      <td>0</td>\n",
              "    </tr>\n",
              "    <tr>\n",
              "      <th>2</th>\n",
              "      <td>1</td>\n",
              "      <td>3</td>\n",
              "      <td>1</td>\n",
              "      <td>1</td>\n",
              "      <td>0</td>\n",
              "      <td>2</td>\n",
              "      <td>2</td>\n",
              "      <td>1</td>\n",
              "      <td>1</td>\n",
              "      <td>0</td>\n",
              "      <td>0</td>\n",
              "      <td>1</td>\n",
              "      <td>1</td>\n",
              "      <td>0</td>\n",
              "      <td>0</td>\n",
              "      <td>0</td>\n",
              "      <td>1</td>\n",
              "    </tr>\n",
              "    <tr>\n",
              "      <th>3</th>\n",
              "      <td>1</td>\n",
              "      <td>1</td>\n",
              "      <td>2</td>\n",
              "      <td>0</td>\n",
              "      <td>0</td>\n",
              "      <td>2</td>\n",
              "      <td>2</td>\n",
              "      <td>3</td>\n",
              "      <td>1</td>\n",
              "      <td>1</td>\n",
              "      <td>0</td>\n",
              "      <td>0</td>\n",
              "      <td>1</td>\n",
              "      <td>0</td>\n",
              "      <td>0</td>\n",
              "      <td>0</td>\n",
              "      <td>1</td>\n",
              "    </tr>\n",
              "    <tr>\n",
              "      <th>4</th>\n",
              "      <td>0</td>\n",
              "      <td>3</td>\n",
              "      <td>1</td>\n",
              "      <td>1</td>\n",
              "      <td>1</td>\n",
              "      <td>1</td>\n",
              "      <td>2</td>\n",
              "      <td>1</td>\n",
              "      <td>1</td>\n",
              "      <td>0</td>\n",
              "      <td>0</td>\n",
              "      <td>1</td>\n",
              "      <td>0</td>\n",
              "      <td>1</td>\n",
              "      <td>0</td>\n",
              "      <td>0</td>\n",
              "      <td>1</td>\n",
              "    </tr>\n",
              "    <tr>\n",
              "      <th>...</th>\n",
              "      <td>...</td>\n",
              "      <td>...</td>\n",
              "      <td>...</td>\n",
              "      <td>...</td>\n",
              "      <td>...</td>\n",
              "      <td>...</td>\n",
              "      <td>...</td>\n",
              "      <td>...</td>\n",
              "      <td>...</td>\n",
              "      <td>...</td>\n",
              "      <td>...</td>\n",
              "      <td>...</td>\n",
              "      <td>...</td>\n",
              "      <td>...</td>\n",
              "      <td>...</td>\n",
              "      <td>...</td>\n",
              "      <td>...</td>\n",
              "    </tr>\n",
              "    <tr>\n",
              "      <th>886</th>\n",
              "      <td>0</td>\n",
              "      <td>2</td>\n",
              "      <td>1</td>\n",
              "      <td>1</td>\n",
              "      <td>1</td>\n",
              "      <td>3</td>\n",
              "      <td>2</td>\n",
              "      <td>1</td>\n",
              "      <td>1</td>\n",
              "      <td>0</td>\n",
              "      <td>1</td>\n",
              "      <td>0</td>\n",
              "      <td>0</td>\n",
              "      <td>1</td>\n",
              "      <td>0</td>\n",
              "      <td>0</td>\n",
              "      <td>1</td>\n",
              "    </tr>\n",
              "    <tr>\n",
              "      <th>887</th>\n",
              "      <td>1</td>\n",
              "      <td>1</td>\n",
              "      <td>1</td>\n",
              "      <td>1</td>\n",
              "      <td>0</td>\n",
              "      <td>2</td>\n",
              "      <td>2</td>\n",
              "      <td>2</td>\n",
              "      <td>0</td>\n",
              "      <td>1</td>\n",
              "      <td>0</td>\n",
              "      <td>0</td>\n",
              "      <td>1</td>\n",
              "      <td>0</td>\n",
              "      <td>0</td>\n",
              "      <td>0</td>\n",
              "      <td>1</td>\n",
              "    </tr>\n",
              "    <tr>\n",
              "      <th>888</th>\n",
              "      <td>0</td>\n",
              "      <td>3</td>\n",
              "      <td>4</td>\n",
              "      <td>0</td>\n",
              "      <td>0</td>\n",
              "      <td>2</td>\n",
              "      <td>2</td>\n",
              "      <td>2</td>\n",
              "      <td>1</td>\n",
              "      <td>0</td>\n",
              "      <td>0</td>\n",
              "      <td>1</td>\n",
              "      <td>1</td>\n",
              "      <td>0</td>\n",
              "      <td>0</td>\n",
              "      <td>0</td>\n",
              "      <td>1</td>\n",
              "    </tr>\n",
              "    <tr>\n",
              "      <th>889</th>\n",
              "      <td>1</td>\n",
              "      <td>1</td>\n",
              "      <td>1</td>\n",
              "      <td>1</td>\n",
              "      <td>1</td>\n",
              "      <td>1</td>\n",
              "      <td>0</td>\n",
              "      <td>2</td>\n",
              "      <td>1</td>\n",
              "      <td>1</td>\n",
              "      <td>0</td>\n",
              "      <td>0</td>\n",
              "      <td>0</td>\n",
              "      <td>1</td>\n",
              "      <td>1</td>\n",
              "      <td>0</td>\n",
              "      <td>0</td>\n",
              "    </tr>\n",
              "    <tr>\n",
              "      <th>890</th>\n",
              "      <td>0</td>\n",
              "      <td>3</td>\n",
              "      <td>1</td>\n",
              "      <td>1</td>\n",
              "      <td>1</td>\n",
              "      <td>1</td>\n",
              "      <td>1</td>\n",
              "      <td>0</td>\n",
              "      <td>1</td>\n",
              "      <td>0</td>\n",
              "      <td>0</td>\n",
              "      <td>1</td>\n",
              "      <td>0</td>\n",
              "      <td>1</td>\n",
              "      <td>0</td>\n",
              "      <td>1</td>\n",
              "      <td>0</td>\n",
              "    </tr>\n",
              "  </tbody>\n",
              "</table>\n",
              "<p>891 rows × 17 columns</p>\n",
              "</div>"
            ],
            "text/plain": [
              "     Survived  Pclass  Family Size  IsAlone  Sex_encode  Ttile_encode  \\\n",
              "0           0       3            2        0           1             1   \n",
              "1           1       1            2        0           0             2   \n",
              "2           1       3            1        1           0             2   \n",
              "3           1       1            2        0           0             2   \n",
              "4           0       3            1        1           1             1   \n",
              "..        ...     ...          ...      ...         ...           ...   \n",
              "886         0       2            1        1           1             3   \n",
              "887         1       1            1        1           0             2   \n",
              "888         0       3            4        0           0             2   \n",
              "889         1       1            1        1           1             1   \n",
              "890         0       3            1        1           1             1   \n",
              "\n",
              "     Embarked_encode  CategoricalFare_encode  CategoricalAge_encode  class_1  \\\n",
              "0                  2                       0                      1        0   \n",
              "1                  0                       3                      1        1   \n",
              "2                  2                       1                      1        0   \n",
              "3                  2                       3                      1        1   \n",
              "4                  2                       1                      1        0   \n",
              "..               ...                     ...                    ...      ...   \n",
              "886                2                       1                      1        0   \n",
              "887                2                       2                      0        1   \n",
              "888                2                       2                      1        0   \n",
              "889                0                       2                      1        1   \n",
              "890                1                       0                      1        0   \n",
              "\n",
              "     class_2  class_3  gender_0  gender_1  port_0  port_1  port_2  \n",
              "0          0        1         0         1       0       0       1  \n",
              "1          0        0         1         0       1       0       0  \n",
              "2          0        1         1         0       0       0       1  \n",
              "3          0        0         1         0       0       0       1  \n",
              "4          0        1         0         1       0       0       1  \n",
              "..       ...      ...       ...       ...     ...     ...     ...  \n",
              "886        1        0         0         1       0       0       1  \n",
              "887        0        0         1         0       0       0       1  \n",
              "888        0        1         1         0       0       0       1  \n",
              "889        0        0         0         1       1       0       0  \n",
              "890        0        1         0         1       0       1       0  \n",
              "\n",
              "[891 rows x 17 columns]"
            ]
          },
          "execution_count": 157,
          "metadata": {},
          "output_type": "execute_result"
        }
      ],
      "source": [
        "df_cleaned"
      ]
    },
    {
      "cell_type": "code",
      "execution_count": null,
      "metadata": {
        "id": "RXYU6IjYPV1i"
      },
      "outputs": [],
      "source": [
        "df_cleaned.drop(['Pclass','Embarked_encode','Sex_encode'],axis=1,inplace=True)"
      ]
    },
    {
      "cell_type": "code",
      "execution_count": null,
      "metadata": {
        "id": "fYpakggJPV1j",
        "outputId": "13a5f59a-be3d-46f6-9857-00e5d80d4479"
      },
      "outputs": [
        {
          "data": {
            "text/html": [
              "<div>\n",
              "<style scoped>\n",
              "    .dataframe tbody tr th:only-of-type {\n",
              "        vertical-align: middle;\n",
              "    }\n",
              "\n",
              "    .dataframe tbody tr th {\n",
              "        vertical-align: top;\n",
              "    }\n",
              "\n",
              "    .dataframe thead th {\n",
              "        text-align: right;\n",
              "    }\n",
              "</style>\n",
              "<table border=\"1\" class=\"dataframe\">\n",
              "  <thead>\n",
              "    <tr style=\"text-align: right;\">\n",
              "      <th></th>\n",
              "      <th>Survived</th>\n",
              "      <th>Family Size</th>\n",
              "      <th>IsAlone</th>\n",
              "      <th>Ttile_encode</th>\n",
              "      <th>CategoricalFare_encode</th>\n",
              "      <th>CategoricalAge_encode</th>\n",
              "      <th>class_1</th>\n",
              "      <th>class_2</th>\n",
              "      <th>class_3</th>\n",
              "      <th>gender_0</th>\n",
              "      <th>gender_1</th>\n",
              "      <th>port_0</th>\n",
              "      <th>port_1</th>\n",
              "      <th>port_2</th>\n",
              "    </tr>\n",
              "  </thead>\n",
              "  <tbody>\n",
              "    <tr>\n",
              "      <th>0</th>\n",
              "      <td>0</td>\n",
              "      <td>2</td>\n",
              "      <td>0</td>\n",
              "      <td>1</td>\n",
              "      <td>0</td>\n",
              "      <td>1</td>\n",
              "      <td>0</td>\n",
              "      <td>0</td>\n",
              "      <td>1</td>\n",
              "      <td>0</td>\n",
              "      <td>1</td>\n",
              "      <td>0</td>\n",
              "      <td>0</td>\n",
              "      <td>1</td>\n",
              "    </tr>\n",
              "    <tr>\n",
              "      <th>1</th>\n",
              "      <td>1</td>\n",
              "      <td>2</td>\n",
              "      <td>0</td>\n",
              "      <td>2</td>\n",
              "      <td>3</td>\n",
              "      <td>1</td>\n",
              "      <td>1</td>\n",
              "      <td>0</td>\n",
              "      <td>0</td>\n",
              "      <td>1</td>\n",
              "      <td>0</td>\n",
              "      <td>1</td>\n",
              "      <td>0</td>\n",
              "      <td>0</td>\n",
              "    </tr>\n",
              "    <tr>\n",
              "      <th>2</th>\n",
              "      <td>1</td>\n",
              "      <td>1</td>\n",
              "      <td>1</td>\n",
              "      <td>2</td>\n",
              "      <td>1</td>\n",
              "      <td>1</td>\n",
              "      <td>0</td>\n",
              "      <td>0</td>\n",
              "      <td>1</td>\n",
              "      <td>1</td>\n",
              "      <td>0</td>\n",
              "      <td>0</td>\n",
              "      <td>0</td>\n",
              "      <td>1</td>\n",
              "    </tr>\n",
              "    <tr>\n",
              "      <th>3</th>\n",
              "      <td>1</td>\n",
              "      <td>2</td>\n",
              "      <td>0</td>\n",
              "      <td>2</td>\n",
              "      <td>3</td>\n",
              "      <td>1</td>\n",
              "      <td>1</td>\n",
              "      <td>0</td>\n",
              "      <td>0</td>\n",
              "      <td>1</td>\n",
              "      <td>0</td>\n",
              "      <td>0</td>\n",
              "      <td>0</td>\n",
              "      <td>1</td>\n",
              "    </tr>\n",
              "    <tr>\n",
              "      <th>4</th>\n",
              "      <td>0</td>\n",
              "      <td>1</td>\n",
              "      <td>1</td>\n",
              "      <td>1</td>\n",
              "      <td>1</td>\n",
              "      <td>1</td>\n",
              "      <td>0</td>\n",
              "      <td>0</td>\n",
              "      <td>1</td>\n",
              "      <td>0</td>\n",
              "      <td>1</td>\n",
              "      <td>0</td>\n",
              "      <td>0</td>\n",
              "      <td>1</td>\n",
              "    </tr>\n",
              "    <tr>\n",
              "      <th>...</th>\n",
              "      <td>...</td>\n",
              "      <td>...</td>\n",
              "      <td>...</td>\n",
              "      <td>...</td>\n",
              "      <td>...</td>\n",
              "      <td>...</td>\n",
              "      <td>...</td>\n",
              "      <td>...</td>\n",
              "      <td>...</td>\n",
              "      <td>...</td>\n",
              "      <td>...</td>\n",
              "      <td>...</td>\n",
              "      <td>...</td>\n",
              "      <td>...</td>\n",
              "    </tr>\n",
              "    <tr>\n",
              "      <th>886</th>\n",
              "      <td>0</td>\n",
              "      <td>1</td>\n",
              "      <td>1</td>\n",
              "      <td>3</td>\n",
              "      <td>1</td>\n",
              "      <td>1</td>\n",
              "      <td>0</td>\n",
              "      <td>1</td>\n",
              "      <td>0</td>\n",
              "      <td>0</td>\n",
              "      <td>1</td>\n",
              "      <td>0</td>\n",
              "      <td>0</td>\n",
              "      <td>1</td>\n",
              "    </tr>\n",
              "    <tr>\n",
              "      <th>887</th>\n",
              "      <td>1</td>\n",
              "      <td>1</td>\n",
              "      <td>1</td>\n",
              "      <td>2</td>\n",
              "      <td>2</td>\n",
              "      <td>0</td>\n",
              "      <td>1</td>\n",
              "      <td>0</td>\n",
              "      <td>0</td>\n",
              "      <td>1</td>\n",
              "      <td>0</td>\n",
              "      <td>0</td>\n",
              "      <td>0</td>\n",
              "      <td>1</td>\n",
              "    </tr>\n",
              "    <tr>\n",
              "      <th>888</th>\n",
              "      <td>0</td>\n",
              "      <td>4</td>\n",
              "      <td>0</td>\n",
              "      <td>2</td>\n",
              "      <td>2</td>\n",
              "      <td>1</td>\n",
              "      <td>0</td>\n",
              "      <td>0</td>\n",
              "      <td>1</td>\n",
              "      <td>1</td>\n",
              "      <td>0</td>\n",
              "      <td>0</td>\n",
              "      <td>0</td>\n",
              "      <td>1</td>\n",
              "    </tr>\n",
              "    <tr>\n",
              "      <th>889</th>\n",
              "      <td>1</td>\n",
              "      <td>1</td>\n",
              "      <td>1</td>\n",
              "      <td>1</td>\n",
              "      <td>2</td>\n",
              "      <td>1</td>\n",
              "      <td>1</td>\n",
              "      <td>0</td>\n",
              "      <td>0</td>\n",
              "      <td>0</td>\n",
              "      <td>1</td>\n",
              "      <td>1</td>\n",
              "      <td>0</td>\n",
              "      <td>0</td>\n",
              "    </tr>\n",
              "    <tr>\n",
              "      <th>890</th>\n",
              "      <td>0</td>\n",
              "      <td>1</td>\n",
              "      <td>1</td>\n",
              "      <td>1</td>\n",
              "      <td>0</td>\n",
              "      <td>1</td>\n",
              "      <td>0</td>\n",
              "      <td>0</td>\n",
              "      <td>1</td>\n",
              "      <td>0</td>\n",
              "      <td>1</td>\n",
              "      <td>0</td>\n",
              "      <td>1</td>\n",
              "      <td>0</td>\n",
              "    </tr>\n",
              "  </tbody>\n",
              "</table>\n",
              "<p>891 rows × 14 columns</p>\n",
              "</div>"
            ],
            "text/plain": [
              "     Survived  Family Size  IsAlone  Ttile_encode  CategoricalFare_encode  \\\n",
              "0           0            2        0             1                       0   \n",
              "1           1            2        0             2                       3   \n",
              "2           1            1        1             2                       1   \n",
              "3           1            2        0             2                       3   \n",
              "4           0            1        1             1                       1   \n",
              "..        ...          ...      ...           ...                     ...   \n",
              "886         0            1        1             3                       1   \n",
              "887         1            1        1             2                       2   \n",
              "888         0            4        0             2                       2   \n",
              "889         1            1        1             1                       2   \n",
              "890         0            1        1             1                       0   \n",
              "\n",
              "     CategoricalAge_encode  class_1  class_2  class_3  gender_0  gender_1  \\\n",
              "0                        1        0        0        1         0         1   \n",
              "1                        1        1        0        0         1         0   \n",
              "2                        1        0        0        1         1         0   \n",
              "3                        1        1        0        0         1         0   \n",
              "4                        1        0        0        1         0         1   \n",
              "..                     ...      ...      ...      ...       ...       ...   \n",
              "886                      1        0        1        0         0         1   \n",
              "887                      0        1        0        0         1         0   \n",
              "888                      1        0        0        1         1         0   \n",
              "889                      1        1        0        0         0         1   \n",
              "890                      1        0        0        1         0         1   \n",
              "\n",
              "     port_0  port_1  port_2  \n",
              "0         0       0       1  \n",
              "1         1       0       0  \n",
              "2         0       0       1  \n",
              "3         0       0       1  \n",
              "4         0       0       1  \n",
              "..      ...     ...     ...  \n",
              "886       0       0       1  \n",
              "887       0       0       1  \n",
              "888       0       0       1  \n",
              "889       1       0       0  \n",
              "890       0       1       0  \n",
              "\n",
              "[891 rows x 14 columns]"
            ]
          },
          "execution_count": 159,
          "metadata": {},
          "output_type": "execute_result"
        }
      ],
      "source": [
        "df_cleaned"
      ]
    },
    {
      "cell_type": "code",
      "execution_count": null,
      "metadata": {
        "id": "6ueCeWn2PV1j"
      },
      "outputs": [],
      "source": [
        "df_cleaned.to_csv(\"C:\\\\Users\\\\91963\\\\Desktop\\\\levina BDA\\\\SEMESTER 2\\\\Machine Learning\\\\titanic_cleaned2.csv\")"
      ]
    },
    {
      "cell_type": "markdown",
      "metadata": {
        "id": "kcPHPHZCPV1k"
      },
      "source": [
        "# 23/3/21"
      ]
    },
    {
      "cell_type": "markdown",
      "metadata": {
        "id": "FQeaj_guPV1k"
      },
      "source": [
        "# CrossValidation"
      ]
    },
    {
      "cell_type": "code",
      "execution_count": null,
      "metadata": {
        "id": "quGTwNBYPV1l",
        "outputId": "40f8e911-a9f8-4dc0-e4da-108c911e7e9f"
      },
      "outputs": [
        {
          "name": "stdout",
          "output_type": "stream",
          "text": [
            "Cross Validation accuracy scores: [0.77777778 0.79365079 0.85714286 0.85483871 0.87096774 0.83870968\n",
            " 0.85483871 0.83870968 0.80645161 0.77419355]\n",
            "Cross Validation accuracy: 0.827 +/- 0.034\n"
          ]
        }
      ],
      "source": [
        "from sklearn.model_selection import cross_val_score\n",
        "from sklearn.pipeline import make_pipeline # very useful library\n",
        "from sklearn.preprocessing import StandardScaler\n",
        "#from sklearn.preprocessing import MinMaxScaler (can be used instead of standard scaler)\n",
        "#from sklearn.svm import SVC\n",
        "from sklearn.ensemble import RandomForestClassifier\n",
        "import pandas as pd\n",
        "import numpy as np\n",
        "#create an instance of Pipeline (sequence of steps)\n",
        "# only RandomForestClassifier can also be used\n",
        "pipeline=make_pipeline(StandardScaler(),RandomForestClassifier(n_estimators=100,max_depth=4)) # 100 is how many decision tree and 4 is subdivisions of a decision tree\n",
        "\n",
        "# Pass instance of pipeline and training and test data set\n",
        "# cv=10 represents the StratifiedKFold with 10 folds\n",
        "df_cleaned=pd.read_csv(\"C:\\\\Users\\\\91963\\\\Desktop\\\\levina BDA\\\\SEMESTER 2\\\\Machine Learning\\\\titanic_cleaned2.csv\",header=0)\n",
        "X=df_cleaned.drop(\"Survived\",axis=1) # all feature variables\n",
        "y=df_cleaned[\"Survived\"]   # only target variable\n",
        "from sklearn.model_selection import train_test_split\n",
        "X_train,X_test,y_train,y_test=train_test_split(X,y,test_size=0.3,random_state=1)\n",
        "scores=cross_val_score(pipeline,X=X_train,y=y_train,cv=10,n_jobs=1)  # divide into 10 parts and use 1 for testing\n",
        "print('Cross Validation accuracy scores: %s' % scores)\n",
        "print('Cross Validation accuracy: %.3f +/- %.3f' % (np.mean(scores),np.std(scores)))\n",
        "#print('mean and std dev are ',np.mean(scores),':',np.std(scores))"
      ]
    },
    {
      "cell_type": "code",
      "execution_count": null,
      "metadata": {
        "id": "zQGFNQVjPV1m"
      },
      "outputs": [],
      "source": []
    }
  ],
  "metadata": {
    "kernelspec": {
      "display_name": "Python 3",
      "language": "python",
      "name": "python3"
    },
    "language_info": {
      "codemirror_mode": {
        "name": "ipython",
        "version": 3
      },
      "file_extension": ".py",
      "mimetype": "text/x-python",
      "name": "python",
      "nbconvert_exporter": "python",
      "pygments_lexer": "ipython3",
      "version": "3.7.6"
    },
    "colab": {
      "provenance": []
    }
  },
  "nbformat": 4,
  "nbformat_minor": 0
}